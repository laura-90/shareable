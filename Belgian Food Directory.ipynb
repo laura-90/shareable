{
 "cells": [
  {
   "cell_type": "markdown",
   "metadata": {},
   "source": [
    "# BELGIAN EATING HABITS\n",
    "\n",
    "## SPARK - Group Assignment\n",
    "## Team B"
   ]
  },
  {
   "attachments": {},
   "cell_type": "markdown",
   "metadata": {},
   "source": [
    "# Table of Contents\n",
    "\n",
    "* [1. Pyspark enviroment setup](#1)\n",
    "* [2. Data source and Spark data abstraction (DataFrame) setup](#2)\n",
    "* [3. Dataset exploration](#3)\n",
    "* [4. Business Questions](#4)\n",
    " * [4.1. Find the oldest product](#4.1.)\n",
    " * [4.2. Find the newest product](#4.2.)\n",
    " * [4.3. Average product age](#4.3.)\n",
    " * [4.4. List of other countries where products are sold too](#4.4.)\n",
    " * [4.5. Identify category of products and the compute](#4.5.)\n",
    "     * [4.5.1. Number of products by category](#4.5.1.)\n",
    "     * [4.5.2. List containing names of products by category](#4.5.2.)     \n",
    " * [4.6. Identify traces and compute](#4.6.)\n",
    "     * [4.6.1. Number of products by trace](#4.6.1.)\n",
    "     * [4.6.2. List containing names of products by traces](#4.6.2.)    \n",
    " * [4.7. Data quality analysis on fields of interest](#4.7.)\n",
    "     * [4.7.1. Number of products with complete info](#4.7.1.)\n",
    "     * [4.7.2. % of products without complete analysis per 100g](#4.7.2.)\n",
    "     * [4.7.3. % of products without additives info](#4.7.3.)\n",
    "     * [4.7.4. % of products without traces info](#4.7.4.)     \n",
    " * [4.8. Data profiling on fields of interest](#4.8.)\n",
    "* [5. Healthy products Analysis](#5)\n"
   ]
  },
  {
   "cell_type": "code",
   "execution_count": null,
   "metadata": {},
   "outputs": [],
   "source": [
    "import sys\n",
    "!{sys.executable} -m pip install StringIO"
   ]
  },
  {
   "cell_type": "code",
   "execution_count": 1,
   "metadata": {},
   "outputs": [
    {
     "data": {
      "text/html": [
       "<style>.container { width:100% !important; }</style>"
      ],
      "text/plain": [
       "<IPython.core.display.HTML object>"
      ]
     },
     "metadata": {},
     "output_type": "display_data"
    },
    {
     "data": {
      "text/html": [
       "<style>.rendered_html { font-size: 14px; }</style>"
      ],
      "text/plain": [
       "<IPython.core.display.HTML object>"
      ]
     },
     "metadata": {},
     "output_type": "display_data"
    }
   ],
   "source": [
    "from IPython.core.display import display, HTML\n",
    "\n",
    "display(HTML(\"<style>.container { width:100% !important; }</style>\")) # Increase cell width\n",
    "display(HTML(\"<style>.rendered_html { font-size: 14px; }</style>\")) # Increase font size"
   ]
  },
  {
   "cell_type": "markdown",
   "metadata": {},
   "source": [
    "## 1. Pyspark enviroment setup\n",
    "<a id='1'></a>"
   ]
  },
  {
   "cell_type": "code",
   "execution_count": 110,
   "metadata": {},
   "outputs": [],
   "source": [
    "import findspark\n",
    "findspark.init()\n",
    "\n",
    "from pyspark.context import SparkContext\n",
    "from pyspark.sql.session import SparkSession\n",
    "\n",
    "from IPython.display import display, Markdown\n",
    "from pyspark.sql.functions import when, count, col, countDistinct, desc, first, lit, sum, count, round, explode, split, regexp_extract, isnan, countDistinct, avg, collect_list, expr\n",
    "import pyspark.sql.functions as f\n",
    "from pyspark.sql.types import *\n",
    "from pyspark.sql.window import Window\n",
    "from functools import reduce\n",
    "\n",
    "import PIL.Image\n",
    "#from PIL import Image\n",
    "import requests\n",
    "\n",
    "#libraries to implement the charts\n",
    "import matplotlib.pyplot as plt\n",
    "import matplotlib.dates as mdates\n",
    "import pandas as pd\n",
    "import numpy as np\n",
    "import seaborn as sns\n",
    "import datetime\n",
    "from IPython.display import Image\n",
    "\n",
    "\n",
    "sc = SparkContext.getOrCreate()\n",
    "spark = SparkSession(sc)"
   ]
  },
  {
   "cell_type": "markdown",
   "metadata": {},
   "source": [
    "## 2. Data source and Spark data abstraction (DataFrame) setup\n",
    "<a id='2'></a>"
   ]
  },
  {
   "cell_type": "code",
   "execution_count": 165,
   "metadata": {},
   "outputs": [],
   "source": [
    "df = spark.read \\\n",
    "                 .option(\"inferSchema\", \"true\") \\\n",
    "                 .option(\"header\", \"true\") \\\n",
    "                 .option(\"multiline\", \"true\") \\\n",
    "                 .option(\"quote\", '\"') \\\n",
    "                 .option(\"delimiter\", ',') \\\n",
    "                 .option(\"escape\", \"\\\\\") \\\n",
    "                 .option(\"escape\", '\"') \\\n",
    "                 .csv(\"en.openfoodfacts.org.products.Belgium.csv\")"
   ]
  },
  {
   "cell_type": "markdown",
   "metadata": {},
   "source": [
    "## 3. Dataset exploration\n",
    "<a id='3'></a>"
   ]
  },
  {
   "cell_type": "code",
   "execution_count": 4,
   "metadata": {},
   "outputs": [
    {
     "name": "stdout",
     "output_type": "stream",
     "text": [
      "root\n",
      " |-- code: double (nullable = true)\n",
      " |-- url: string (nullable = true)\n",
      " |-- creator: string (nullable = true)\n",
      " |-- created_t: integer (nullable = true)\n",
      " |-- created_datetime: timestamp (nullable = true)\n",
      " |-- last_modified_t: integer (nullable = true)\n",
      " |-- last_modified_datetime: timestamp (nullable = true)\n",
      " |-- product_name: string (nullable = true)\n",
      " |-- generic_name: string (nullable = true)\n",
      " |-- quantity: string (nullable = true)\n",
      " |-- packaging: string (nullable = true)\n",
      " |-- packaging_tags: string (nullable = true)\n",
      " |-- brands: string (nullable = true)\n",
      " |-- brands_tags: string (nullable = true)\n",
      " |-- categories: string (nullable = true)\n",
      " |-- categories_tags: string (nullable = true)\n",
      " |-- categories_en: string (nullable = true)\n",
      " |-- origins: string (nullable = true)\n",
      " |-- origins_tags: string (nullable = true)\n",
      " |-- manufacturing_places: string (nullable = true)\n",
      " |-- manufacturing_places_tags: string (nullable = true)\n",
      " |-- labels: string (nullable = true)\n",
      " |-- labels_tags: string (nullable = true)\n",
      " |-- labels_en: string (nullable = true)\n",
      " |-- emb_codes: string (nullable = true)\n",
      " |-- emb_codes_tags: string (nullable = true)\n",
      " |-- first_packaging_code_geo: string (nullable = true)\n",
      " |-- cities: string (nullable = true)\n",
      " |-- cities_tags: string (nullable = true)\n",
      " |-- purchase_places: string (nullable = true)\n",
      " |-- stores: string (nullable = true)\n",
      " |-- countries: string (nullable = true)\n",
      " |-- countries_tags: string (nullable = true)\n",
      " |-- countries_en: string (nullable = true)\n",
      " |-- ingredients_text: string (nullable = true)\n",
      " |-- allergens: string (nullable = true)\n",
      " |-- allergens_en: string (nullable = true)\n",
      " |-- traces: string (nullable = true)\n",
      " |-- traces_tags: string (nullable = true)\n",
      " |-- traces_en: string (nullable = true)\n",
      " |-- serving_size: string (nullable = true)\n",
      " |-- serving_quantity: string (nullable = true)\n",
      " |-- no_nutriments: string (nullable = true)\n",
      " |-- additives_n: string (nullable = true)\n",
      " |-- additives: string (nullable = true)\n",
      " |-- additives_tags: string (nullable = true)\n",
      " |-- additives_en: string (nullable = true)\n",
      " |-- ingredients_from_palm_oil_n: string (nullable = true)\n",
      " |-- ingredients_from_palm_oil: string (nullable = true)\n",
      " |-- ingredients_from_palm_oil_tags: string (nullable = true)\n",
      " |-- ingredients_that_may_be_from_palm_oil_n: string (nullable = true)\n",
      " |-- ingredients_that_may_be_from_palm_oil: string (nullable = true)\n",
      " |-- ingredients_that_may_be_from_palm_oil_tags: string (nullable = true)\n",
      " |-- nutriscore_score: string (nullable = true)\n",
      " |-- nutriscore_grade: string (nullable = true)\n",
      " |-- nova_group: string (nullable = true)\n",
      " |-- pnns_groups_1: string (nullable = true)\n",
      " |-- pnns_groups_2: string (nullable = true)\n",
      " |-- states: string (nullable = true)\n",
      " |-- states_tags: string (nullable = true)\n",
      " |-- states_en: string (nullable = true)\n",
      " |-- brand_owner: string (nullable = true)\n",
      " |-- main_category: string (nullable = true)\n",
      " |-- main_category_en: string (nullable = true)\n",
      " |-- image_url: string (nullable = true)\n",
      " |-- image_small_url: string (nullable = true)\n",
      " |-- image_ingredients_url: string (nullable = true)\n",
      " |-- image_ingredients_small_url: string (nullable = true)\n",
      " |-- image_nutrition_url: string (nullable = true)\n",
      " |-- image_nutrition_small_url: string (nullable = true)\n",
      " |-- energy-kj_100g: double (nullable = true)\n",
      " |-- energy-kcal_100g: double (nullable = true)\n",
      " |-- energy_100g: double (nullable = true)\n",
      " |-- energy-from-fat_100g: double (nullable = true)\n",
      " |-- fat_100g: double (nullable = true)\n",
      " |-- saturated-fat_100g: double (nullable = true)\n",
      " |-- -butyric-acid_100g: string (nullable = true)\n",
      " |-- -caproic-acid_100g: integer (nullable = true)\n",
      " |-- -caprylic-acid_100g: string (nullable = true)\n",
      " |-- -capric-acid_100g: string (nullable = true)\n",
      " |-- -lauric-acid_100g: string (nullable = true)\n",
      " |-- -myristic-acid_100g: string (nullable = true)\n",
      " |-- -palmitic-acid_100g: string (nullable = true)\n",
      " |-- -stearic-acid_100g: string (nullable = true)\n",
      " |-- -arachidic-acid_100g: double (nullable = true)\n",
      " |-- -behenic-acid_100g: string (nullable = true)\n",
      " |-- -lignoceric-acid_100g: string (nullable = true)\n",
      " |-- -cerotic-acid_100g: string (nullable = true)\n",
      " |-- -montanic-acid_100g: string (nullable = true)\n",
      " |-- -melissic-acid_100g: string (nullable = true)\n",
      " |-- monounsaturated-fat_100g: string (nullable = true)\n",
      " |-- polyunsaturated-fat_100g: string (nullable = true)\n",
      " |-- omega-3-fat_100g: double (nullable = true)\n",
      " |-- -alpha-linolenic-acid_100g: double (nullable = true)\n",
      " |-- -eicosapentaenoic-acid_100g: double (nullable = true)\n",
      " |-- -docosahexaenoic-acid_100g: double (nullable = true)\n",
      " |-- omega-6-fat_100g: double (nullable = true)\n",
      " |-- -linoleic-acid_100g: double (nullable = true)\n",
      " |-- -arachidonic-acid_100g: string (nullable = true)\n",
      " |-- -gamma-linolenic-acid_100g: double (nullable = true)\n",
      " |-- -dihomo-gamma-linolenic-acid_100g: string (nullable = true)\n",
      " |-- omega-9-fat_100g: double (nullable = true)\n",
      " |-- -oleic-acid_100g: string (nullable = true)\n",
      " |-- -elaidic-acid_100g: string (nullable = true)\n",
      " |-- -gondoic-acid_100g: string (nullable = true)\n",
      " |-- -mead-acid_100g: string (nullable = true)\n",
      " |-- -erucic-acid_100g: string (nullable = true)\n",
      " |-- -nervonic-acid_100g: string (nullable = true)\n",
      " |-- trans-fat_100g: double (nullable = true)\n",
      " |-- cholesterol_100g: double (nullable = true)\n",
      " |-- carbohydrates_100g: double (nullable = true)\n",
      " |-- sugars_100g: double (nullable = true)\n",
      " |-- -sucrose_100g: double (nullable = true)\n",
      " |-- -glucose_100g: double (nullable = true)\n",
      " |-- -fructose_100g: double (nullable = true)\n",
      " |-- -lactose_100g: double (nullable = true)\n",
      " |-- -maltose_100g: double (nullable = true)\n",
      " |-- -maltodextrins_100g: string (nullable = true)\n",
      " |-- starch_100g: double (nullable = true)\n",
      " |-- polyols_100g: double (nullable = true)\n",
      " |-- fiber_100g: double (nullable = true)\n",
      " |-- -soluble-fiber_100g: double (nullable = true)\n",
      " |-- -insoluble-fiber_100g: double (nullable = true)\n",
      " |-- proteins_100g: double (nullable = true)\n",
      " |-- casein_100g: string (nullable = true)\n",
      " |-- serum-proteins_100g: double (nullable = true)\n",
      " |-- nucleotides_100g: string (nullable = true)\n",
      " |-- salt_100g: double (nullable = true)\n",
      " |-- sodium_100g: double (nullable = true)\n",
      " |-- alcohol_100g: double (nullable = true)\n",
      " |-- vitamin-a_100g: double (nullable = true)\n",
      " |-- beta-carotene_100g: double (nullable = true)\n",
      " |-- vitamin-d_100g: double (nullable = true)\n",
      " |-- vitamin-e_100g: double (nullable = true)\n",
      " |-- vitamin-k_100g: double (nullable = true)\n",
      " |-- vitamin-c_100g: double (nullable = true)\n",
      " |-- vitamin-b1_100g: double (nullable = true)\n",
      " |-- vitamin-b2_100g: double (nullable = true)\n",
      " |-- vitamin-pp_100g: double (nullable = true)\n",
      " |-- vitamin-b6_100g: double (nullable = true)\n",
      " |-- vitamin-b9_100g: double (nullable = true)\n",
      " |-- folates_100g: double (nullable = true)\n",
      " |-- vitamin-b12_100g: double (nullable = true)\n",
      " |-- biotin_100g: double (nullable = true)\n",
      " |-- pantothenic-acid_100g: double (nullable = true)\n",
      " |-- silica_100g: double (nullable = true)\n",
      " |-- bicarbonate_100g: double (nullable = true)\n",
      " |-- potassium_100g: double (nullable = true)\n",
      " |-- chloride_100g: double (nullable = true)\n",
      " |-- calcium_100g: double (nullable = true)\n",
      " |-- phosphorus_100g: double (nullable = true)\n",
      " |-- iron_100g: double (nullable = true)\n",
      " |-- magnesium_100g: double (nullable = true)\n",
      " |-- zinc_100g: double (nullable = true)\n",
      " |-- copper_100g: double (nullable = true)\n",
      " |-- manganese_100g: double (nullable = true)\n",
      " |-- fluoride_100g: double (nullable = true)\n",
      " |-- selenium_100g: double (nullable = true)\n",
      " |-- chromium_100g: double (nullable = true)\n",
      " |-- molybdenum_100g: double (nullable = true)\n",
      " |-- iodine_100g: double (nullable = true)\n",
      " |-- caffeine_100g: double (nullable = true)\n",
      " |-- taurine_100g: double (nullable = true)\n",
      " |-- ph_100g: double (nullable = true)\n",
      " |-- fruits-vegetables-nuts_100g: double (nullable = true)\n",
      " |-- fruits-vegetables-nuts-dried_100g: double (nullable = true)\n",
      " |-- fruits-vegetables-nuts-estimate_100g: double (nullable = true)\n",
      " |-- collagen-meat-protein-ratio_100g: string (nullable = true)\n",
      " |-- cocoa_100g: double (nullable = true)\n",
      " |-- chlorophyl_100g: string (nullable = true)\n",
      " |-- carbon-footprint_100g: double (nullable = true)\n",
      " |-- carbon-footprint-from-meat-or-fish_100g: double (nullable = true)\n",
      " |-- nutrition-score-fr_100g: integer (nullable = true)\n",
      " |-- nutrition-score-uk_100g: integer (nullable = true)\n",
      " |-- glycemic-index_100g: string (nullable = true)\n",
      " |-- water-hardness_100g: string (nullable = true)\n",
      " |-- choline_100g: string (nullable = true)\n",
      " |-- phylloquinone_100g: double (nullable = true)\n",
      " |-- beta-glucan_100g: double (nullable = true)\n",
      " |-- inositol_100g: string (nullable = true)\n",
      " |-- carnitine_100g: string (nullable = true)\n",
      "\n"
     ]
    },
    {
     "data": {
      "text/markdown": [
       "This DataFrame has **51797 rows**."
      ],
      "text/plain": [
       "<IPython.core.display.Markdown object>"
      ]
     },
     "metadata": {},
     "output_type": "display_data"
    }
   ],
   "source": [
    "df.printSchema()\n",
    "display(Markdown(\"This DataFrame has **%d rows**.\" % df.count()))"
   ]
  },
  {
   "cell_type": "code",
   "execution_count": 5,
   "metadata": {},
   "outputs": [
    {
     "name": "stdout",
     "output_type": "stream",
     "text": [
      "-RECORD 0--------------------------------------------------------------------------------------------------------------------------------------------------------------------------------------------------------------------------------------------------------------------------------------------------------------------------------------------------------------------------------------------------------------------------------\n",
      " code                                       | 1518.0                                                                                                                                                                                                                                                                                                                                                                                     \n",
      " url                                        | http://world-en.openfoodfacts.org/product/000000001518/confiture-artisanale-de-raphael                                                                                                                                                                                                                                                                                                     \n",
      " creator                                    | kiliweb                                                                                                                                                                                                                                                                                                                                                                                    \n",
      " created_t                                  | 1570892958                                                                                                                                                                                                                                                                                                                                                                                 \n",
      " created_datetime                           | 2019-10-12 17:09:18                                                                                                                                                                                                                                                                                                                                                                        \n",
      " last_modified_t                            | 1570892960                                                                                                                                                                                                                                                                                                                                                                                 \n",
      " last_modified_datetime                     | 2019-10-12 17:09:20                                                                                                                                                                                                                                                                                                                                                                        \n",
      " product_name                               | Confiture artisanale de Raphaël                                                                                                                                                                                                                                                                                                                                                            \n",
      " generic_name                               | null                                                                                                                                                                                                                                                                                                                                                                                       \n",
      " quantity                                   | null                                                                                                                                                                                                                                                                                                                                                                                       \n",
      " packaging                                  | null                                                                                                                                                                                                                                                                                                                                                                                       \n",
      " packaging_tags                             | null                                                                                                                                                                                                                                                                                                                                                                                       \n",
      " brands                                     | null                                                                                                                                                                                                                                                                                                                                                                                       \n",
      " brands_tags                                | null                                                                                                                                                                                                                                                                                                                                                                                       \n",
      " categories                                 | null                                                                                                                                                                                                                                                                                                                                                                                       \n",
      " categories_tags                            | null                                                                                                                                                                                                                                                                                                                                                                                       \n",
      " categories_en                              | null                                                                                                                                                                                                                                                                                                                                                                                       \n",
      " origins                                    | null                                                                                                                                                                                                                                                                                                                                                                                       \n",
      " origins_tags                               | null                                                                                                                                                                                                                                                                                                                                                                                       \n",
      " manufacturing_places                       | null                                                                                                                                                                                                                                                                                                                                                                                       \n",
      " manufacturing_places_tags                  | null                                                                                                                                                                                                                                                                                                                                                                                       \n",
      " labels                                     | null                                                                                                                                                                                                                                                                                                                                                                                       \n",
      " labels_tags                                | null                                                                                                                                                                                                                                                                                                                                                                                       \n",
      " labels_en                                  | null                                                                                                                                                                                                                                                                                                                                                                                       \n",
      " emb_codes                                  | null                                                                                                                                                                                                                                                                                                                                                                                       \n",
      " emb_codes_tags                             | null                                                                                                                                                                                                                                                                                                                                                                                       \n",
      " first_packaging_code_geo                   | null                                                                                                                                                                                                                                                                                                                                                                                       \n",
      " cities                                     | null                                                                                                                                                                                                                                                                                                                                                                                       \n",
      " cities_tags                                | null                                                                                                                                                                                                                                                                                                                                                                                       \n",
      " purchase_places                            | null                                                                                                                                                                                                                                                                                                                                                                                       \n",
      " stores                                     | null                                                                                                                                                                                                                                                                                                                                                                                       \n",
      " countries                                  | en:be                                                                                                                                                                                                                                                                                                                                                                                      \n",
      " countries_tags                             | en:belgium                                                                                                                                                                                                                                                                                                                                                                                 \n",
      " countries_en                               | Belgium                                                                                                                                                                                                                                                                                                                                                                                    \n",
      " ingredients_text                           | null                                                                                                                                                                                                                                                                                                                                                                                       \n",
      " allergens                                  | null                                                                                                                                                                                                                                                                                                                                                                                       \n",
      " allergens_en                               | null                                                                                                                                                                                                                                                                                                                                                                                       \n",
      " traces                                     | null                                                                                                                                                                                                                                                                                                                                                                                       \n",
      " traces_tags                                | null                                                                                                                                                                                                                                                                                                                                                                                       \n",
      " traces_en                                  | null                                                                                                                                                                                                                                                                                                                                                                                       \n",
      " serving_size                               | null                                                                                                                                                                                                                                                                                                                                                                                       \n",
      " serving_quantity                           | null                                                                                                                                                                                                                                                                                                                                                                                       \n",
      " no_nutriments                              | null                                                                                                                                                                                                                                                                                                                                                                                       \n",
      " additives_n                                | null                                                                                                                                                                                                                                                                                                                                                                                       \n",
      " additives                                  | null                                                                                                                                                                                                                                                                                                                                                                                       \n",
      " additives_tags                             | null                                                                                                                                                                                                                                                                                                                                                                                       \n",
      " additives_en                               | null                                                                                                                                                                                                                                                                                                                                                                                       \n",
      " ingredients_from_palm_oil_n                | null                                                                                                                                                                                                                                                                                                                                                                                       \n",
      " ingredients_from_palm_oil                  | null                                                                                                                                                                                                                                                                                                                                                                                       \n",
      " ingredients_from_palm_oil_tags             | null                                                                                                                                                                                                                                                                                                                                                                                       \n",
      " ingredients_that_may_be_from_palm_oil_n    | null                                                                                                                                                                                                                                                                                                                                                                                       \n",
      " ingredients_that_may_be_from_palm_oil      | null                                                                                                                                                                                                                                                                                                                                                                                       \n",
      " ingredients_that_may_be_from_palm_oil_tags | null                                                                                                                                                                                                                                                                                                                                                                                       \n",
      " nutriscore_score                           | null                                                                                                                                                                                                                                                                                                                                                                                       \n",
      " nutriscore_grade                           | null                                                                                                                                                                                                                                                                                                                                                                                       \n",
      " nova_group                                 | null                                                                                                                                                                                                                                                                                                                                                                                       \n",
      " pnns_groups_1                              | unknown                                                                                                                                                                                                                                                                                                                                                                                    \n",
      " pnns_groups_2                              | unknown                                                                                                                                                                                                                                                                                                                                                                                    \n",
      " states                                     | en:to-be-completed, en:nutrition-facts-completed, en:ingredients-to-be-completed, en:expiration-date-to-be-completed, en:packaging-code-to-be-completed, en:characteristics-to-be-completed, en:categories-to-be-completed, en:brands-to-be-completed, en:packaging-to-be-completed, en:quantity-to-be-completed, en:product-name-completed, en:photos-to-be-validated, en:photos-uploaded \n",
      " states_tags                                | en:to-be-completed,en:nutrition-facts-completed,en:ingredients-to-be-completed,en:expiration-date-to-be-completed,en:packaging-code-to-be-completed,en:characteristics-to-be-completed,en:categories-to-be-completed,en:brands-to-be-completed,en:packaging-to-be-completed,en:quantity-to-be-completed,en:product-name-completed,en:photos-to-be-validated,en:photos-uploaded             \n",
      " states_en                                  | To be completed,Nutrition facts completed,Ingredients to be completed,Expiration date to be completed,Packaging code to be completed,Characteristics to be completed,Categories to be completed,Brands to be completed,Packaging to be completed,Quantity to be completed,Product name completed,Photos to be validated,Photos uploaded                                                    \n",
      " brand_owner                                | null                                                                                                                                                                                                                                                                                                                                                                                       \n",
      " main_category                              | null                                                                                                                                                                                                                                                                                                                                                                                       \n",
      " main_category_en                           | null                                                                                                                                                                                                                                                                                                                                                                                       \n",
      " image_url                                  | https://static.openfoodfacts.org/images/products/000/000/001/518/front_fr.3.400.jpg                                                                                                                                                                                                                                                                                                        \n",
      " image_small_url                            | https://static.openfoodfacts.org/images/products/000/000/001/518/front_fr.3.200.jpg                                                                                                                                                                                                                                                                                                        \n",
      " image_ingredients_url                      | null                                                                                                                                                                                                                                                                                                                                                                                       \n",
      " image_ingredients_small_url                | null                                                                                                                                                                                                                                                                                                                                                                                       \n",
      " image_nutrition_url                        | https://static.openfoodfacts.org/images/products/000/000/001/518/nutrition_fr.5.400.jpg                                                                                                                                                                                                                                                                                                    \n",
      " image_nutrition_small_url                  | https://static.openfoodfacts.org/images/products/000/000/001/518/nutrition_fr.5.200.jpg                                                                                                                                                                                                                                                                                                    \n",
      " energy-kj_100g                             | null                                                                                                                                                                                                                                                                                                                                                                                       \n",
      " energy-kcal_100g                           | 224.0                                                                                                                                                                                                                                                                                                                                                                                      \n",
      " energy_100g                                | 937.0                                                                                                                                                                                                                                                                                                                                                                                      \n",
      " energy-from-fat_100g                       | null                                                                                                                                                                                                                                                                                                                                                                                       \n",
      " fat_100g                                   | 0.1                                                                                                                                                                                                                                                                                                                                                                                        \n",
      " saturated-fat_100g                         | 0.0                                                                                                                                                                                                                                                                                                                                                                                        \n",
      " -butyric-acid_100g                         | null                                                                                                                                                                                                                                                                                                                                                                                       \n",
      " -caproic-acid_100g                         | null                                                                                                                                                                                                                                                                                                                                                                                       \n",
      " -caprylic-acid_100g                        | null                                                                                                                                                                                                                                                                                                                                                                                       \n",
      " -capric-acid_100g                          | null                                                                                                                                                                                                                                                                                                                                                                                       \n",
      " -lauric-acid_100g                          | null                                                                                                                                                                                                                                                                                                                                                                                       \n",
      " -myristic-acid_100g                        | null                                                                                                                                                                                                                                                                                                                                                                                       \n",
      " -palmitic-acid_100g                        | null                                                                                                                                                                                                                                                                                                                                                                                       \n",
      " -stearic-acid_100g                         | null                                                                                                                                                                                                                                                                                                                                                                                       \n",
      " -arachidic-acid_100g                       | null                                                                                                                                                                                                                                                                                                                                                                                       \n",
      " -behenic-acid_100g                         | null                                                                                                                                                                                                                                                                                                                                                                                       \n",
      " -lignoceric-acid_100g                      | null                                                                                                                                                                                                                                                                                                                                                                                       \n",
      " -cerotic-acid_100g                         | null                                                                                                                                                                                                                                                                                                                                                                                       \n",
      " -montanic-acid_100g                        | null                                                                                                                                                                                                                                                                                                                                                                                       \n",
      " -melissic-acid_100g                        | null                                                                                                                                                                                                                                                                                                                                                                                       \n",
      " monounsaturated-fat_100g                   | null                                                                                                                                                                                                                                                                                                                                                                                       \n",
      " polyunsaturated-fat_100g                   | null                                                                                                                                                                                                                                                                                                                                                                                       \n",
      " omega-3-fat_100g                           | null                                                                                                                                                                                                                                                                                                                                                                                       \n",
      " -alpha-linolenic-acid_100g                 | null                                                                                                                                                                                                                                                                                                                                                                                       \n",
      " -eicosapentaenoic-acid_100g                | null                                                                                                                                                                                                                                                                                                                                                                                       \n",
      " -docosahexaenoic-acid_100g                 | null                                                                                                                                                                                                                                                                                                                                                                                       \n",
      " omega-6-fat_100g                           | null                                                                                                                                                                                                                                                                                                                                                                                       \n",
      " -linoleic-acid_100g                        | null                                                                                                                                                                                                                                                                                                                                                                                       \n",
      " -arachidonic-acid_100g                     | null                                                                                                                                                                                                                                                                                                                                                                                       \n",
      " -gamma-linolenic-acid_100g                 | null                                                                                                                                                                                                                                                                                                                                                                                       \n",
      " -dihomo-gamma-linolenic-acid_100g          | null                                                                                                                                                                                                                                                                                                                                                                                       \n",
      " omega-9-fat_100g                           | null                                                                                                                                                                                                                                                                                                                                                                                       \n",
      " -oleic-acid_100g                           | null                                                                                                                                                                                                                                                                                                                                                                                       \n",
      " -elaidic-acid_100g                         | null                                                                                                                                                                                                                                                                                                                                                                                       \n",
      " -gondoic-acid_100g                         | null                                                                                                                                                                                                                                                                                                                                                                                       \n",
      " -mead-acid_100g                            | null                                                                                                                                                                                                                                                                                                                                                                                       \n",
      " -erucic-acid_100g                          | null                                                                                                                                                                                                                                                                                                                                                                                       \n",
      " -nervonic-acid_100g                        | null                                                                                                                                                                                                                                                                                                                                                                                       \n",
      " trans-fat_100g                             | null                                                                                                                                                                                                                                                                                                                                                                                       \n",
      " cholesterol_100g                           | null                                                                                                                                                                                                                                                                                                                                                                                       \n",
      " carbohydrates_100g                         | 55.0                                                                                                                                                                                                                                                                                                                                                                                       \n",
      " sugars_100g                                | 55.0                                                                                                                                                                                                                                                                                                                                                                                       \n",
      " -sucrose_100g                              | null                                                                                                                                                                                                                                                                                                                                                                                       \n",
      " -glucose_100g                              | null                                                                                                                                                                                                                                                                                                                                                                                       \n",
      " -fructose_100g                             | null                                                                                                                                                                                                                                                                                                                                                                                       \n",
      " -lactose_100g                              | null                                                                                                                                                                                                                                                                                                                                                                                       \n",
      " -maltose_100g                              | null                                                                                                                                                                                                                                                                                                                                                                                       \n",
      " -maltodextrins_100g                        | null                                                                                                                                                                                                                                                                                                                                                                                       \n",
      " starch_100g                                | null                                                                                                                                                                                                                                                                                                                                                                                       \n",
      " polyols_100g                               | null                                                                                                                                                                                                                                                                                                                                                                                       \n",
      " fiber_100g                                 | null                                                                                                                                                                                                                                                                                                                                                                                       \n",
      " -soluble-fiber_100g                        | null                                                                                                                                                                                                                                                                                                                                                                                       \n",
      " -insoluble-fiber_100g                      | null                                                                                                                                                                                                                                                                                                                                                                                       \n",
      " proteins_100g                              | 0.4                                                                                                                                                                                                                                                                                                                                                                                        \n",
      " casein_100g                                | null                                                                                                                                                                                                                                                                                                                                                                                       \n",
      " serum-proteins_100g                        | null                                                                                                                                                                                                                                                                                                                                                                                       \n",
      " nucleotides_100g                           | null                                                                                                                                                                                                                                                                                                                                                                                       \n",
      " salt_100g                                  | 0.0                                                                                                                                                                                                                                                                                                                                                                                        \n",
      " sodium_100g                                | 0.0                                                                                                                                                                                                                                                                                                                                                                                        \n",
      " alcohol_100g                               | null                                                                                                                                                                                                                                                                                                                                                                                       \n",
      " vitamin-a_100g                             | null                                                                                                                                                                                                                                                                                                                                                                                       \n",
      " beta-carotene_100g                         | null                                                                                                                                                                                                                                                                                                                                                                                       \n",
      " vitamin-d_100g                             | null                                                                                                                                                                                                                                                                                                                                                                                       \n",
      " vitamin-e_100g                             | null                                                                                                                                                                                                                                                                                                                                                                                       \n",
      " vitamin-k_100g                             | null                                                                                                                                                                                                                                                                                                                                                                                       \n",
      " vitamin-c_100g                             | null                                                                                                                                                                                                                                                                                                                                                                                       \n",
      " vitamin-b1_100g                            | null                                                                                                                                                                                                                                                                                                                                                                                       \n",
      " vitamin-b2_100g                            | null                                                                                                                                                                                                                                                                                                                                                                                       \n",
      " vitamin-pp_100g                            | null                                                                                                                                                                                                                                                                                                                                                                                       \n",
      " vitamin-b6_100g                            | null                                                                                                                                                                                                                                                                                                                                                                                       \n",
      " vitamin-b9_100g                            | null                                                                                                                                                                                                                                                                                                                                                                                       \n",
      " folates_100g                               | null                                                                                                                                                                                                                                                                                                                                                                                       \n",
      " vitamin-b12_100g                           | null                                                                                                                                                                                                                                                                                                                                                                                       \n",
      " biotin_100g                                | null                                                                                                                                                                                                                                                                                                                                                                                       \n",
      " pantothenic-acid_100g                      | null                                                                                                                                                                                                                                                                                                                                                                                       \n",
      " silica_100g                                | null                                                                                                                                                                                                                                                                                                                                                                                       \n",
      " bicarbonate_100g                           | null                                                                                                                                                                                                                                                                                                                                                                                       \n",
      " potassium_100g                             | null                                                                                                                                                                                                                                                                                                                                                                                       \n",
      " chloride_100g                              | null                                                                                                                                                                                                                                                                                                                                                                                       \n",
      " calcium_100g                               | null                                                                                                                                                                                                                                                                                                                                                                                       \n",
      " phosphorus_100g                            | null                                                                                                                                                                                                                                                                                                                                                                                       \n",
      " iron_100g                                  | null                                                                                                                                                                                                                                                                                                                                                                                       \n",
      " magnesium_100g                             | null                                                                                                                                                                                                                                                                                                                                                                                       \n",
      " zinc_100g                                  | null                                                                                                                                                                                                                                                                                                                                                                                       \n",
      " copper_100g                                | null                                                                                                                                                                                                                                                                                                                                                                                       \n",
      " manganese_100g                             | null                                                                                                                                                                                                                                                                                                                                                                                       \n",
      " fluoride_100g                              | null                                                                                                                                                                                                                                                                                                                                                                                       \n",
      " selenium_100g                              | null                                                                                                                                                                                                                                                                                                                                                                                       \n",
      " chromium_100g                              | null                                                                                                                                                                                                                                                                                                                                                                                       \n",
      " molybdenum_100g                            | null                                                                                                                                                                                                                                                                                                                                                                                       \n",
      " iodine_100g                                | null                                                                                                                                                                                                                                                                                                                                                                                       \n",
      " caffeine_100g                              | null                                                                                                                                                                                                                                                                                                                                                                                       \n",
      " taurine_100g                               | null                                                                                                                                                                                                                                                                                                                                                                                       \n",
      " ph_100g                                    | null                                                                                                                                                                                                                                                                                                                                                                                       \n",
      " fruits-vegetables-nuts_100g                | null                                                                                                                                                                                                                                                                                                                                                                                       \n",
      " fruits-vegetables-nuts-dried_100g          | null                                                                                                                                                                                                                                                                                                                                                                                       \n",
      " fruits-vegetables-nuts-estimate_100g       | null                                                                                                                                                                                                                                                                                                                                                                                       \n",
      " collagen-meat-protein-ratio_100g           | null                                                                                                                                                                                                                                                                                                                                                                                       \n",
      " cocoa_100g                                 | null                                                                                                                                                                                                                                                                                                                                                                                       \n",
      " chlorophyl_100g                            | null                                                                                                                                                                                                                                                                                                                                                                                       \n",
      " carbon-footprint_100g                      | null                                                                                                                                                                                                                                                                                                                                                                                       \n",
      " carbon-footprint-from-meat-or-fish_100g    | null                                                                                                                                                                                                                                                                                                                                                                                       \n",
      " nutrition-score-fr_100g                    | null                                                                                                                                                                                                                                                                                                                                                                                       \n",
      " nutrition-score-uk_100g                    | null                                                                                                                                                                                                                                                                                                                                                                                       \n",
      " glycemic-index_100g                        | null                                                                                                                                                                                                                                                                                                                                                                                       \n",
      " water-hardness_100g                        | null                                                                                                                                                                                                                                                                                                                                                                                       \n",
      " choline_100g                               | null                                                                                                                                                                                                                                                                                                                                                                                       \n",
      " phylloquinone_100g                         | null                                                                                                                                                                                                                                                                                                                                                                                       \n",
      " beta-glucan_100g                           | null                                                                                                                                                                                                                                                                                                                                                                                       \n",
      " inositol_100g                              | null                                                                                                                                                                                                                                                                                                                                                                                       \n",
      " carnitine_100g                             | null                                                                                                                                                                                                                                                                                                                                                                                       \n",
      "-RECORD 1--------------------------------------------------------------------------------------------------------------------------------------------------------------------------------------------------------------------------------------------------------------------------------------------------------------------------------------------------------------------------------------------------------------------------------\n",
      " code                                       | 741.0                                                                                                                                                                                                                                                                                                                                                                                      \n",
      " url                                        | http://world-en.openfoodfacts.org/product/00000741/salami                                                                                                                                                                                                                                                                                                                                  \n",
      " creator                                    | kiliweb                                                                                                                                                                                                                                                                                                                                                                                    \n",
      " created_t                                  | 1566988919                                                                                                                                                                                                                                                                                                                                                                                 \n",
      " created_datetime                           | 2019-08-28 12:41:59                                                                                                                                                                                                                                                                                                                                                                        \n",
      " last_modified_t                            | 1578834733                                                                                                                                                                                                                                                                                                                                                                                 \n",
      " last_modified_datetime                     | 2020-01-12 14:12:13                                                                                                                                                                                                                                                                                                                                                                        \n",
      " product_name                               | Salami                                                                                                                                                                                                                                                                                                                                                                                     \n",
      " generic_name                               | null                                                                                                                                                                                                                                                                                                                                                                                       \n",
      " quantity                                   | null                                                                                                                                                                                                                                                                                                                                                                                       \n",
      " packaging                                  | null                                                                                                                                                                                                                                                                                                                                                                                       \n",
      " packaging_tags                             | null                                                                                                                                                                                                                                                                                                                                                                                       \n",
      " brands                                     | null                                                                                                                                                                                                                                                                                                                                                                                       \n",
      " brands_tags                                | null                                                                                                                                                                                                                                                                                                                                                                                       \n",
      " categories                                 | Viandes, Charcuteries, Saucissons, Salamis                                                                                                                                                                                                                                                                                                                                                 \n",
      " categories_tags                            | en:meats,en:prepared-meats,fr:saucissons,en:salami                                                                                                                                                                                                                                                                                                                                         \n",
      " categories_en                              | Meats,Prepared meats,fr:saucissons,Salami                                                                                                                                                                                                                                                                                                                                                  \n",
      " origins                                    | null                                                                                                                                                                                                                                                                                                                                                                                       \n",
      " origins_tags                               | null                                                                                                                                                                                                                                                                                                                                                                                       \n",
      " manufacturing_places                       | null                                                                                                                                                                                                                                                                                                                                                                                       \n",
      " manufacturing_places_tags                  | null                                                                                                                                                                                                                                                                                                                                                                                       \n",
      " labels                                     | null                                                                                                                                                                                                                                                                                                                                                                                       \n",
      " labels_tags                                | null                                                                                                                                                                                                                                                                                                                                                                                       \n",
      " labels_en                                  | null                                                                                                                                                                                                                                                                                                                                                                                       \n",
      " emb_codes                                  | null                                                                                                                                                                                                                                                                                                                                                                                       \n",
      " emb_codes_tags                             | null                                                                                                                                                                                                                                                                                                                                                                                       \n",
      " first_packaging_code_geo                   | null                                                                                                                                                                                                                                                                                                                                                                                       \n",
      " cities                                     | null                                                                                                                                                                                                                                                                                                                                                                                       \n",
      " cities_tags                                | null                                                                                                                                                                                                                                                                                                                                                                                       \n",
      " purchase_places                            | null                                                                                                                                                                                                                                                                                                                                                                                       \n",
      " stores                                     | null                                                                                                                                                                                                                                                                                                                                                                                       \n",
      " countries                                  | en:be                                                                                                                                                                                                                                                                                                                                                                                      \n",
      " countries_tags                             | en:belgium                                                                                                                                                                                                                                                                                                                                                                                 \n",
      " countries_en                               | Belgium                                                                                                                                                                                                                                                                                                                                                                                    \n",
      " ingredients_text                           | null                                                                                                                                                                                                                                                                                                                                                                                       \n",
      " allergens                                  | null                                                                                                                                                                                                                                                                                                                                                                                       \n",
      " allergens_en                               | null                                                                                                                                                                                                                                                                                                                                                                                       \n",
      " traces                                     | null                                                                                                                                                                                                                                                                                                                                                                                       \n",
      " traces_tags                                | null                                                                                                                                                                                                                                                                                                                                                                                       \n",
      " traces_en                                  | null                                                                                                                                                                                                                                                                                                                                                                                       \n",
      " serving_size                               | null                                                                                                                                                                                                                                                                                                                                                                                       \n",
      " serving_quantity                           | null                                                                                                                                                                                                                                                                                                                                                                                       \n",
      " no_nutriments                              | null                                                                                                                                                                                                                                                                                                                                                                                       \n",
      " additives_n                                | null                                                                                                                                                                                                                                                                                                                                                                                       \n",
      " additives                                  | null                                                                                                                                                                                                                                                                                                                                                                                       \n",
      " additives_tags                             | null                                                                                                                                                                                                                                                                                                                                                                                       \n",
      " additives_en                               | null                                                                                                                                                                                                                                                                                                                                                                                       \n",
      " ingredients_from_palm_oil_n                | null                                                                                                                                                                                                                                                                                                                                                                                       \n",
      " ingredients_from_palm_oil                  | null                                                                                                                                                                                                                                                                                                                                                                                       \n",
      " ingredients_from_palm_oil_tags             | null                                                                                                                                                                                                                                                                                                                                                                                       \n",
      " ingredients_that_may_be_from_palm_oil_n    | null                                                                                                                                                                                                                                                                                                                                                                                       \n",
      " ingredients_that_may_be_from_palm_oil      | null                                                                                                                                                                                                                                                                                                                                                                                       \n",
      " ingredients_that_may_be_from_palm_oil_tags | null                                                                                                                                                                                                                                                                                                                                                                                       \n",
      " nutriscore_score                           | null                                                                                                                                                                                                                                                                                                                                                                                       \n",
      " nutriscore_grade                           | null                                                                                                                                                                                                                                                                                                                                                                                       \n",
      " nova_group                                 | null                                                                                                                                                                                                                                                                                                                                                                                       \n",
      " pnns_groups_1                              | Fish Meat Eggs                                                                                                                                                                                                                                                                                                                                                                             \n",
      " pnns_groups_2                              | Processed meat                                                                                                                                                                                                                                                                                                                                                                             \n",
      " states                                     | en:to-be-completed, en:nutrition-facts-to-be-completed, en:ingredients-to-be-completed, en:expiration-date-completed, en:packaging-code-to-be-completed, en:characteristics-to-be-completed, en:categories-completed, en:brands-to-be-completed, en:packaging-to-be-completed, en:quantity-to-be-completed, en:product-name-completed, en:photos-to-be-validated, en:photos-uploaded       \n",
      " states_tags                                | en:to-be-completed,en:nutrition-facts-to-be-completed,en:ingredients-to-be-completed,en:expiration-date-completed,en:packaging-code-to-be-completed,en:characteristics-to-be-completed,en:categories-completed,en:brands-to-be-completed,en:packaging-to-be-completed,en:quantity-to-be-completed,en:product-name-completed,en:photos-to-be-validated,en:photos-uploaded                   \n",
      " states_en                                  | To be completed,Nutrition facts to be completed,Ingredients to be completed,Expiration date completed,Packaging code to be completed,Characteristics to be completed,Categories completed,Brands to be completed,Packaging to be completed,Quantity to be completed,Product name completed,Photos to be validated,Photos uploaded                                                          \n",
      " brand_owner                                | null                                                                                                                                                                                                                                                                                                                                                                                       \n",
      " main_category                              | en:salami                                                                                                                                                                                                                                                                                                                                                                                  \n",
      " main_category_en                           | Salami                                                                                                                                                                                                                                                                                                                                                                                     \n",
      " image_url                                  | https://static.openfoodfacts.org/images/products/00000741/front_fr.3.400.jpg                                                                                                                                                                                                                                                                                                               \n",
      " image_small_url                            | https://static.openfoodfacts.org/images/products/00000741/front_fr.3.200.jpg                                                                                                                                                                                                                                                                                                               \n",
      " image_ingredients_url                      | null                                                                                                                                                                                                                                                                                                                                                                                       \n",
      " image_ingredients_small_url                | null                                                                                                                                                                                                                                                                                                                                                                                       \n",
      " image_nutrition_url                        | null                                                                                                                                                                                                                                                                                                                                                                                       \n",
      " image_nutrition_small_url                  | null                                                                                                                                                                                                                                                                                                                                                                                       \n",
      " energy-kj_100g                             | null                                                                                                                                                                                                                                                                                                                                                                                       \n",
      " energy-kcal_100g                           | null                                                                                                                                                                                                                                                                                                                                                                                       \n",
      " energy_100g                                | null                                                                                                                                                                                                                                                                                                                                                                                       \n",
      " energy-from-fat_100g                       | null                                                                                                                                                                                                                                                                                                                                                                                       \n",
      " fat_100g                                   | null                                                                                                                                                                                                                                                                                                                                                                                       \n",
      " saturated-fat_100g                         | null                                                                                                                                                                                                                                                                                                                                                                                       \n",
      " -butyric-acid_100g                         | null                                                                                                                                                                                                                                                                                                                                                                                       \n",
      " -caproic-acid_100g                         | null                                                                                                                                                                                                                                                                                                                                                                                       \n",
      " -caprylic-acid_100g                        | null                                                                                                                                                                                                                                                                                                                                                                                       \n",
      " -capric-acid_100g                          | null                                                                                                                                                                                                                                                                                                                                                                                       \n",
      " -lauric-acid_100g                          | null                                                                                                                                                                                                                                                                                                                                                                                       \n",
      " -myristic-acid_100g                        | null                                                                                                                                                                                                                                                                                                                                                                                       \n",
      " -palmitic-acid_100g                        | null                                                                                                                                                                                                                                                                                                                                                                                       \n",
      " -stearic-acid_100g                         | null                                                                                                                                                                                                                                                                                                                                                                                       \n",
      " -arachidic-acid_100g                       | null                                                                                                                                                                                                                                                                                                                                                                                       \n",
      " -behenic-acid_100g                         | null                                                                                                                                                                                                                                                                                                                                                                                       \n",
      " -lignoceric-acid_100g                      | null                                                                                                                                                                                                                                                                                                                                                                                       \n",
      " -cerotic-acid_100g                         | null                                                                                                                                                                                                                                                                                                                                                                                       \n",
      " -montanic-acid_100g                        | null                                                                                                                                                                                                                                                                                                                                                                                       \n",
      " -melissic-acid_100g                        | null                                                                                                                                                                                                                                                                                                                                                                                       \n",
      " monounsaturated-fat_100g                   | null                                                                                                                                                                                                                                                                                                                                                                                       \n",
      " polyunsaturated-fat_100g                   | null                                                                                                                                                                                                                                                                                                                                                                                       \n",
      " omega-3-fat_100g                           | null                                                                                                                                                                                                                                                                                                                                                                                       \n",
      " -alpha-linolenic-acid_100g                 | null                                                                                                                                                                                                                                                                                                                                                                                       \n",
      " -eicosapentaenoic-acid_100g                | null                                                                                                                                                                                                                                                                                                                                                                                       \n",
      " -docosahexaenoic-acid_100g                 | null                                                                                                                                                                                                                                                                                                                                                                                       \n",
      " omega-6-fat_100g                           | null                                                                                                                                                                                                                                                                                                                                                                                       \n",
      " -linoleic-acid_100g                        | null                                                                                                                                                                                                                                                                                                                                                                                       \n",
      " -arachidonic-acid_100g                     | null                                                                                                                                                                                                                                                                                                                                                                                       \n",
      " -gamma-linolenic-acid_100g                 | null                                                                                                                                                                                                                                                                                                                                                                                       \n",
      " -dihomo-gamma-linolenic-acid_100g          | null                                                                                                                                                                                                                                                                                                                                                                                       \n",
      " omega-9-fat_100g                           | null                                                                                                                                                                                                                                                                                                                                                                                       \n",
      " -oleic-acid_100g                           | null                                                                                                                                                                                                                                                                                                                                                                                       \n",
      " -elaidic-acid_100g                         | null                                                                                                                                                                                                                                                                                                                                                                                       \n",
      " -gondoic-acid_100g                         | null                                                                                                                                                                                                                                                                                                                                                                                       \n",
      " -mead-acid_100g                            | null                                                                                                                                                                                                                                                                                                                                                                                       \n",
      " -erucic-acid_100g                          | null                                                                                                                                                                                                                                                                                                                                                                                       \n",
      " -nervonic-acid_100g                        | null                                                                                                                                                                                                                                                                                                                                                                                       \n",
      " trans-fat_100g                             | null                                                                                                                                                                                                                                                                                                                                                                                       \n",
      " cholesterol_100g                           | null                                                                                                                                                                                                                                                                                                                                                                                       \n",
      " carbohydrates_100g                         | null                                                                                                                                                                                                                                                                                                                                                                                       \n",
      " sugars_100g                                | null                                                                                                                                                                                                                                                                                                                                                                                       \n",
      " -sucrose_100g                              | null                                                                                                                                                                                                                                                                                                                                                                                       \n",
      " -glucose_100g                              | null                                                                                                                                                                                                                                                                                                                                                                                       \n",
      " -fructose_100g                             | null                                                                                                                                                                                                                                                                                                                                                                                       \n",
      " -lactose_100g                              | null                                                                                                                                                                                                                                                                                                                                                                                       \n",
      " -maltose_100g                              | null                                                                                                                                                                                                                                                                                                                                                                                       \n",
      " -maltodextrins_100g                        | null                                                                                                                                                                                                                                                                                                                                                                                       \n",
      " starch_100g                                | null                                                                                                                                                                                                                                                                                                                                                                                       \n",
      " polyols_100g                               | null                                                                                                                                                                                                                                                                                                                                                                                       \n",
      " fiber_100g                                 | null                                                                                                                                                                                                                                                                                                                                                                                       \n",
      " -soluble-fiber_100g                        | null                                                                                                                                                                                                                                                                                                                                                                                       \n",
      " -insoluble-fiber_100g                      | null                                                                                                                                                                                                                                                                                                                                                                                       \n",
      " proteins_100g                              | null                                                                                                                                                                                                                                                                                                                                                                                       \n",
      " casein_100g                                | null                                                                                                                                                                                                                                                                                                                                                                                       \n",
      " serum-proteins_100g                        | null                                                                                                                                                                                                                                                                                                                                                                                       \n",
      " nucleotides_100g                           | null                                                                                                                                                                                                                                                                                                                                                                                       \n",
      " salt_100g                                  | null                                                                                                                                                                                                                                                                                                                                                                                       \n",
      " sodium_100g                                | null                                                                                                                                                                                                                                                                                                                                                                                       \n",
      " alcohol_100g                               | null                                                                                                                                                                                                                                                                                                                                                                                       \n",
      " vitamin-a_100g                             | null                                                                                                                                                                                                                                                                                                                                                                                       \n",
      " beta-carotene_100g                         | null                                                                                                                                                                                                                                                                                                                                                                                       \n",
      " vitamin-d_100g                             | null                                                                                                                                                                                                                                                                                                                                                                                       \n",
      " vitamin-e_100g                             | null                                                                                                                                                                                                                                                                                                                                                                                       \n",
      " vitamin-k_100g                             | null                                                                                                                                                                                                                                                                                                                                                                                       \n",
      " vitamin-c_100g                             | null                                                                                                                                                                                                                                                                                                                                                                                       \n",
      " vitamin-b1_100g                            | null                                                                                                                                                                                                                                                                                                                                                                                       \n",
      " vitamin-b2_100g                            | null                                                                                                                                                                                                                                                                                                                                                                                       \n",
      " vitamin-pp_100g                            | null                                                                                                                                                                                                                                                                                                                                                                                       \n",
      " vitamin-b6_100g                            | null                                                                                                                                                                                                                                                                                                                                                                                       \n",
      " vitamin-b9_100g                            | null                                                                                                                                                                                                                                                                                                                                                                                       \n",
      " folates_100g                               | null                                                                                                                                                                                                                                                                                                                                                                                       \n",
      " vitamin-b12_100g                           | null                                                                                                                                                                                                                                                                                                                                                                                       \n",
      " biotin_100g                                | null                                                                                                                                                                                                                                                                                                                                                                                       \n",
      " pantothenic-acid_100g                      | null                                                                                                                                                                                                                                                                                                                                                                                       \n",
      " silica_100g                                | null                                                                                                                                                                                                                                                                                                                                                                                       \n",
      " bicarbonate_100g                           | null                                                                                                                                                                                                                                                                                                                                                                                       \n",
      " potassium_100g                             | null                                                                                                                                                                                                                                                                                                                                                                                       \n",
      " chloride_100g                              | null                                                                                                                                                                                                                                                                                                                                                                                       \n",
      " calcium_100g                               | null                                                                                                                                                                                                                                                                                                                                                                                       \n",
      " phosphorus_100g                            | null                                                                                                                                                                                                                                                                                                                                                                                       \n",
      " iron_100g                                  | null                                                                                                                                                                                                                                                                                                                                                                                       \n",
      " magnesium_100g                             | null                                                                                                                                                                                                                                                                                                                                                                                       \n",
      " zinc_100g                                  | null                                                                                                                                                                                                                                                                                                                                                                                       \n",
      " copper_100g                                | null                                                                                                                                                                                                                                                                                                                                                                                       \n",
      " manganese_100g                             | null                                                                                                                                                                                                                                                                                                                                                                                       \n",
      " fluoride_100g                              | null                                                                                                                                                                                                                                                                                                                                                                                       \n",
      " selenium_100g                              | null                                                                                                                                                                                                                                                                                                                                                                                       \n",
      " chromium_100g                              | null                                                                                                                                                                                                                                                                                                                                                                                       \n",
      " molybdenum_100g                            | null                                                                                                                                                                                                                                                                                                                                                                                       \n",
      " iodine_100g                                | null                                                                                                                                                                                                                                                                                                                                                                                       \n",
      " caffeine_100g                              | null                                                                                                                                                                                                                                                                                                                                                                                       \n",
      " taurine_100g                               | null                                                                                                                                                                                                                                                                                                                                                                                       \n",
      " ph_100g                                    | null                                                                                                                                                                                                                                                                                                                                                                                       \n",
      " fruits-vegetables-nuts_100g                | null                                                                                                                                                                                                                                                                                                                                                                                       \n",
      " fruits-vegetables-nuts-dried_100g          | null                                                                                                                                                                                                                                                                                                                                                                                       \n",
      " fruits-vegetables-nuts-estimate_100g       | null                                                                                                                                                                                                                                                                                                                                                                                       \n",
      " collagen-meat-protein-ratio_100g           | null                                                                                                                                                                                                                                                                                                                                                                                       \n",
      " cocoa_100g                                 | null                                                                                                                                                                                                                                                                                                                                                                                       \n",
      " chlorophyl_100g                            | null                                                                                                                                                                                                                                                                                                                                                                                       \n",
      " carbon-footprint_100g                      | null                                                                                                                                                                                                                                                                                                                                                                                       \n",
      " carbon-footprint-from-meat-or-fish_100g    | null                                                                                                                                                                                                                                                                                                                                                                                       \n",
      " nutrition-score-fr_100g                    | null                                                                                                                                                                                                                                                                                                                                                                                       \n",
      " nutrition-score-uk_100g                    | null                                                                                                                                                                                                                                                                                                                                                                                       \n",
      " glycemic-index_100g                        | null                                                                                                                                                                                                                                                                                                                                                                                       \n",
      " water-hardness_100g                        | null                                                                                                                                                                                                                                                                                                                                                                                       \n",
      " choline_100g                               | null                                                                                                                                                                                                                                                                                                                                                                                       \n",
      " phylloquinone_100g                         | null                                                                                                                                                                                                                                                                                                                                                                                       \n",
      " beta-glucan_100g                           | null                                                                                                                                                                                                                                                                                                                                                                                       \n",
      " inositol_100g                              | null                                                                                                                                                                                                                                                                                                                                                                                       \n",
      " carnitine_100g                             | null                                                                                                                                                                                                                                                                                                                                                                                       \n",
      "only showing top 2 rows\n",
      "\n"
     ]
    }
   ],
   "source": [
    "df.cache() # optimization to make the processing faster\n",
    "df.sample(False, 0.1).show(n=2, truncate=False, vertical=True)"
   ]
  },
  {
   "cell_type": "markdown",
   "metadata": {},
   "source": [
    "Given that the field Product_name is one the on the most important fields we are going to base our analysis on, it doesn't makes sense to have Null product names in the dataset, so we drop them "
   ]
  },
  {
   "cell_type": "code",
   "execution_count": 166,
   "metadata": {},
   "outputs": [
    {
     "data": {
      "text/plain": [
       "1568"
      ]
     },
     "metadata": {},
     "output_type": "display_data"
    }
   ],
   "source": [
    "display(df.filter(col('Product_Name').isNull()).count())"
   ]
  },
  {
   "cell_type": "code",
   "execution_count": 167,
   "metadata": {},
   "outputs": [],
   "source": [
    "df = df.dropna(subset=('Product_name'))"
   ]
  },
  {
   "cell_type": "markdown",
   "metadata": {},
   "source": [
    "The '-' sign can give us some problems when doing column wise calculations, so we rename some columns to avoid this issue"
   ]
  },
  {
   "cell_type": "code",
   "execution_count": 168,
   "metadata": {},
   "outputs": [],
   "source": [
    "df = df.withColumnRenamed('Energy-kcal_100g', 'Energy_kcal_100g')\\\n",
    "       .withColumnRenamed('Saturated-fat_100g', 'Saturated_fat_100g')"
   ]
  },
  {
   "cell_type": "markdown",
   "metadata": {},
   "source": [
    "We create the summarized dataset with the fields of interest"
   ]
  },
  {
   "cell_type": "code",
   "execution_count": 169,
   "metadata": {},
   "outputs": [],
   "source": [
    "df_sum = df.select('Creator',\n",
    "'Created_datetime',\n",
    "'Last_modified_datetime',\n",
    "'code',                          \n",
    "'Product_name',\n",
    "'Countries_en',\n",
    "'Traces_en',\n",
    "'Additives_tags',\n",
    "'Main_category_en',\n",
    "'Image_url',\n",
    "'Quantity',\n",
    "'Packaging_tags',\n",
    "'Categories_en',\n",
    "'Ingredients_text',\n",
    "'Additives_en',\n",
    "'Energy_kcal_100g',\n",
    "'Fat_100g',\n",
    "'Saturated_fat_100g',\n",
    "'Sugars_100g',\n",
    "'Salt_100g',\n",
    "'sodium_100g')"
   ]
  },
  {
   "cell_type": "markdown",
   "metadata": {},
   "source": [
    "## 4. Business Questions\n",
    "<a id='4'></a>"
   ]
  },
  {
   "cell_type": "markdown",
   "metadata": {},
   "source": [
    "### 4.1. Find the oldest product\n",
    "<a id='4.1.'></a>"
   ]
  },
  {
   "cell_type": "code",
   "execution_count": 10,
   "metadata": {},
   "outputs": [
    {
     "data": {
      "text/html": [
       "<div>\n",
       "<style scoped>\n",
       "    .dataframe tbody tr th:only-of-type {\n",
       "        vertical-align: middle;\n",
       "    }\n",
       "\n",
       "    .dataframe tbody tr th {\n",
       "        vertical-align: top;\n",
       "    }\n",
       "\n",
       "    .dataframe thead th {\n",
       "        text-align: right;\n",
       "    }\n",
       "</style>\n",
       "<table border=\"1\" class=\"dataframe\">\n",
       "  <thead>\n",
       "    <tr style=\"text-align: right;\">\n",
       "      <th></th>\n",
       "      <th>Product_name</th>\n",
       "      <th>Created_datetime</th>\n",
       "      <th>creator</th>\n",
       "      <th>categories</th>\n",
       "    </tr>\n",
       "  </thead>\n",
       "  <tbody>\n",
       "    <tr>\n",
       "      <th>0</th>\n",
       "      <td>Lulu La Barquette Fraise</td>\n",
       "      <td>2012-02-11 16:07:23</td>\n",
       "      <td>marianne</td>\n",
       "      <td>Snacks, Snacks sucrés, Biscuits et gâteaux, Biscuits, Barquettes aux fruits, Biscuits à la fraise, Barquettes à la fraise</td>\n",
       "    </tr>\n",
       "  </tbody>\n",
       "</table>\n",
       "</div>"
      ],
      "text/plain": [
       "               Product_name    Created_datetime   creator  \\\n",
       "0  Lulu La Barquette Fraise 2012-02-11 16:07:23  marianne   \n",
       "\n",
       "                                                                                                                  categories  \n",
       "0  Snacks, Snacks sucrés, Biscuits et gâteaux, Biscuits, Barquettes aux fruits, Biscuits à la fraise, Barquettes à la fraise  "
      ]
     },
     "execution_count": 10,
     "metadata": {},
     "output_type": "execute_result"
    }
   ],
   "source": [
    "pd.set_option('display.max_colwidth', 200)\n",
    "df.select('Product_name','Created_datetime','creator','categories').orderBy('Created_datetime').limit(1).toPandas()"
   ]
  },
  {
   "cell_type": "code",
   "execution_count": 11,
   "metadata": {},
   "outputs": [
    {
     "data": {
      "image/png": "[encoded data removed]",
      "text/plain": [
       "<Figure size 432x288 with 1 Axes>"
      ]
     },
     "metadata": {
      "needs_background": "light"
     },
     "output_type": "display_data"
    }
   ],
   "source": [
    "url = df.select('image_url').orderBy('Created_datetime').limit(1).collect()[0]['image_url']\n",
    "\n",
    "response = requests.get(url, stream=True)\n",
    "img = PIL.Image.open(response.raw)\n",
    "\n",
    "plt.imshow(img)\n",
    "plt.show()"
   ]
  },
  {
   "cell_type": "markdown",
   "metadata": {},
   "source": [
    "### 4.2. Find the newest product\n",
    "<a id='4.2.'></a>"
   ]
  },
  {
   "cell_type": "code",
   "execution_count": 12,
   "metadata": {
    "scrolled": true
   },
   "outputs": [
    {
     "data": {
      "text/html": [
       "<div>\n",
       "<style scoped>\n",
       "    .dataframe tbody tr th:only-of-type {\n",
       "        vertical-align: middle;\n",
       "    }\n",
       "\n",
       "    .dataframe tbody tr th {\n",
       "        vertical-align: top;\n",
       "    }\n",
       "\n",
       "    .dataframe thead th {\n",
       "        text-align: right;\n",
       "    }\n",
       "</style>\n",
       "<table border=\"1\" class=\"dataframe\">\n",
       "  <thead>\n",
       "    <tr style=\"text-align: right;\">\n",
       "      <th></th>\n",
       "      <th>Product_name</th>\n",
       "      <th>Created_datetime</th>\n",
       "      <th>categories</th>\n",
       "    </tr>\n",
       "  </thead>\n",
       "  <tbody>\n",
       "    <tr>\n",
       "      <th>0</th>\n",
       "      <td>Andalouse</td>\n",
       "      <td>2020-09-13 03:23:53</td>\n",
       "      <td>None</td>\n",
       "    </tr>\n",
       "  </tbody>\n",
       "</table>\n",
       "</div>"
      ],
      "text/plain": [
       "  Product_name    Created_datetime categories\n",
       "0    Andalouse 2020-09-13 03:23:53       None"
      ]
     },
     "execution_count": 12,
     "metadata": {},
     "output_type": "execute_result"
    }
   ],
   "source": [
    "df.select('Product_name','Created_datetime','categories').orderBy('Created_datetime', ascending=False).limit(1).toPandas()"
   ]
  },
  {
   "cell_type": "code",
   "execution_count": 13,
   "metadata": {},
   "outputs": [
    {
     "data": {
      "image/png": "[encoded data removed]",
      "text/plain": [
       "<Figure size 432x288 with 1 Axes>"
      ]
     },
     "metadata": {
      "needs_background": "light"
     },
     "output_type": "display_data"
    }
   ],
   "source": [
    "url = df.select('image_url').orderBy('Created_datetime', ascending=False).limit(1).collect()[0]['image_url']\n",
    "\n",
    "response = requests.get(url, stream=True)\n",
    "img = PIL.Image.open(response.raw)\n",
    "\n",
    "\n",
    "plt.imshow(img)\n",
    "plt.show()"
   ]
  },
  {
   "cell_type": "markdown",
   "metadata": {},
   "source": [
    "### 4.3. Average product age\n",
    "<a id='4.3.'></a>\n",
    "\n",
    "where age means how long the product has been in the system"
   ]
  },
  {
   "cell_type": "code",
   "execution_count": 14,
   "metadata": {},
   "outputs": [
    {
     "name": "stdout",
     "output_type": "stream",
     "text": [
      "+--------------------+------------------+\n",
      "|        Product_name|days_since_created|\n",
      "+--------------------+------------------+\n",
      "|Confiture artisan...|               370|\n",
      "+--------------------+------------------+\n",
      "only showing top 1 row\n",
      "\n"
     ]
    }
   ],
   "source": [
    "#Set a fix date corresponding to the presentation date\n",
    "duedate = datetime.date(2020, 10, 16)\n",
    "\n",
    "# Add a column with the days since created\n",
    "df = df.withColumn('days_since_created', f.datediff(f.lit(duedate), col('created_datetime')))\n",
    "df.select('Product_name','days_since_created').show(1)"
   ]
  },
  {
   "cell_type": "code",
   "execution_count": 16,
   "metadata": {},
   "outputs": [
    {
     "name": "stdout",
     "output_type": "stream",
     "text": [
      "+-----------------------+\n",
      "|avg(days_since_created)|\n",
      "+-----------------------+\n",
      "|      665.7428178940453|\n",
      "+-----------------------+\n",
      "\n"
     ]
    }
   ],
   "source": [
    "# take the average of the new column created\n",
    "\n",
    "df.agg(avg(col(\"days_since_created\"))).show()"
   ]
  },
  {
   "cell_type": "markdown",
   "metadata": {},
   "source": [
    "### 4.4. List of other countries where products are sold too.\n",
    "<a id='4.4.'></a>"
   ]
  },
  {
   "cell_type": "code",
   "execution_count": 51,
   "metadata": {},
   "outputs": [
    {
     "data": {
      "text/markdown": [
       "There are **41447** distinct combinations of countries, being some of them:"
      ],
      "text/plain": [
       "<IPython.core.display.Markdown object>"
      ]
     },
     "metadata": {},
     "output_type": "display_data"
    },
    {
     "name": "stdout",
     "output_type": "stream",
     "text": [
      "+----------------------------------------------------------------------------------------------------+\n",
      "|                                                                                        countries_en|\n",
      "+----------------------------------------------------------------------------------------------------+\n",
      "|Canada,Germany,Italy,United States,Argentina-espanol,Armenia-pyсский,Aruba-espanol,Asia-pacific,A...|\n",
      "|                                                                          Belgium,Norway,Switzerland|\n",
      "|                                                                                     Belgium,Denmark|\n",
      "|   Algeria,Belgium,Croatia,Czech Republic,France,Morocco,Poland,Réunion,Romania,Slovakia,Switzerland|\n",
      "|                                           Belgium,France,Germany,Luxembourg,Netherlands,Switzerland|\n",
      "|                                      Belgium,Denmark,France,Germany,Italy,Norway,Sweden,Switzerland|\n",
      "|                               Austria,Belgium,Denmark,France,Germany,Netherlands,Sweden,Switzerland|\n",
      "|                                                    Belgium,France,Portugal,Spain,Switzerland,Turkey|\n",
      "|                                                           Belgium,France,Switzerland,United Kingdom|\n",
      "|                                                         Australia,Belgium,Germany,Spain,Switzerland|\n",
      "|                                                         Belgium,France,Martinique,Spain,Switzerland|\n",
      "|                       Austria,Belgium,France,Germany,Ireland,Netherlands,Switzerland,United Kingdom|\n",
      "|Austria,Canada,France,Italy,Mexico,United States,Argentina-espanol,Armenia-pyсский,Aruba-espanol,...|\n",
      "|                                                                                   Belgium,Indonesia|\n",
      "|                                       Belgium,France,Germany,Italy,Spain,Switzerland,United Kingdom|\n",
      "|                                             Belgium,France,Germany,Spain,Switzerland,United Kingdom|\n",
      "|                                                       Belgium,Germany,Netherlands,Spain,Switzerland|\n",
      "|                                                    Belgium,France,Japan,Luxembourg,Peru,Switzerland|\n",
      "|                                                                                     Belgium,Finland|\n",
      "|                                                                   Belgium,France,Luxembourg,Réunion|\n",
      "+----------------------------------------------------------------------------------------------------+\n",
      "only showing top 20 rows\n",
      "\n"
     ]
    }
   ],
   "source": [
    "# Explore field Countries_en\n",
    "countriesDF = df.select('Product_name',\"countries_en\").distinct()  \n",
    "\n",
    "display(Markdown(\"There are **%d** distinct combinations of countries, being some of them:\" % countriesDF.distinct().count()))\n",
    "\n",
    "countriesDF.select('countries_en').distinct().show(truncate=100)"
   ]
  },
  {
   "cell_type": "code",
   "execution_count": 52,
   "metadata": {},
   "outputs": [
    {
     "data": {
      "text/markdown": [
       "There are **228** distinct countries, being some of them:"
      ],
      "text/plain": [
       "<IPython.core.display.Markdown object>"
      ]
     },
     "metadata": {},
     "output_type": "display_data"
    },
    {
     "name": "stdout",
     "output_type": "stream",
     "text": [
      "+--------------------------------+\n",
      "|                    ex_countries|\n",
      "+--------------------------------+\n",
      "|                   Côte d'Ivoire|\n",
      "|              Middle-east-africa|\n",
      "|          Czech-republic-čeština|\n",
      "|                 Greece-ελληνικά|\n",
      "|                          Russia|\n",
      "|                  Hungary-magyar|\n",
      "|                  Romania-romană|\n",
      "|                  Hong-kong-粵語|\n",
      "|                   Malaysia-中文|\n",
      "|                         Senegal|\n",
      "|                          Sweden|\n",
      "|                         it:asia|\n",
      "|                          Jersey|\n",
      "|             New-zealand-english|\n",
      "|                  Russia-русский|\n",
      "|                       Singapore|\n",
      "|                        Malaysia|\n",
      "|                Malaysia-english|\n",
      "|                          Turkey|\n",
      "|              Costa-rica-espanol|\n",
      "|                   Moldova-roman|\n",
      "|                     fr:tyskland|\n",
      "|                 Cyprus-ελληνικά|\n",
      "|                it:smart-working|\n",
      "|                         Germany|\n",
      "|                          Europe|\n",
      "|                 France-francais|\n",
      "|                   Serbia-srpski|\n",
      "|              Belgium-nederlands|\n",
      "|                              En|\n",
      "|                        Cambodia|\n",
      "|                     Afghanistan|\n",
      "|              Portugal-portugues|\n",
      "|                     Taiwan-中文|\n",
      "|                    fr:frankrike|\n",
      "|              Azerbaijan-русский|\n",
      "|               Venezuela-espanol|\n",
      "|                   India-english|\n",
      "|                          France|\n",
      "|                 Lesotho-english|\n",
      "|                          Greece|\n",
      "|                 Austria-deutsch|\n",
      "|                      Frankreich|\n",
      "|             Ukraine-yкраї́нська|\n",
      "|           United-states-english|\n",
      "|                           nl:nn|\n",
      "|                          Taiwan|\n",
      "|                         Algeria|\n",
      "|                      China-中文|\n",
      "|                        Slovakia|\n",
      "|                           Macau|\n",
      "|                       Argentina|\n",
      "|                         Belgium|\n",
      "|                    Israel-עברית|\n",
      "|                  Italy-italiano|\n",
      "|                           Qatar|\n",
      "|                         Ecuador|\n",
      "|                 Georgia-ქართული|\n",
      "|                          Suisse|\n",
      "|                      pt:holanda|\n",
      "|               Guatemala-espanol|\n",
      "|             Switzerland-deutsch|\n",
      "|                         Albania|\n",
      "|                         Finland|\n",
      "|              it:shopping-online|\n",
      "|                   New Caledonia|\n",
      "|       fr:vereinigtes-konigreich|\n",
      "|                           Ghana|\n",
      "|                            Peru|\n",
      "|                   United States|\n",
      "|                           India|\n",
      "|                           China|\n",
      "|         Trinidad-tobago-english|\n",
      "|                 Ecuador-espanol|\n",
      "|                          Kuwait|\n",
      "|                           Malta|\n",
      "|              Bulgaria-български|\n",
      "|                           Chile|\n",
      "|                       Nederland|\n",
      "|                      Martinique|\n",
      "|              Cambodia-ភាសាខ្មែរ|\n",
      "|             Philippines-english|\n",
      "|                    Japan-日本語|\n",
      "|                         Croatia|\n",
      "|                Brazil-portugues|\n",
      "|North-macedonia-македонски-јазик|\n",
      "|                Colombia-espanol|\n",
      "|                         Andorra|\n",
      "|                         Bolivia|\n",
      "|                           Gabon|\n",
      "|                           Italy|\n",
      "|                   Spain-espanol|\n",
      "|                 Uruguay-espanol|\n",
      "|                         Réunion|\n",
      "|                       Lithuania|\n",
      "|                          Norway|\n",
      "|                           Spain|\n",
      "|                   Denmark-dansk|\n",
      "|       Saint Pierre and Miquelon|\n",
      "|                      Guadeloupe|\n",
      "+--------------------------------+\n",
      "only showing top 100 rows\n",
      "\n"
     ]
    }
   ],
   "source": [
    "# Convert string to list-like array\n",
    "countriesDF = countriesDF.withColumn('countries', split(countriesDF['countries_en'], ','))\n",
    "\n",
    "# Explode the values into new records\n",
    "ex_df = countriesDF.withColumn('ex_countries', explode(countriesDF['countries']))\n",
    "\n",
    "# Inspect the values\n",
    "display(Markdown(\"There are **%d** distinct countries, being some of them:\" % ex_df[[\"ex_countries\"]].distinct().count()))\n",
    "\n",
    "ex_df[['ex_countries']].distinct().show(100, truncate=50)"
   ]
  },
  {
   "cell_type": "markdown",
   "metadata": {},
   "source": [
    "##### As trying to separate out the actual list of countries from the mess that is being shown, we re-examined the original list of columns from the data and noticed that there is a column \"countries\". The analysis so far for the list of countries has been based on the column \"countries_en\" which was listed as a field of interest in the assignment instructions. Now we will redo the analysis with the \"countries\" column"
   ]
  },
  {
   "cell_type": "code",
   "execution_count": 53,
   "metadata": {},
   "outputs": [
    {
     "data": {
      "text/markdown": [
       "There are **1465** distinct combinations of countries, being some of them:"
      ],
      "text/plain": [
       "<IPython.core.display.Markdown object>"
      ]
     },
     "metadata": {},
     "output_type": "display_data"
    },
    {
     "name": "stdout",
     "output_type": "stream",
     "text": [
      "+------------------------------------------------------------------------+\n",
      "|                                                               countries|\n",
      "+------------------------------------------------------------------------+\n",
      "|                              France,Allemagne,Portugal,Espagne,Belgique|\n",
      "|                                           Bélgica,España,Estados Unidos|\n",
      "|                      Frankrijk,Italië,Nederland,Zwitserland, en:belgium|\n",
      "|                                 Belgique,France,Allemagne,Italie,Suisse|\n",
      "|                                       Belgium, Finland, France, Germany|\n",
      "|                                                          Belgium, India|\n",
      "|                                                         Belgio,en:italy|\n",
      "|                                                           België,Spanje|\n",
      "|                                                          Belgium, en:de|\n",
      "|                                     Belgique,France,Allemagne,en:france|\n",
      "|                                                       België, Nederland|\n",
      "|             Belgien, Frankreich, Spanien, Vereinigtes Königreich, en:de|\n",
      "|                                         Frankrijk,Nederland, en:belgium|\n",
      "|                                         Belgique, en:france, en:germany|\n",
      "|Bélgica,Francia,Alemania,Italia,México,Países Bajos,Reunión,España,Suiza|\n",
      "|                            Autriche,Belgique,France,Allemagne,en:france|\n",
      "|                                             France, Germany, en:belgium|\n",
      "|                                                   France, Italie, en:be|\n",
      "|                                                Belgique,France,Pays-Bas|\n",
      "|                                      France, en:switzerland, en:belgium|\n",
      "+------------------------------------------------------------------------+\n",
      "only showing top 20 rows\n",
      "\n"
     ]
    }
   ],
   "source": [
    "countriesDF2 = df.select(\"countries\").distinct()\n",
    "\n",
    "display(Markdown(\"There are **%d** distinct combinations of countries, being some of them:\" % countriesDF2.distinct().count()))\n",
    "\n",
    "countriesDF2.show(truncate=100)"
   ]
  },
  {
   "cell_type": "code",
   "execution_count": 54,
   "metadata": {},
   "outputs": [
    {
     "data": {
      "text/markdown": [
       "There are **772** distinct countries, being some of them:"
      ],
      "text/plain": [
       "<IPython.core.display.Markdown object>"
      ]
     },
     "metadata": {},
     "output_type": "display_data"
    },
    {
     "name": "stdout",
     "output_type": "stream",
     "text": [
      "+-------------------------------+\n",
      "|                   ex_countries|\n",
      "+-------------------------------+\n",
      "|                  Côte d'Ivoire|\n",
      "|                     Luxemburgo|\n",
      "|                        Andorre|\n",
      "|             en:Aruba - Español|\n",
      "|                       Itävalta|\n",
      "|                         Indien|\n",
      "|         en:Swaziland - English|\n",
      "|                           Inde|\n",
      "|            Swaziland - English|\n",
      "|                     en:austria|\n",
      "|                         Russia|\n",
      "| Vereinigte Staaten von Amerika|\n",
      "|                        Danmark|\n",
      "|        en:Azerbaijan - Русский|\n",
      "|              en:Korea - 한국어|\n",
      "|                       Francija|\n",
      "|       en:Philippines - English|\n",
      "|                        Irlande|\n",
      "|                          Macao|\n",
      "|                        Франция|\n",
      "|            en:Canada - English|\n",
      "|         en:Singapore - English|\n",
      "|                      Швейцария|\n",
      "|                     Luxembourg|\n",
      "|                         Canadá|\n",
      "|                       Bułgaria|\n",
      "|                         België|\n",
      "|            en:Zambia - English|\n",
      "|                          en:de|\n",
      "|           Middle East & Africa|\n",
      "|                        Sénégal|\n",
      "|       en:South Africa -English|\n",
      "|                          Suiza|\n",
      "|                        Rumunia|\n",
      "|                     Tschechien|\n",
      "|                         Sweden|\n",
      "|                          en:it|\n",
      "|                          Maroc|\n",
      "|                        Schweiz|\n",
      "|                       Russland|\n",
      "|               it:SMART WORKING|\n",
      "|      fr:Vereinigtes-konigreich|\n",
      "|                 fr:Netherlands|\n",
      "|                        Belgica|\n",
      "|                          en:at|\n",
      "|                       Германия|\n",
      "|                       Autriche|\n",
      "|                         Italie|\n",
      "|                   fr:Nederland|\n",
      "|                        Spanien|\n",
      "|                        Hongrie|\n",
      "|                         Jersey|\n",
      "|              fr:Elfenbeinkuste|\n",
      "|                        Croacia|\n",
      "|           en:Lebanon - English|\n",
      "|                  Nueva Zelanda|\n",
      "|                      en:turkey|\n",
      "|                             nn|\n",
      "|                          Norge|\n",
      "|                        Islande|\n",
      "|                         Italia|\n",
      "|              Greece - Ελληνικά|\n",
      "|                       Finlande|\n",
      "|                         Γαλλία|\n",
      "|                      Singapore|\n",
      "|                       Malaysia|\n",
      "|           en:Latvia - Latviešu|\n",
      "|                        Francia|\n",
      "|           Cambodia - ភាសាខ្មែរ|\n",
      "|                        Pologne|\n",
      "|                       Germania|\n",
      "|         en:Guatemala - Español|\n",
      "|en:Indonesia - Bahasa Indonesia|\n",
      "|              en:Perú - Español|\n",
      "|                         França|\n",
      "|                         Turkey|\n",
      "|          en:Brazil - Português|\n",
      "|                 Japan - 日本語|\n",
      "|                          Suíça|\n",
      "|                          Chili|\n",
      "|                 Elfenbeinküste|\n",
      "|    en:Malaysia - Bahasa Melayu|\n",
      "|        United States - English|\n",
      "|                República Checa|\n",
      "|                      fr:France|\n",
      "|                        Islanda|\n",
      "|           en:Greece - Ελληνικά|\n",
      "|                         España|\n",
      "|           Portugal - Português|\n",
      "|                         Guyane|\n",
      "|                         Russie|\n",
      "|                    fr:Belgique|\n",
      "|           en:Canada - Français|\n",
      "|                          en:En|\n",
      "|                        Marocko|\n",
      "|                      en:france|\n",
      "|                         Europe|\n",
      "|                        Germany|\n",
      "|                          en:fr|\n",
      "|                Elfenbenskusten|\n",
      "+-------------------------------+\n",
      "only showing top 100 rows\n",
      "\n"
     ]
    }
   ],
   "source": [
    "# Convert string to list-like array\n",
    "countriesDF2 = countriesDF2.withColumn('countries', split(countriesDF2['countries'], ','))\n",
    "\n",
    "# Explode the values into new records\n",
    "ex_df2 = countriesDF2.withColumn('ex_countries', explode(countriesDF2['countries']))\n",
    "\n",
    "# Inspect the values \n",
    "display(Markdown(\"There are **%d** distinct countries, being some of them:\" % ex_df2[[\"ex_countries\"]].distinct().count()))\n",
    "\n",
    "ex_df2[['ex_countries']].distinct().show(100, truncate=50)"
   ]
  },
  {
   "cell_type": "markdown",
   "metadata": {},
   "source": [
    "#### The countries field seems to have even worse list of values but we'll try one more time with \"countries_tags\""
   ]
  },
  {
   "cell_type": "code",
   "execution_count": 55,
   "metadata": {},
   "outputs": [
    {
     "name": "stdout",
     "output_type": "stream",
     "text": [
      "+----------------------------------------------------------------------------------------------------+\n",
      "|                                                                                      countries_tags|\n",
      "+----------------------------------------------------------------------------------------------------+\n",
      "|                                                                           en:belgium,en:switzerland|\n",
      "|en:italy,en:swaziland,en:switzerland,en:united-states,en:argentina-espanol,en:armenia-pyсский,en:...|\n",
      "|                                             en:australia,en:belgium,en:denmark,en:france,en:germany|\n",
      "|                                                                                    en:belgium,en:en|\n",
      "|                                                       en:belgium,en:germany,en:spain,en:switzerland|\n",
      "|                                                en:belgium,en:france,en:luxembourg,en:united-kingdom|\n",
      "|                                                    en:australia,en:belgium,en:france,en:new-zealand|\n",
      "|en:andorra,en:belgium,en:denmark,en:france,en:germany,en:hungary,en:italy,en:morocco,en:netherlan...|\n",
      "|en:france,en:italy,en:spain,en:switzerland,en:united-states,en:argentina-espanol,en:armenia-pyсск...|\n",
      "|en:italy,en:argentina-espanol,en:armenia-pyсский,en:aruba-espanol,en:asia-pacific,en:australia-en...|\n",
      "|                                   en:austria,en:belgium,en:germany,en:italy,en:spain,en:switzerland|\n",
      "|en:france,en:italy,en:spain,en:united-kingdom,en:united-states,en:argentina-espanol,en:armenia-py...|\n",
      "|en:italy,en:spain,en:argentina-espanol,en:armenia-pyсский,en:aruba-espanol,en:asia-pacific,en:aus...|\n",
      "|                                                                                en:belgium,en:russia|\n",
      "|                                                                      en:belgium,en:canada,en:france|\n",
      "|                                                      en:belgium,en:denmark,en:france,en:switzerland|\n",
      "|                                                                      en:belgium,en:france,en:greece|\n",
      "|       en:austria,en:belgium,en:denmark,en:france,en:germany,en:netherlands,en:sweden,en:switzerland|\n",
      "|                                                                          en:belgium,en:france,en:en|\n",
      "|                                                                         en:belgium,en:united-states|\n",
      "+----------------------------------------------------------------------------------------------------+\n",
      "only showing top 20 rows\n",
      "\n"
     ]
    }
   ],
   "source": [
    "countriesDF3 = df.select(\"countries_tags\").distinct()\n",
    "countriesDF3.show(truncate=100)"
   ]
  },
  {
   "cell_type": "code",
   "execution_count": 56,
   "metadata": {},
   "outputs": [
    {
     "data": {
      "text/plain": [
       "636"
      ]
     },
     "execution_count": 56,
     "metadata": {},
     "output_type": "execute_result"
    }
   ],
   "source": [
    "countriesDF3.distinct().count()"
   ]
  },
  {
   "cell_type": "markdown",
   "metadata": {},
   "source": [
    "By looking at the number of conuntries, we can already see here that the countries_tags column is not going to be any better than countries_en"
   ]
  },
  {
   "cell_type": "markdown",
   "metadata": {},
   "source": [
    "##### Having explored the potential fields, we  will now work on cleaning the unique data from the exploded countries_en column"
   ]
  },
  {
   "cell_type": "code",
   "execution_count": 57,
   "metadata": {},
   "outputs": [
    {
     "name": "stdout",
     "output_type": "stream",
     "text": [
      "root\n",
      " |-- Product_name: string (nullable = true)\n",
      " |-- countries_en: string (nullable = true)\n",
      " |-- countries: array (nullable = true)\n",
      " |    |-- element: string (containsNull = true)\n",
      " |-- ex_countries: string (nullable = true)\n",
      "\n"
     ]
    }
   ],
   "source": [
    "ex_df.printSchema()"
   ]
  },
  {
   "cell_type": "code",
   "execution_count": 58,
   "metadata": {},
   "outputs": [
    {
     "name": "stdout",
     "output_type": "stream",
     "text": [
      "+----------------------------------------+--------------+-----------------+------------+\n",
      "|                            Product_name|  countries_en|        countries|ex_countries|\n",
      "+----------------------------------------+--------------+-----------------+------------+\n",
      "|                       Roasted vegetable|Belgium,France|[Belgium, France]|     Belgium|\n",
      "|                       Roasted vegetable|Belgium,France|[Belgium, France]|      France|\n",
      "|                                   Penny|       Belgium|        [Belgium]|     Belgium|\n",
      "|                       Fromage a poutine|       Belgium|        [Belgium]|     Belgium|\n",
      "|                             Popped corn|       Belgium|        [Belgium]|     Belgium|\n",
      "|                           Chin chin mix|       Belgium|        [Belgium]|     Belgium|\n",
      "|                          Aloe Vera king|       Belgium|        [Belgium]|     Belgium|\n",
      "|                  Chocolate chip blondie|       Belgium|        [Belgium]|     Belgium|\n",
      "|                         pignons de pins|Belgium,France|[Belgium, France]|     Belgium|\n",
      "|                         pignons de pins|Belgium,France|[Belgium, France]|      France|\n",
      "|                         Papier toilette|       Belgium|        [Belgium]|     Belgium|\n",
      "|Dairy ice cream with caramelized walnuts|Belgium,Poland|[Belgium, Poland]|     Belgium|\n",
      "|Dairy ice cream with caramelized walnuts|Belgium,Poland|[Belgium, Poland]|      Poland|\n",
      "|                Bloedworst - Boudin Noir|       Belgium|        [Belgium]|     Belgium|\n",
      "|                      Choux de Bruxelles|       Belgium|        [Belgium]|     Belgium|\n",
      "|                         Green tea lemon|Belgium,France|[Belgium, France]|     Belgium|\n",
      "|                         Green tea lemon|Belgium,France|[Belgium, France]|      France|\n",
      "|                                Goldessa|       Belgium|        [Belgium]|     Belgium|\n",
      "|                         Pommes Jonagold|       Belgium|        [Belgium]|     Belgium|\n",
      "|                   Escalope de dinde bio|       Belgium|        [Belgium]|     Belgium|\n",
      "+----------------------------------------+--------------+-----------------+------------+\n",
      "only showing top 20 rows\n",
      "\n"
     ]
    }
   ],
   "source": [
    "ex_df.show(truncate=50)"
   ]
  },
  {
   "cell_type": "code",
   "execution_count": 59,
   "metadata": {},
   "outputs": [
    {
     "data": {
      "text/plain": [
       "228"
      ]
     },
     "execution_count": 59,
     "metadata": {},
     "output_type": "execute_result"
    }
   ],
   "source": [
    "ex_df[[\"ex_countries\"]].distinct().count()"
   ]
  },
  {
   "cell_type": "markdown",
   "metadata": {},
   "source": [
    "#### Import a list of all countries in the world from github (https://gist.github.com/marijn/396531/188caa065e3cd319fed7913ee3eecf5eec541918#file-countries-txt) and will now upload it to compare with the countries in ex_df shown above"
   ]
  },
  {
   "cell_type": "code",
   "execution_count": 60,
   "metadata": {},
   "outputs": [],
   "source": [
    "#import the csv with countries\n",
    "countries = spark.read \\\n",
    "                 .option(\"inferSchema\", \"true\") \\\n",
    "                 .option(\"header\", \"true\") \\\n",
    "                 .csv(\"countries.csv\")"
   ]
  },
  {
   "cell_type": "code",
   "execution_count": 61,
   "metadata": {},
   "outputs": [
    {
     "name": "stdout",
     "output_type": "stream",
     "text": [
      "+----+-------------------+\n",
      "|Code|               Name|\n",
      "+----+-------------------+\n",
      "|  AF|        Afghanistan|\n",
      "|  AL|            Albania|\n",
      "|  DZ|            Algeria|\n",
      "|  AS|     American Samoa|\n",
      "|  AD|            Andorra|\n",
      "|  AO|             Angola|\n",
      "|  AI|           Anguilla|\n",
      "|  AQ|         Antarctica|\n",
      "|  AG|Antigua And Barbuda|\n",
      "|  AR|          Argentina|\n",
      "|  AM|            Armenia|\n",
      "|  AW|              Aruba|\n",
      "|  AU|          Australia|\n",
      "|  AT|            Austria|\n",
      "|  AZ|         Azerbaijan|\n",
      "|  BS|            Bahamas|\n",
      "|  BH|            Bahrain|\n",
      "|  BD|         Bangladesh|\n",
      "|  BB|           Barbados|\n",
      "|  BY|            Belarus|\n",
      "+----+-------------------+\n",
      "only showing top 20 rows\n",
      "\n"
     ]
    }
   ],
   "source": [
    "countries.show()"
   ]
  },
  {
   "cell_type": "code",
   "execution_count": 62,
   "metadata": {},
   "outputs": [
    {
     "name": "stdout",
     "output_type": "stream",
     "text": [
      "root\n",
      " |-- Code: string (nullable = true)\n",
      " |-- Name: string (nullable = true)\n",
      "\n"
     ]
    }
   ],
   "source": [
    "countries.printSchema()"
   ]
  },
  {
   "cell_type": "code",
   "execution_count": 63,
   "metadata": {},
   "outputs": [
    {
     "data": {
      "text/plain": [
       "['Afghanistan',\n",
       " 'Albania',\n",
       " 'Algeria',\n",
       " 'American Samoa',\n",
       " 'Andorra',\n",
       " 'Angola',\n",
       " 'Anguilla',\n",
       " 'Antarctica',\n",
       " 'Antigua And Barbuda',\n",
       " 'Argentina',\n",
       " 'Armenia',\n",
       " 'Aruba',\n",
       " 'Australia',\n",
       " 'Austria',\n",
       " 'Azerbaijan',\n",
       " 'Bahamas',\n",
       " 'Bahrain',\n",
       " 'Bangladesh',\n",
       " 'Barbados',\n",
       " 'Belarus',\n",
       " 'Belgium',\n",
       " 'Belize',\n",
       " 'Benin',\n",
       " 'Bermuda',\n",
       " 'Bhutan',\n",
       " 'Bolivia',\n",
       " 'Bosnia And Herzegovina',\n",
       " 'Botswana',\n",
       " 'Bouvet Island',\n",
       " 'Brazil',\n",
       " 'British Indian Ocean Territory',\n",
       " 'Brunei Darussalam',\n",
       " 'Bulgaria',\n",
       " 'Burkina Faso',\n",
       " 'Burundi',\n",
       " 'Cambodia',\n",
       " 'Cameroon',\n",
       " 'Canada',\n",
       " 'Cape Verde',\n",
       " 'Cayman Islands',\n",
       " 'Central African Republic',\n",
       " 'Chad',\n",
       " 'Chile',\n",
       " 'China',\n",
       " 'Christmas Island',\n",
       " 'Cocos (keeling) Islands',\n",
       " 'Colombia',\n",
       " 'Comoros',\n",
       " 'Congo',\n",
       " 'Congo, The Democratic Republic Of The',\n",
       " 'Cook Islands',\n",
       " 'Costa Rica',\n",
       " \"Cote D'ivoire\",\n",
       " 'Croatia',\n",
       " 'Cuba',\n",
       " 'Cyprus',\n",
       " 'Czech Republic',\n",
       " 'Denmark',\n",
       " 'Djibouti',\n",
       " 'Dominica',\n",
       " 'Dominican Republic',\n",
       " 'East Timor',\n",
       " 'Ecuador',\n",
       " 'Egypt',\n",
       " 'El Salvador',\n",
       " 'Equatorial Guinea',\n",
       " 'Eritrea',\n",
       " 'Estonia',\n",
       " 'Ethiopia',\n",
       " 'Falkland Islands (malvinas)',\n",
       " 'Faroe Islands',\n",
       " 'Fiji',\n",
       " 'Finland',\n",
       " 'France',\n",
       " 'French Guiana',\n",
       " 'French Polynesia',\n",
       " 'French Southern Territories',\n",
       " 'Gabon',\n",
       " 'Gambia',\n",
       " 'Georgia',\n",
       " 'Germany',\n",
       " 'Ghana',\n",
       " 'Gibraltar',\n",
       " 'Greece',\n",
       " 'Greenland',\n",
       " 'Grenada',\n",
       " 'Guadeloupe',\n",
       " 'Guam',\n",
       " 'Guatemala',\n",
       " 'Guinea',\n",
       " 'Guinea-bissau',\n",
       " 'Guyana',\n",
       " 'Haiti',\n",
       " 'Heard Island And Mcdonald Islands',\n",
       " 'Holy See (vatican City State)',\n",
       " 'Honduras',\n",
       " 'Hong Kong',\n",
       " 'Hungary',\n",
       " 'Iceland',\n",
       " 'India',\n",
       " 'Indonesia',\n",
       " 'Iran, Islamic Republic Of',\n",
       " 'Iraq',\n",
       " 'Ireland',\n",
       " 'Israel',\n",
       " 'Italy',\n",
       " 'Jamaica',\n",
       " 'Japan',\n",
       " 'Jordan',\n",
       " 'Kazakstan',\n",
       " 'Kenya',\n",
       " 'Kiribati',\n",
       " \"Korea, Democratic People's Republic Of\",\n",
       " 'Korea, Republic Of',\n",
       " 'Kosovo',\n",
       " 'Kuwait',\n",
       " 'Kyrgyzstan',\n",
       " \"Lao People's Democratic Republic\",\n",
       " 'Latvia',\n",
       " 'Lebanon',\n",
       " 'Lesotho',\n",
       " 'Liberia',\n",
       " 'Libyan Arab Jamahiriya',\n",
       " 'Liechtenstein',\n",
       " 'Lithuania',\n",
       " 'Luxembourg',\n",
       " 'Macau',\n",
       " 'Macedonia, The Former Yugoslav Republic Of',\n",
       " 'Madagascar',\n",
       " 'Malawi',\n",
       " 'Malaysia',\n",
       " 'Maldives',\n",
       " 'Mali',\n",
       " 'Malta',\n",
       " 'Marshall Islands',\n",
       " 'Martinique',\n",
       " 'Mauritania',\n",
       " 'Mauritius',\n",
       " 'Mayotte',\n",
       " 'Mexico',\n",
       " 'Micronesia, Federated States Of',\n",
       " 'Moldova, Republic Of',\n",
       " 'Monaco',\n",
       " 'Mongolia',\n",
       " 'Montserrat',\n",
       " 'Montenegro',\n",
       " 'Morocco',\n",
       " 'Mozambique',\n",
       " 'Myanmar',\n",
       " 'Namibia',\n",
       " 'Nauru',\n",
       " 'Nepal',\n",
       " 'Netherlands',\n",
       " 'Netherlands Antilles',\n",
       " 'New Caledonia',\n",
       " 'New Zealand',\n",
       " 'Nicaragua',\n",
       " 'Niger',\n",
       " 'Nigeria',\n",
       " 'Niue',\n",
       " 'Norfolk Island',\n",
       " 'Northern Mariana Islands',\n",
       " 'Norway',\n",
       " 'Oman',\n",
       " 'Pakistan',\n",
       " 'Palau',\n",
       " 'Palestinian Territory, Occupied',\n",
       " 'Panama',\n",
       " 'Papua New Guinea',\n",
       " 'Paraguay',\n",
       " 'Peru',\n",
       " 'Philippines',\n",
       " 'Pitcairn',\n",
       " 'Poland',\n",
       " 'Portugal',\n",
       " 'Puerto Rico',\n",
       " 'Qatar',\n",
       " 'Reunion',\n",
       " 'Romania',\n",
       " 'Russian Federation',\n",
       " 'Rwanda',\n",
       " 'Saint Helena',\n",
       " 'Saint Kitts And Nevis',\n",
       " 'Saint Lucia',\n",
       " 'Saint Pierre And Miquelon',\n",
       " 'Saint Vincent And The Grenadines',\n",
       " 'Samoa',\n",
       " 'San Marino',\n",
       " 'Sao Tome And Principe',\n",
       " 'Saudi Arabia',\n",
       " 'Senegal',\n",
       " 'Serbia',\n",
       " 'Seychelles',\n",
       " 'Sierra Leone',\n",
       " 'Singapore',\n",
       " 'Slovakia',\n",
       " 'Slovenia',\n",
       " 'Solomon Islands',\n",
       " 'Somalia',\n",
       " 'South Africa',\n",
       " 'South Georgia And The South Sandwich Islands',\n",
       " 'Spain',\n",
       " 'Sri Lanka',\n",
       " 'Sudan',\n",
       " 'Suriname',\n",
       " 'Svalbard And Jan Mayen',\n",
       " 'Swaziland',\n",
       " 'Sweden',\n",
       " 'Switzerland',\n",
       " 'Syrian Arab Republic',\n",
       " 'Taiwan, Province Of China',\n",
       " 'Tajikistan',\n",
       " 'Tanzania, United Republic Of',\n",
       " 'Thailand',\n",
       " 'Togo',\n",
       " 'Tokelau',\n",
       " 'Tonga',\n",
       " 'Trinidad And Tobago',\n",
       " 'Tunisia',\n",
       " 'Turkey',\n",
       " 'Turkmenistan',\n",
       " 'Turks And Caicos Islands',\n",
       " 'Tuvalu',\n",
       " 'Uganda',\n",
       " 'Ukraine',\n",
       " 'United Arab Emirates',\n",
       " 'United Kingdom',\n",
       " 'United States',\n",
       " 'United States Minor Outlying Islands',\n",
       " 'Uruguay',\n",
       " 'Uzbekistan',\n",
       " 'Vanuatu',\n",
       " 'Venezuela',\n",
       " 'Viet Nam',\n",
       " 'Virgin Islands, British',\n",
       " 'Virgin Islands, U.s.',\n",
       " 'Wallis And Futuna',\n",
       " 'Western Sahara',\n",
       " 'Yemen',\n",
       " 'Zambia',\n",
       " 'Zimbabwe']"
      ]
     },
     "execution_count": 63,
     "metadata": {},
     "output_type": "execute_result"
    }
   ],
   "source": [
    "countries_list   = countries.select(collect_list(\"Name\")).collect()[0][0]\n",
    "countries_list"
   ]
  },
  {
   "cell_type": "code",
   "execution_count": 64,
   "metadata": {},
   "outputs": [],
   "source": [
    "# We subset only the country names that are actually a name of a country in our external data source\n",
    "ex_df = ex_df.filter(col(\"ex_countries\").isin(countries_list))"
   ]
  },
  {
   "cell_type": "code",
   "execution_count": 65,
   "metadata": {},
   "outputs": [
    {
     "name": "stdout",
     "output_type": "stream",
     "text": [
      "+--------------------+--------------+-----------------+------------+\n",
      "|        Product_name|  countries_en|        countries|ex_countries|\n",
      "+--------------------+--------------+-----------------+------------+\n",
      "|   Roasted vegetable|Belgium,France|[Belgium, France]|     Belgium|\n",
      "|   Roasted vegetable|Belgium,France|[Belgium, France]|      France|\n",
      "|               Penny|       Belgium|        [Belgium]|     Belgium|\n",
      "|   Fromage a poutine|       Belgium|        [Belgium]|     Belgium|\n",
      "|         Popped corn|       Belgium|        [Belgium]|     Belgium|\n",
      "|       Chin chin mix|       Belgium|        [Belgium]|     Belgium|\n",
      "|      Aloe Vera king|       Belgium|        [Belgium]|     Belgium|\n",
      "|Chocolate chip bl...|       Belgium|        [Belgium]|     Belgium|\n",
      "|     pignons de pins|Belgium,France|[Belgium, France]|     Belgium|\n",
      "|     pignons de pins|Belgium,France|[Belgium, France]|      France|\n",
      "|     Papier toilette|       Belgium|        [Belgium]|     Belgium|\n",
      "|Dairy ice cream w...|Belgium,Poland|[Belgium, Poland]|     Belgium|\n",
      "|Dairy ice cream w...|Belgium,Poland|[Belgium, Poland]|      Poland|\n",
      "|Bloedworst - Boud...|       Belgium|        [Belgium]|     Belgium|\n",
      "|  Choux de Bruxelles|       Belgium|        [Belgium]|     Belgium|\n",
      "|     Green tea lemon|Belgium,France|[Belgium, France]|     Belgium|\n",
      "|     Green tea lemon|Belgium,France|[Belgium, France]|      France|\n",
      "|            Goldessa|       Belgium|        [Belgium]|     Belgium|\n",
      "|     Pommes Jonagold|       Belgium|        [Belgium]|     Belgium|\n",
      "|Escalope de dinde...|       Belgium|        [Belgium]|     Belgium|\n",
      "+--------------------+--------------+-----------------+------------+\n",
      "only showing top 20 rows\n",
      "\n"
     ]
    }
   ],
   "source": [
    "ex_df.show()"
   ]
  },
  {
   "cell_type": "code",
   "execution_count": 69,
   "metadata": {},
   "outputs": [
    {
     "name": "stdout",
     "output_type": "stream",
     "text": [
      "+-------------+\n",
      "|ex_countries |\n",
      "+-------------+\n",
      "|Senegal      |\n",
      "|Sweden       |\n",
      "|Singapore    |\n",
      "|Malaysia     |\n",
      "|Turkey       |\n",
      "|Germany      |\n",
      "|Cambodia     |\n",
      "|Afghanistan  |\n",
      "|France       |\n",
      "|Greece       |\n",
      "|Algeria      |\n",
      "|Slovakia     |\n",
      "|Macau        |\n",
      "|Argentina    |\n",
      "|Belgium      |\n",
      "|Qatar        |\n",
      "|Ecuador      |\n",
      "|Albania      |\n",
      "|Finland      |\n",
      "|New Caledonia|\n",
      "+-------------+\n",
      "only showing top 20 rows\n",
      "\n"
     ]
    }
   ],
   "source": [
    "ex_df[[\"ex_countries\"]].distinct().show(truncate=False)"
   ]
  },
  {
   "cell_type": "code",
   "execution_count": 70,
   "metadata": {},
   "outputs": [
    {
     "data": {
      "text/plain": [
       "89"
      ]
     },
     "execution_count": 70,
     "metadata": {},
     "output_type": "execute_result"
    }
   ],
   "source": [
    "ex_df[[\"ex_countries\"]].distinct().count()"
   ]
  },
  {
   "cell_type": "code",
   "execution_count": 71,
   "metadata": {},
   "outputs": [],
   "source": [
    "#removing Belgium from the dataframe because the task is to list the OTHER countries where products are sold to. As we are studying Belgium, we need to remove it.\n",
    "ex_df = ex_df[ex_df[\"ex_countries\"] != \"Belgium\"]"
   ]
  },
  {
   "cell_type": "code",
   "execution_count": 72,
   "metadata": {},
   "outputs": [
    {
     "data": {
      "text/plain": [
       "88"
      ]
     },
     "execution_count": 72,
     "metadata": {},
     "output_type": "execute_result"
    }
   ],
   "source": [
    "ex_df[[\"ex_countries\"]].distinct().count()"
   ]
  },
  {
   "cell_type": "code",
   "execution_count": 80,
   "metadata": {},
   "outputs": [
    {
     "name": "stdout",
     "output_type": "stream",
     "text": [
      "+--------------+------------+\n",
      "|  ex_countries|Num_Products|\n",
      "+--------------+------------+\n",
      "|        France|       10113|\n",
      "|   Switzerland|        1081|\n",
      "|       Germany|         987|\n",
      "|         Spain|         841|\n",
      "|   Netherlands|         570|\n",
      "|    Luxembourg|         360|\n",
      "|         Italy|         313|\n",
      "|United Kingdom|         210|\n",
      "| United States|         169|\n",
      "|       Austria|         161|\n",
      "|      Portugal|         134|\n",
      "|     Australia|         115|\n",
      "|       Denmark|          80|\n",
      "|        Sweden|          71|\n",
      "|        Poland|          67|\n",
      "|       Morocco|          53|\n",
      "|    Guadeloupe|          49|\n",
      "|         China|          39|\n",
      "|       Finland|          37|\n",
      "|       Ireland|          37|\n",
      "+--------------+------------+\n",
      "only showing top 20 rows\n",
      "\n"
     ]
    }
   ],
   "source": [
    "# list of other countries counting by the product sold, to get an idea of the countries where are the products sold on belgium also common\n",
    "countries_grouped = ex_df.groupby('ex_countries').agg(count('Product_name').alias('Num_Products'))\n",
    "\n",
    "countries_grouped.orderBy('Num_Products', ascending=False).show()"
   ]
  },
  {
   "cell_type": "markdown",
   "metadata": {},
   "source": [
    "### Final List of other countries where products are sold to"
   ]
  },
  {
   "cell_type": "code",
   "execution_count": 81,
   "metadata": {},
   "outputs": [
    {
     "data": {
      "text/plain": [
       "array(['France', 'Poland', 'Netherlands', 'Spain', 'Switzerland',\n",
       "       'Luxembourg', 'Germany', 'Austria', 'Croatia', 'Greece', 'Morocco',\n",
       "       'Romania', 'Serbia', 'United Kingdom', 'Ireland', 'French Guiana',\n",
       "       'Australia', 'Denmark', 'Finland', 'Italy', 'Portugal', 'Sweden',\n",
       "       'Hungary', 'Norway', 'Mexico', 'Czech Republic', 'United States',\n",
       "       'Estonia', 'Japan', 'India', 'New Caledonia', 'Bulgaria', 'China',\n",
       "       'Guadeloupe', 'Slovenia', 'New Zealand', 'Canada', 'Lebanon',\n",
       "       'Tunisia', 'Singapore', 'Swaziland', 'French Polynesia', 'Turkey',\n",
       "       'Ukraine', 'Algeria', 'Argentina', 'Colombia', 'Saudi Arabia',\n",
       "       'South Africa', 'Andorra', 'Burkina Faso', 'Martinique', 'Cyprus',\n",
       "       'Cameroon', 'Montenegro', 'Uruguay', 'Thailand', 'Indonesia',\n",
       "       'Hong Kong', 'Macau', 'Malaysia', 'Brazil', 'Mali', 'Mauritius',\n",
       "       'Iceland', 'Kuwait', 'Qatar', 'Gabon', 'Senegal', 'Israel',\n",
       "       'Ghana', 'Malta', 'Armenia', 'Ecuador', 'Panama', 'Latvia',\n",
       "       'Lithuania', 'Cambodia', 'United Arab Emirates', 'Monaco',\n",
       "       'Bolivia', 'Slovakia', 'Albania', 'Peru', 'Chile', 'Liechtenstein',\n",
       "       'Afghanistan', 'Egypt'], dtype=object)"
      ]
     },
     "execution_count": 81,
     "metadata": {},
     "output_type": "execute_result"
    }
   ],
   "source": [
    "countries_sold_list = ex_df.toPandas()[\"ex_countries\"].unique()\n",
    "countries_sold_list"
   ]
  },
  {
   "cell_type": "markdown",
   "metadata": {},
   "source": [
    "### 4.5. Identify category of products and the compute:\n",
    "<a id='4.5.'></a>"
   ]
  },
  {
   "cell_type": "markdown",
   "metadata": {},
   "source": [
    "* **Identify duplicated products to decide if we should count them or not**"
   ]
  },
  {
   "cell_type": "code",
   "execution_count": 82,
   "metadata": {},
   "outputs": [
    {
     "data": {
      "text/plain": [
       "40"
      ]
     },
     "execution_count": 82,
     "metadata": {},
     "output_type": "execute_result"
    }
   ],
   "source": [
    "# Before counting the products per category, we check that there are no duplicated products\n",
    "\n",
    "duplicated_df = df_sum.groupby('code').agg(count('code').alias('duplicated')).where(col('duplicated') > 1) \n",
    "\n",
    "# Subset from the df_sum dataframe only the products duplicated to inspect them\n",
    "products_dup = df_sum.join(duplicated_df, ['code','code'], 'inner').sort('code','Created_datetime')\n",
    "products_dup.count()"
   ]
  },
  {
   "cell_type": "code",
   "execution_count": 83,
   "metadata": {},
   "outputs": [
    {
     "data": {
      "text/html": [
       "<div>\n",
       "<style scoped>\n",
       "    .dataframe tbody tr th:only-of-type {\n",
       "        vertical-align: middle;\n",
       "    }\n",
       "\n",
       "    .dataframe tbody tr th {\n",
       "        vertical-align: top;\n",
       "    }\n",
       "\n",
       "    .dataframe thead th {\n",
       "        text-align: right;\n",
       "    }\n",
       "</style>\n",
       "<table border=\"1\" class=\"dataframe\">\n",
       "  <thead>\n",
       "    <tr style=\"text-align: right;\">\n",
       "      <th></th>\n",
       "      <th>code</th>\n",
       "      <th>code</th>\n",
       "      <th>Creator</th>\n",
       "      <th>Created_datetime</th>\n",
       "      <th>Last_modified_datetime</th>\n",
       "      <th>Product_name</th>\n",
       "      <th>Countries_en</th>\n",
       "      <th>Traces_en</th>\n",
       "      <th>Additives_tags</th>\n",
       "      <th>Main_category_en</th>\n",
       "      <th>...</th>\n",
       "      <th>Categories_en</th>\n",
       "      <th>Ingredients_text</th>\n",
       "      <th>Additives_en</th>\n",
       "      <th>Energy_kcal_100g</th>\n",
       "      <th>Fat_100g</th>\n",
       "      <th>Saturated_fat_100g</th>\n",
       "      <th>Sugars_100g</th>\n",
       "      <th>Salt_100g</th>\n",
       "      <th>sodium_100g</th>\n",
       "      <th>duplicated</th>\n",
       "    </tr>\n",
       "  </thead>\n",
       "  <tbody>\n",
       "    <tr>\n",
       "      <th>0</th>\n",
       "      <td>2.400014e+10</td>\n",
       "      <td>2.400014e+10</td>\n",
       "      <td>kiliweb</td>\n",
       "      <td>2017-03-25 12:23:10</td>\n",
       "      <td>2020-08-16 21:19:09</td>\n",
       "      <td>Peches demi-fruits Au jus</td>\n",
       "      <td>Belgium,France</td>\n",
       "      <td>None</td>\n",
       "      <td>None</td>\n",
       "      <td>Fruits in syrup</td>\n",
       "      <td>...</td>\n",
       "      <td>Plant-based foods and beverages,Plant-based foods,Canned foods,Desserts,Fruits and vegetables based foods,Canned plant-based foods,Fruits based foods,Canned fruits,Fruits in syrup</td>\n",
       "      <td>Demi-pêches, jus naturel</td>\n",
       "      <td>None</td>\n",
       "      <td>51.0</td>\n",
       "      <td>0.0</td>\n",
       "      <td>0.0</td>\n",
       "      <td>0.0</td>\n",
       "      <td>0.100</td>\n",
       "      <td>0.040</td>\n",
       "      <td>2</td>\n",
       "    </tr>\n",
       "    <tr>\n",
       "      <th>1</th>\n",
       "      <td>2.400014e+10</td>\n",
       "      <td>2.400014e+10</td>\n",
       "      <td>kiliweb</td>\n",
       "      <td>2019-06-25 20:13:02</td>\n",
       "      <td>2019-07-30 12:42:17</td>\n",
       "      <td>4 / 4 Peches Au Jus Delmont</td>\n",
       "      <td>Belgium</td>\n",
       "      <td>None</td>\n",
       "      <td>None</td>\n",
       "      <td>None</td>\n",
       "      <td>...</td>\n",
       "      <td>None</td>\n",
       "      <td>None</td>\n",
       "      <td>None</td>\n",
       "      <td>51.0</td>\n",
       "      <td>0.0</td>\n",
       "      <td>0.0</td>\n",
       "      <td>11.0</td>\n",
       "      <td>0.060</td>\n",
       "      <td>0.024</td>\n",
       "      <td>2</td>\n",
       "    </tr>\n",
       "    <tr>\n",
       "      <th>2</th>\n",
       "      <td>2.400020e+10</td>\n",
       "      <td>2.400020e+10</td>\n",
       "      <td>kiliweb</td>\n",
       "      <td>2019-07-26 10:18:35</td>\n",
       "      <td>2019-07-26 10:18:35</td>\n",
       "      <td>Pêches en tranches au sirop léger</td>\n",
       "      <td>Belgium</td>\n",
       "      <td>None</td>\n",
       "      <td>None</td>\n",
       "      <td>None</td>\n",
       "      <td>...</td>\n",
       "      <td>None</td>\n",
       "      <td>None</td>\n",
       "      <td>None</td>\n",
       "      <td>64.0</td>\n",
       "      <td>0.0</td>\n",
       "      <td>0.0</td>\n",
       "      <td>11.0</td>\n",
       "      <td>0.050</td>\n",
       "      <td>0.020</td>\n",
       "      <td>2</td>\n",
       "    </tr>\n",
       "    <tr>\n",
       "      <th>3</th>\n",
       "      <td>2.400020e+10</td>\n",
       "      <td>2.400020e+10</td>\n",
       "      <td>kiliweb</td>\n",
       "      <td>2019-08-17 15:43:03</td>\n",
       "      <td>2019-12-22 16:56:49</td>\n",
       "      <td>Pêches en tranches</td>\n",
       "      <td>Belgium</td>\n",
       "      <td>None</td>\n",
       "      <td>None</td>\n",
       "      <td>None</td>\n",
       "      <td>...</td>\n",
       "      <td>None</td>\n",
       "      <td>None</td>\n",
       "      <td>None</td>\n",
       "      <td>64.0</td>\n",
       "      <td>0.0</td>\n",
       "      <td>0.0</td>\n",
       "      <td>11.0</td>\n",
       "      <td>0.050</td>\n",
       "      <td>0.020</td>\n",
       "      <td>2</td>\n",
       "    </tr>\n",
       "    <tr>\n",
       "      <th>4</th>\n",
       "      <td>3.800018e+10</td>\n",
       "      <td>3.800018e+10</td>\n",
       "      <td>kiliweb</td>\n",
       "      <td>2019-06-20 13:25:53</td>\n",
       "      <td>2019-06-20 13:25:54</td>\n",
       "      <td>pOp. tarts</td>\n",
       "      <td>Belgium</td>\n",
       "      <td>None</td>\n",
       "      <td>None</td>\n",
       "      <td>None</td>\n",
       "      <td>...</td>\n",
       "      <td>None</td>\n",
       "      <td>None</td>\n",
       "      <td>None</td>\n",
       "      <td>400.0</td>\n",
       "      <td>4.0</td>\n",
       "      <td>0.0</td>\n",
       "      <td>30.0</td>\n",
       "      <td>0.400</td>\n",
       "      <td>0.160</td>\n",
       "      <td>2</td>\n",
       "    </tr>\n",
       "    <tr>\n",
       "      <th>5</th>\n",
       "      <td>3.800018e+10</td>\n",
       "      <td>3.800018e+10</td>\n",
       "      <td>kiliweb</td>\n",
       "      <td>2019-08-13 18:01:45</td>\n",
       "      <td>2020-04-23 17:35:06</td>\n",
       "      <td>Toaster pastries, frosted strawberry milkshake</td>\n",
       "      <td>Belgium,United States</td>\n",
       "      <td>None</td>\n",
       "      <td>en:e102,en:e110,en:e129,en:e133,en:e322,en:e322i,en:e341,en:e341i,en:e415,en:e428,en:e450,en:e472e,en:e903</td>\n",
       "      <td>Sweet pies</td>\n",
       "      <td>...</td>\n",
       "      <td>Biscuits and cakes,Pies,Pastries,Sweet pies</td>\n",
       "      <td>Enriched flour (wheat flour, niacin, reduced iron, vitamin B1 [thiamin mononitrate], vitamin B2 [riboflavin], folic acid), corn syrup, high fructose corn syrup, soybean and palm oil (with TBHQ for...</td>\n",
       "      <td>E102 - Tartrazine,E110 - Sunset yellow FCF,E129 - Allura red ac,E133 - Brilliant blue FCF,E322 - Lecithins,E322i - Lecithin,E341 - Calcium phosphates,E341i - Monocalcium phosphate,E415 - Xanthan g...</td>\n",
       "      <td>400.0</td>\n",
       "      <td>12.0</td>\n",
       "      <td>4.0</td>\n",
       "      <td>30.0</td>\n",
       "      <td>0.985</td>\n",
       "      <td>0.394</td>\n",
       "      <td>2</td>\n",
       "    </tr>\n",
       "    <tr>\n",
       "      <th>6</th>\n",
       "      <td>3.904711e+10</td>\n",
       "      <td>3.904711e+10</td>\n",
       "      <td>kiliweb</td>\n",
       "      <td>2017-08-03 16:12:11</td>\n",
       "      <td>2019-03-08 19:59:17</td>\n",
       "      <td>Weight Watchers Cookies Au Chocolat</td>\n",
       "      <td>Belgium,France</td>\n",
       "      <td>Nuts</td>\n",
       "      <td>en:e322,en:e322i</td>\n",
       "      <td>None</td>\n",
       "      <td>...</td>\n",
       "      <td>None</td>\n",
       "      <td>farine de blé fortifié (farine de blé, calcium, fer, niacine, thiamine), flocons d'avoine,nuile de colza, sucre, pépites de chocolat noir (7%) (sucre, pâte de cacao, beurre de lécithine de soja; a...</td>\n",
       "      <td>E322 - Lecithins,E322i - Lecithin</td>\n",
       "      <td>443.0</td>\n",
       "      <td>17.3</td>\n",
       "      <td>5.8</td>\n",
       "      <td>19.6</td>\n",
       "      <td>0.600</td>\n",
       "      <td>0.240</td>\n",
       "      <td>2</td>\n",
       "    </tr>\n",
       "    <tr>\n",
       "      <th>7</th>\n",
       "      <td>3.904711e+10</td>\n",
       "      <td>3.904711e+10</td>\n",
       "      <td>kiliweb</td>\n",
       "      <td>2019-06-30 17:45:42</td>\n",
       "      <td>2019-06-30 17:45:43</td>\n",
       "      <td>Cookies Au Chocolat</td>\n",
       "      <td>Belgium</td>\n",
       "      <td>None</td>\n",
       "      <td>None</td>\n",
       "      <td>None</td>\n",
       "      <td>...</td>\n",
       "      <td>None</td>\n",
       "      <td>None</td>\n",
       "      <td>None</td>\n",
       "      <td>443.0</td>\n",
       "      <td>17.3</td>\n",
       "      <td>5.8</td>\n",
       "      <td>19.6</td>\n",
       "      <td>0.600</td>\n",
       "      <td>0.240</td>\n",
       "      <td>2</td>\n",
       "    </tr>\n",
       "    <tr>\n",
       "      <th>8</th>\n",
       "      <td>4.606650e+10</td>\n",
       "      <td>4.606650e+10</td>\n",
       "      <td>kiliweb</td>\n",
       "      <td>2019-05-20 15:51:09</td>\n",
       "      <td>2019-05-20 15:51:09</td>\n",
       "      <td>Chocolutti</td>\n",
       "      <td>Belgium</td>\n",
       "      <td>None</td>\n",
       "      <td>None</td>\n",
       "      <td>None</td>\n",
       "      <td>...</td>\n",
       "      <td>None</td>\n",
       "      <td>None</td>\n",
       "      <td>None</td>\n",
       "      <td>NaN</td>\n",
       "      <td>NaN</td>\n",
       "      <td>NaN</td>\n",
       "      <td>NaN</td>\n",
       "      <td>NaN</td>\n",
       "      <td>NaN</td>\n",
       "      <td>2</td>\n",
       "    </tr>\n",
       "    <tr>\n",
       "      <th>9</th>\n",
       "      <td>4.606650e+10</td>\n",
       "      <td>4.606650e+10</td>\n",
       "      <td>kiliweb</td>\n",
       "      <td>2019-08-19 16:47:16</td>\n",
       "      <td>2019-08-19 16:58:32</td>\n",
       "      <td>Chocolutti</td>\n",
       "      <td>Belgium</td>\n",
       "      <td>None</td>\n",
       "      <td>None</td>\n",
       "      <td>None</td>\n",
       "      <td>...</td>\n",
       "      <td>None</td>\n",
       "      <td>None</td>\n",
       "      <td>None</td>\n",
       "      <td>467.0</td>\n",
       "      <td>20.2</td>\n",
       "      <td>11.8</td>\n",
       "      <td>52.0</td>\n",
       "      <td>1.100</td>\n",
       "      <td>0.440</td>\n",
       "      <td>2</td>\n",
       "    </tr>\n",
       "    <tr>\n",
       "      <th>10</th>\n",
       "      <td>5.121430e+10</td>\n",
       "      <td>5.121430e+10</td>\n",
       "      <td>kiliweb</td>\n",
       "      <td>2019-06-22 21:27:15</td>\n",
       "      <td>2019-06-22 21:27:15</td>\n",
       "      <td>Sirop d'érable</td>\n",
       "      <td>Belgium</td>\n",
       "      <td>None</td>\n",
       "      <td>None</td>\n",
       "      <td>None</td>\n",
       "      <td>...</td>\n",
       "      <td>None</td>\n",
       "      <td>None</td>\n",
       "      <td>None</td>\n",
       "      <td>200.0</td>\n",
       "      <td>0.0</td>\n",
       "      <td>0.0</td>\n",
       "      <td>53.0</td>\n",
       "      <td>0.000</td>\n",
       "      <td>0.000</td>\n",
       "      <td>2</td>\n",
       "    </tr>\n",
       "    <tr>\n",
       "      <th>11</th>\n",
       "      <td>5.121430e+10</td>\n",
       "      <td>5.121430e+10</td>\n",
       "      <td>kiliweb</td>\n",
       "      <td>2019-08-08 18:50:41</td>\n",
       "      <td>2019-08-08 18:50:45</td>\n",
       "      <td>Ahornsiroop/sirop d'érable</td>\n",
       "      <td>Belgium</td>\n",
       "      <td>None</td>\n",
       "      <td>None</td>\n",
       "      <td>None</td>\n",
       "      <td>...</td>\n",
       "      <td>None</td>\n",
       "      <td>None</td>\n",
       "      <td>None</td>\n",
       "      <td>NaN</td>\n",
       "      <td>NaN</td>\n",
       "      <td>NaN</td>\n",
       "      <td>NaN</td>\n",
       "      <td>NaN</td>\n",
       "      <td>NaN</td>\n",
       "      <td>2</td>\n",
       "    </tr>\n",
       "    <tr>\n",
       "      <th>12</th>\n",
       "      <td>8.468500e+10</td>\n",
       "      <td>8.468500e+10</td>\n",
       "      <td>kiliweb</td>\n",
       "      <td>2019-07-24 19:24:24</td>\n",
       "      <td>2019-07-24 19:24:24</td>\n",
       "      <td>Pretzels</td>\n",
       "      <td>Belgium</td>\n",
       "      <td>None</td>\n",
       "      <td>None</td>\n",
       "      <td>None</td>\n",
       "      <td>...</td>\n",
       "      <td>None</td>\n",
       "      <td>None</td>\n",
       "      <td>None</td>\n",
       "      <td>451.0</td>\n",
       "      <td>12.6</td>\n",
       "      <td>3.0</td>\n",
       "      <td>3.1</td>\n",
       "      <td>1.900</td>\n",
       "      <td>0.760</td>\n",
       "      <td>2</td>\n",
       "    </tr>\n",
       "    <tr>\n",
       "      <th>13</th>\n",
       "      <td>8.468500e+10</td>\n",
       "      <td>8.468500e+10</td>\n",
       "      <td>kiliweb</td>\n",
       "      <td>2020-03-18 14:05:54</td>\n",
       "      <td>2020-03-18 14:17:27</td>\n",
       "      <td>Pretzels</td>\n",
       "      <td>Belgium</td>\n",
       "      <td>None</td>\n",
       "      <td>None</td>\n",
       "      <td>None</td>\n",
       "      <td>...</td>\n",
       "      <td>None</td>\n",
       "      <td>None</td>\n",
       "      <td>None</td>\n",
       "      <td>451.0</td>\n",
       "      <td>12.6</td>\n",
       "      <td>3.0</td>\n",
       "      <td>3.1</td>\n",
       "      <td>1.900</td>\n",
       "      <td>0.760</td>\n",
       "      <td>2</td>\n",
       "    </tr>\n",
       "    <tr>\n",
       "      <th>14</th>\n",
       "      <td>8.968617e+10</td>\n",
       "      <td>8.968617e+10</td>\n",
       "      <td>kiliweb</td>\n",
       "      <td>2019-07-27 20:16:32</td>\n",
       "      <td>2019-07-27 20:16:32</td>\n",
       "      <td>Noodles Special Chicken Flavour</td>\n",
       "      <td>Belgium</td>\n",
       "      <td>None</td>\n",
       "      <td>None</td>\n",
       "      <td>None</td>\n",
       "      <td>...</td>\n",
       "      <td>None</td>\n",
       "      <td>None</td>\n",
       "      <td>None</td>\n",
       "      <td>467.0</td>\n",
       "      <td>21.0</td>\n",
       "      <td>8.0</td>\n",
       "      <td>4.0</td>\n",
       "      <td>4.000</td>\n",
       "      <td>1.600</td>\n",
       "      <td>2</td>\n",
       "    </tr>\n",
       "    <tr>\n",
       "      <th>15</th>\n",
       "      <td>8.968617e+10</td>\n",
       "      <td>8.968617e+10</td>\n",
       "      <td>kiliweb</td>\n",
       "      <td>2020-07-07 01:07:36</td>\n",
       "      <td>2020-08-14 14:25:23</td>\n",
       "      <td>Noodles</td>\n",
       "      <td>Belgium</td>\n",
       "      <td>None</td>\n",
       "      <td>None</td>\n",
       "      <td>None</td>\n",
       "      <td>...</td>\n",
       "      <td>None</td>\n",
       "      <td>None</td>\n",
       "      <td>None</td>\n",
       "      <td>467.0</td>\n",
       "      <td>21.0</td>\n",
       "      <td>8.0</td>\n",
       "      <td>4.0</td>\n",
       "      <td>4.000</td>\n",
       "      <td>1.600</td>\n",
       "      <td>2</td>\n",
       "    </tr>\n",
       "    <tr>\n",
       "      <th>16</th>\n",
       "      <td>6.130087e+11</td>\n",
       "      <td>6.130087e+11</td>\n",
       "      <td>openfoodfacts-contributors</td>\n",
       "      <td>2013-06-21 14:57:14</td>\n",
       "      <td>2020-08-18 15:56:49</td>\n",
       "      <td>Original green tea with honey</td>\n",
       "      <td>Australia,Austria,Belgium,France,French Polynesia,Luxembourg,Switzerland</td>\n",
       "      <td>None</td>\n",
       "      <td>en:e300</td>\n",
       "      <td>Sweetened beverages</td>\n",
       "      <td>...</td>\n",
       "      <td>Plant-based foods and beverages,Beverages,Plant-based beverages,Tea-based beverages,Iced teas,Sweetened beverages</td>\n",
       "      <td>water, sugar, honey (0,18%), green tea extract (0,14%), natural flavouring, antioxidant: ascorbic acid, acidificante: citric acidificante, ginseng flavouring,</td>\n",
       "      <td>E300 - Ascorbic acid</td>\n",
       "      <td>NaN</td>\n",
       "      <td>0.0</td>\n",
       "      <td>0.0</td>\n",
       "      <td>6.7</td>\n",
       "      <td>0.010</td>\n",
       "      <td>0.004</td>\n",
       "      <td>2</td>\n",
       "    </tr>\n",
       "    <tr>\n",
       "      <th>17</th>\n",
       "      <td>6.130087e+11</td>\n",
       "      <td>6.130087e+11</td>\n",
       "      <td>foodrepo</td>\n",
       "      <td>2019-01-29 14:35:09</td>\n",
       "      <td>2019-08-28 18:07:31</td>\n",
       "      <td>Green Tea with Honey</td>\n",
       "      <td>Belgium,France,Switzerland</td>\n",
       "      <td>None</td>\n",
       "      <td>en:e300,en:e330</td>\n",
       "      <td>None</td>\n",
       "      <td>...</td>\n",
       "      <td>None</td>\n",
       "      <td>Eau, sucre, miel (0,18%), extrait de thé vert (0,14%), arôme naturel, antioxydant: acide ascorbique, acidifiant: acide citrique, arôme ginseng.</td>\n",
       "      <td>E300 - Ascorbic acid,E330 - Citric acid</td>\n",
       "      <td>NaN</td>\n",
       "      <td>0.0</td>\n",
       "      <td>0.0</td>\n",
       "      <td>6.7</td>\n",
       "      <td>0.010</td>\n",
       "      <td>0.004</td>\n",
       "      <td>2</td>\n",
       "    </tr>\n",
       "    <tr>\n",
       "      <th>18</th>\n",
       "      <td>6.130087e+11</td>\n",
       "      <td>6.130087e+11</td>\n",
       "      <td>tacinte</td>\n",
       "      <td>2015-06-01 12:53:48</td>\n",
       "      <td>2020-08-18 15:57:36</td>\n",
       "      <td>Pomegranate Green Tea</td>\n",
       "      <td>Austria,Belgium,France,Switzerland</td>\n",
       "      <td>None</td>\n",
       "      <td>en:e300,en:e330</td>\n",
       "      <td>Sweetened beverages</td>\n",
       "      <td>...</td>\n",
       "      <td>Plant-based foods and beverages,Beverages,Hot beverages,Plant-based beverages,Teas,Fruit-based beverages,Green teas,Non-Alcoholic beverages,Iced teas,Sweetened beverages</td>\n",
       "      <td>eau, sucre, jus de pomme à base de concentré (3,4%), jus de grenade à base de concentré (1,6%), miel, arôme naturel, jus de carotte à base de concentré, extrait de thé vert (0,05%), antioxydant : ...</td>\n",
       "      <td>E300 - Ascorbic acid,E330 - Citric acid</td>\n",
       "      <td>21.0</td>\n",
       "      <td>0.0</td>\n",
       "      <td>0.0</td>\n",
       "      <td>4.9</td>\n",
       "      <td>0.000</td>\n",
       "      <td>0.000</td>\n",
       "      <td>2</td>\n",
       "    </tr>\n",
       "    <tr>\n",
       "      <th>19</th>\n",
       "      <td>6.130087e+11</td>\n",
       "      <td>6.130087e+11</td>\n",
       "      <td>foodrepo</td>\n",
       "      <td>2019-01-29 14:35:09</td>\n",
       "      <td>2019-08-28 18:07:31</td>\n",
       "      <td>Pomegranate Green Tea</td>\n",
       "      <td>Belgium,France,Switzerland</td>\n",
       "      <td>None</td>\n",
       "      <td>None</td>\n",
       "      <td>None</td>\n",
       "      <td>...</td>\n",
       "      <td>None</td>\n",
       "      <td>None</td>\n",
       "      <td>None</td>\n",
       "      <td>NaN</td>\n",
       "      <td>0.0</td>\n",
       "      <td>0.0</td>\n",
       "      <td>8.7</td>\n",
       "      <td>0.010</td>\n",
       "      <td>0.004</td>\n",
       "      <td>2</td>\n",
       "    </tr>\n",
       "    <tr>\n",
       "      <th>20</th>\n",
       "      <td>5.400141e+12</td>\n",
       "      <td>5.400141e+12</td>\n",
       "      <td>openfoodfacts-contributors</td>\n",
       "      <td>2018-02-04 00:25:56</td>\n",
       "      <td>2020-06-16 19:39:54</td>\n",
       "      <td>Tomate concasse</td>\n",
       "      <td>Belgium</td>\n",
       "      <td>None</td>\n",
       "      <td>en:e330</td>\n",
       "      <td>Tomatoes and their products</td>\n",
       "      <td>...</td>\n",
       "      <td>Plant-based foods and beverages,Plant-based foods,Fruits and vegetables based foods,Vegetables based foods,Tomatoes and their products</td>\n",
       "      <td>Tomates concassées - 60 % tomates, jus de tomate, correcteur d'acidité (E330).</td>\n",
       "      <td>E330 - Citric acid</td>\n",
       "      <td>23.0</td>\n",
       "      <td>0.5</td>\n",
       "      <td>0.0</td>\n",
       "      <td>3.0</td>\n",
       "      <td>0.100</td>\n",
       "      <td>0.040</td>\n",
       "      <td>2</td>\n",
       "    </tr>\n",
       "    <tr>\n",
       "      <th>21</th>\n",
       "      <td>5.400141e+12</td>\n",
       "      <td>5.400141e+12</td>\n",
       "      <td>mmemesmessinger</td>\n",
       "      <td>2018-06-16 13:50:06</td>\n",
       "      <td>2019-01-31 10:56:24</td>\n",
       "      <td>Everyday Tomates concassées 400 g</td>\n",
       "      <td>Belgium</td>\n",
       "      <td>None</td>\n",
       "      <td>en:e330</td>\n",
       "      <td>None</td>\n",
       "      <td>...</td>\n",
       "      <td>None</td>\n",
       "      <td>60 % tomates, jus de tomate, correcteur d’acidité (E330)</td>\n",
       "      <td>E330 - Citric acid</td>\n",
       "      <td>NaN</td>\n",
       "      <td>0.5</td>\n",
       "      <td>0.0</td>\n",
       "      <td>3.0</td>\n",
       "      <td>0.100</td>\n",
       "      <td>0.040</td>\n",
       "      <td>2</td>\n",
       "    </tr>\n",
       "    <tr>\n",
       "      <th>22</th>\n",
       "      <td>5.400141e+12</td>\n",
       "      <td>5.400141e+12</td>\n",
       "      <td>gauthier-de-geest</td>\n",
       "      <td>2016-12-10 11:17:28</td>\n",
       "      <td>2020-07-24 14:53:30</td>\n",
       "      <td>Cribbits Rice &amp; Wheat Flakes</td>\n",
       "      <td>Belgium</td>\n",
       "      <td>Nuts,Peanuts,Sesame seeds,Soybeans</td>\n",
       "      <td>en:e471</td>\n",
       "      <td>Breakfast cereals</td>\n",
       "      <td>...</td>\n",
       "      <td>Plant-based foods and beverages,Plant-based foods,Cereals and potatoes,Breakfasts,Cereals and their products,Breakfast cereals</td>\n",
       "      <td>Céréales (63 % riz, 21 % _blé_ complet), sucre, _gluten de blé_, germes de _blé_, sel, extrait de malt d'_orge_, _lait_ écrémé en poudre, vitamines (B1, B2, B3, B6, B9, B12, C), fer, émulsifiant (...</td>\n",
       "      <td>E471 - Mono- and diglycerides of fatty acids</td>\n",
       "      <td>385.0</td>\n",
       "      <td>1.5</td>\n",
       "      <td>0.4</td>\n",
       "      <td>17.0</td>\n",
       "      <td>0.900</td>\n",
       "      <td>0.360</td>\n",
       "      <td>2</td>\n",
       "    </tr>\n",
       "    <tr>\n",
       "      <th>23</th>\n",
       "      <td>5.400141e+12</td>\n",
       "      <td>5.400141e+12</td>\n",
       "      <td>emerzh</td>\n",
       "      <td>2017-01-21 12:24:41</td>\n",
       "      <td>2019-01-31 11:00:08</td>\n",
       "      <td>Cereal flakes</td>\n",
       "      <td>Belgium</td>\n",
       "      <td>None</td>\n",
       "      <td>en:e471</td>\n",
       "      <td>None</td>\n",
       "      <td>...</td>\n",
       "      <td>None</td>\n",
       "      <td>Céréales (63 % riz, 21 % BLE complet), sucre, gluten de BLE , germes de BLE, sel, extrait de malt d'ORGE, LAIT écrémé en poudre, vitamines (B1, B2, B3, B6, B9, B12, C), fer, émulsifiant (E471), ar...</td>\n",
       "      <td>E471 - Mono- and diglycerides of fatty acids</td>\n",
       "      <td>NaN</td>\n",
       "      <td>1.5</td>\n",
       "      <td>0.4</td>\n",
       "      <td>17.0</td>\n",
       "      <td>0.880</td>\n",
       "      <td>0.352</td>\n",
       "      <td>2</td>\n",
       "    </tr>\n",
       "    <tr>\n",
       "      <th>24</th>\n",
       "      <td>8.716671e+12</td>\n",
       "      <td>8.716671e+12</td>\n",
       "      <td>openfoodfacts-contributors</td>\n",
       "      <td>2017-11-11 11:01:27</td>\n",
       "      <td>2019-04-27 15:08:55</td>\n",
       "      <td>Huile de noix de coco Kokosolie</td>\n",
       "      <td>Belgium,France</td>\n",
       "      <td>None</td>\n",
       "      <td>None</td>\n",
       "      <td>Fats</td>\n",
       "      <td>...</td>\n",
       "      <td>Fats</td>\n",
       "      <td>Huile de noix de coco pure, issue de l'agriculture biologique</td>\n",
       "      <td>None</td>\n",
       "      <td>878.0</td>\n",
       "      <td>99.0</td>\n",
       "      <td>86.5</td>\n",
       "      <td>0.0</td>\n",
       "      <td>0.000</td>\n",
       "      <td>0.000</td>\n",
       "      <td>2</td>\n",
       "    </tr>\n",
       "    <tr>\n",
       "      <th>25</th>\n",
       "      <td>8.716671e+12</td>\n",
       "      <td>8.716671e+12</td>\n",
       "      <td>openfoodfacts-contributors</td>\n",
       "      <td>2018-09-05 00:03:24</td>\n",
       "      <td>2018-09-05 00:25:46</td>\n",
       "      <td>Omega &amp; More</td>\n",
       "      <td>Belgium</td>\n",
       "      <td>fr:coco</td>\n",
       "      <td>None</td>\n",
       "      <td>fr:huile-pure-de-noix-de-coco-inodore</td>\n",
       "      <td>...</td>\n",
       "      <td>fr:huile-pure-de-noix-de-coco-inodore</td>\n",
       "      <td>Huile de coco pure à 50% sur un pot de 500 ml</td>\n",
       "      <td>None</td>\n",
       "      <td>NaN</td>\n",
       "      <td>99.0</td>\n",
       "      <td>86.5</td>\n",
       "      <td>0.0</td>\n",
       "      <td>0.000</td>\n",
       "      <td>0.000</td>\n",
       "      <td>2</td>\n",
       "    </tr>\n",
       "    <tr>\n",
       "      <th>26</th>\n",
       "      <td>1.954001e+22</td>\n",
       "      <td>1.954001e+22</td>\n",
       "      <td>openfoodfacts-contributors</td>\n",
       "      <td>2019-05-13 17:59:12</td>\n",
       "      <td>2019-05-13 17:59:13</td>\n",
       "      <td>Escalope de poulet</td>\n",
       "      <td>Belgium</td>\n",
       "      <td>None</td>\n",
       "      <td>None</td>\n",
       "      <td>None</td>\n",
       "      <td>...</td>\n",
       "      <td>None</td>\n",
       "      <td>None</td>\n",
       "      <td>None</td>\n",
       "      <td>103.0</td>\n",
       "      <td>1.3</td>\n",
       "      <td>0.4</td>\n",
       "      <td>0.0</td>\n",
       "      <td>0.300</td>\n",
       "      <td>0.120</td>\n",
       "      <td>5</td>\n",
       "    </tr>\n",
       "    <tr>\n",
       "      <th>27</th>\n",
       "      <td>1.954001e+22</td>\n",
       "      <td>1.954001e+22</td>\n",
       "      <td>kiliweb</td>\n",
       "      <td>2019-08-21 18:12:33</td>\n",
       "      <td>2019-08-21 18:12:35</td>\n",
       "      <td>Escalopes de poulet</td>\n",
       "      <td>Belgium</td>\n",
       "      <td>None</td>\n",
       "      <td>None</td>\n",
       "      <td>None</td>\n",
       "      <td>...</td>\n",
       "      <td>None</td>\n",
       "      <td>None</td>\n",
       "      <td>None</td>\n",
       "      <td>103.0</td>\n",
       "      <td>1.3</td>\n",
       "      <td>0.4</td>\n",
       "      <td>0.0</td>\n",
       "      <td>0.300</td>\n",
       "      <td>0.120</td>\n",
       "      <td>5</td>\n",
       "    </tr>\n",
       "    <tr>\n",
       "      <th>28</th>\n",
       "      <td>1.954001e+22</td>\n",
       "      <td>1.954001e+22</td>\n",
       "      <td>kiliweb</td>\n",
       "      <td>2019-10-17 14:08:37</td>\n",
       "      <td>2019-10-17 14:21:31</td>\n",
       "      <td>Escalope poulet</td>\n",
       "      <td>Belgium</td>\n",
       "      <td>None</td>\n",
       "      <td>None</td>\n",
       "      <td>None</td>\n",
       "      <td>...</td>\n",
       "      <td>None</td>\n",
       "      <td>None</td>\n",
       "      <td>None</td>\n",
       "      <td>103.0</td>\n",
       "      <td>1.3</td>\n",
       "      <td>0.4</td>\n",
       "      <td>0.0</td>\n",
       "      <td>0.300</td>\n",
       "      <td>0.120</td>\n",
       "      <td>5</td>\n",
       "    </tr>\n",
       "    <tr>\n",
       "      <th>29</th>\n",
       "      <td>1.954001e+22</td>\n",
       "      <td>1.954001e+22</td>\n",
       "      <td>kiliweb</td>\n",
       "      <td>2019-11-13 12:41:27</td>\n",
       "      <td>2019-11-13 12:53:29</td>\n",
       "      <td>Escalope de poulet 400gr</td>\n",
       "      <td>Belgium</td>\n",
       "      <td>None</td>\n",
       "      <td>None</td>\n",
       "      <td>None</td>\n",
       "      <td>...</td>\n",
       "      <td>None</td>\n",
       "      <td>None</td>\n",
       "      <td>None</td>\n",
       "      <td>103.0</td>\n",
       "      <td>1.3</td>\n",
       "      <td>0.4</td>\n",
       "      <td>0.0</td>\n",
       "      <td>0.300</td>\n",
       "      <td>0.120</td>\n",
       "      <td>5</td>\n",
       "    </tr>\n",
       "    <tr>\n",
       "      <th>30</th>\n",
       "      <td>1.954001e+22</td>\n",
       "      <td>1.954001e+22</td>\n",
       "      <td>kiliweb</td>\n",
       "      <td>2020-02-05 19:40:01</td>\n",
       "      <td>2020-02-05 19:53:00</td>\n",
       "      <td>Escalope de poulet</td>\n",
       "      <td>Belgium</td>\n",
       "      <td>None</td>\n",
       "      <td>None</td>\n",
       "      <td>None</td>\n",
       "      <td>...</td>\n",
       "      <td>None</td>\n",
       "      <td>None</td>\n",
       "      <td>None</td>\n",
       "      <td>103.0</td>\n",
       "      <td>1.3</td>\n",
       "      <td>0.4</td>\n",
       "      <td>0.0</td>\n",
       "      <td>0.300</td>\n",
       "      <td>0.120</td>\n",
       "      <td>5</td>\n",
       "    </tr>\n",
       "    <tr>\n",
       "      <th>31</th>\n",
       "      <td>1.954250e+22</td>\n",
       "      <td>1.954250e+22</td>\n",
       "      <td>kiliweb</td>\n",
       "      <td>2019-06-30 12:06:25</td>\n",
       "      <td>2020-02-14 11:32:35</td>\n",
       "      <td>Mini burger de poulet précuit</td>\n",
       "      <td>Belgium</td>\n",
       "      <td>None</td>\n",
       "      <td>None</td>\n",
       "      <td>None</td>\n",
       "      <td>...</td>\n",
       "      <td>None</td>\n",
       "      <td>None</td>\n",
       "      <td>None</td>\n",
       "      <td>185.0</td>\n",
       "      <td>12.0</td>\n",
       "      <td>3.0</td>\n",
       "      <td>0.5</td>\n",
       "      <td>1.400</td>\n",
       "      <td>0.560</td>\n",
       "      <td>2</td>\n",
       "    </tr>\n",
       "    <tr>\n",
       "      <th>32</th>\n",
       "      <td>1.954250e+22</td>\n",
       "      <td>1.954250e+22</td>\n",
       "      <td>kiliweb</td>\n",
       "      <td>2020-07-28 09:15:28</td>\n",
       "      <td>2020-07-28 09:15:29</td>\n",
       "      <td>Mini burgee poulet precuit</td>\n",
       "      <td>Belgium</td>\n",
       "      <td>None</td>\n",
       "      <td>None</td>\n",
       "      <td>None</td>\n",
       "      <td>...</td>\n",
       "      <td>None</td>\n",
       "      <td>None</td>\n",
       "      <td>None</td>\n",
       "      <td>NaN</td>\n",
       "      <td>NaN</td>\n",
       "      <td>NaN</td>\n",
       "      <td>NaN</td>\n",
       "      <td>NaN</td>\n",
       "      <td>NaN</td>\n",
       "      <td>2</td>\n",
       "    </tr>\n",
       "    <tr>\n",
       "      <th>33</th>\n",
       "      <td>1.054001e+24</td>\n",
       "      <td>1.054001e+24</td>\n",
       "      <td>openfoodfacts-contributors</td>\n",
       "      <td>2018-09-16 09:54:46</td>\n",
       "      <td>2019-01-31 10:57:28</td>\n",
       "      <td>filet de saumon atlantique</td>\n",
       "      <td>Belgium</td>\n",
       "      <td>None</td>\n",
       "      <td>None</td>\n",
       "      <td>fr:poisson-frais</td>\n",
       "      <td>...</td>\n",
       "      <td>fr:poisson-frais</td>\n",
       "      <td>None</td>\n",
       "      <td>None</td>\n",
       "      <td>NaN</td>\n",
       "      <td>NaN</td>\n",
       "      <td>NaN</td>\n",
       "      <td>NaN</td>\n",
       "      <td>NaN</td>\n",
       "      <td>NaN</td>\n",
       "      <td>2</td>\n",
       "    </tr>\n",
       "    <tr>\n",
       "      <th>34</th>\n",
       "      <td>1.054001e+24</td>\n",
       "      <td>1.054001e+24</td>\n",
       "      <td>dominono21</td>\n",
       "      <td>2019-04-30 18:52:30</td>\n",
       "      <td>2019-04-30 18:58:32</td>\n",
       "      <td>Filet de saumon Atlantique</td>\n",
       "      <td>Belgium</td>\n",
       "      <td>Celery,Crustaceans,Fish,Gluten,Milk,Molluscs,Mustard,Soybeans</td>\n",
       "      <td>None</td>\n",
       "      <td>Salmons</td>\n",
       "      <td>...</td>\n",
       "      <td>Seafood,Fishes,Salmons</td>\n",
       "      <td>Filets de saumon Atlantique norvégien 100 % saumon Atlantique (Salmc salar, élevé en Norvège). Malgré un nettoyage soigneux du poisson ce produit peut contenir d'éventuelles arêtes résiduelles. Co...</td>\n",
       "      <td>None</td>\n",
       "      <td>821.0</td>\n",
       "      <td>13.0</td>\n",
       "      <td>2.2</td>\n",
       "      <td>NaN</td>\n",
       "      <td>0.100</td>\n",
       "      <td>0.040</td>\n",
       "      <td>2</td>\n",
       "    </tr>\n",
       "    <tr>\n",
       "      <th>35</th>\n",
       "      <td>1.054001e+24</td>\n",
       "      <td>1.054001e+24</td>\n",
       "      <td>openfoodfacts-contributors</td>\n",
       "      <td>2018-03-04 09:45:13</td>\n",
       "      <td>2019-01-31 11:00:07</td>\n",
       "      <td>Fouad vieux</td>\n",
       "      <td>Belgium</td>\n",
       "      <td>None</td>\n",
       "      <td>None</td>\n",
       "      <td>None</td>\n",
       "      <td>...</td>\n",
       "      <td>None</td>\n",
       "      <td>None</td>\n",
       "      <td>None</td>\n",
       "      <td>NaN</td>\n",
       "      <td>NaN</td>\n",
       "      <td>NaN</td>\n",
       "      <td>NaN</td>\n",
       "      <td>NaN</td>\n",
       "      <td>NaN</td>\n",
       "      <td>2</td>\n",
       "    </tr>\n",
       "    <tr>\n",
       "      <th>36</th>\n",
       "      <td>1.054001e+24</td>\n",
       "      <td>1.054001e+24</td>\n",
       "      <td>date-limite-app</td>\n",
       "      <td>2018-11-27 19:41:49</td>\n",
       "      <td>2020-02-22 18:46:38</td>\n",
       "      <td>gouda</td>\n",
       "      <td>Belgium,France</td>\n",
       "      <td>None</td>\n",
       "      <td>None</td>\n",
       "      <td>None</td>\n",
       "      <td>...</td>\n",
       "      <td>None</td>\n",
       "      <td>None</td>\n",
       "      <td>None</td>\n",
       "      <td>NaN</td>\n",
       "      <td>NaN</td>\n",
       "      <td>NaN</td>\n",
       "      <td>NaN</td>\n",
       "      <td>NaN</td>\n",
       "      <td>NaN</td>\n",
       "      <td>2</td>\n",
       "    </tr>\n",
       "    <tr>\n",
       "      <th>37</th>\n",
       "      <td>1.054001e+24</td>\n",
       "      <td>1.054001e+24</td>\n",
       "      <td>openfoodfacts-contributors</td>\n",
       "      <td>2019-08-02 20:59:18</td>\n",
       "      <td>2019-08-02 20:59:31</td>\n",
       "      <td>Gouda jeune</td>\n",
       "      <td>Belgium</td>\n",
       "      <td>None</td>\n",
       "      <td>None</td>\n",
       "      <td>None</td>\n",
       "      <td>...</td>\n",
       "      <td>None</td>\n",
       "      <td>None</td>\n",
       "      <td>None</td>\n",
       "      <td>NaN</td>\n",
       "      <td>NaN</td>\n",
       "      <td>NaN</td>\n",
       "      <td>NaN</td>\n",
       "      <td>NaN</td>\n",
       "      <td>NaN</td>\n",
       "      <td>3</td>\n",
       "    </tr>\n",
       "    <tr>\n",
       "      <th>38</th>\n",
       "      <td>1.054001e+24</td>\n",
       "      <td>1.054001e+24</td>\n",
       "      <td>snowcode</td>\n",
       "      <td>2019-12-08 19:12:17</td>\n",
       "      <td>2019-12-08 19:34:59</td>\n",
       "      <td>Gouda</td>\n",
       "      <td>Belgium</td>\n",
       "      <td>Milk</td>\n",
       "      <td>en:e160a,en:e251</td>\n",
       "      <td>Gouda</td>\n",
       "      <td>...</td>\n",
       "      <td>Dairies,Fermented foods,Fermented milk products,Cheeses,Milks,Cow cheeses,Cheeses of the Netherlands,Cow milks,Gouda</td>\n",
       "      <td>fromage, lait de vache pasteurisé, sel, ferments lactiques, présure animale, E251, E160a</td>\n",
       "      <td>E160a - Carotene,E251 - Sodium nitrate</td>\n",
       "      <td>367.0</td>\n",
       "      <td>30.7</td>\n",
       "      <td>20.7</td>\n",
       "      <td>0.0</td>\n",
       "      <td>1.900</td>\n",
       "      <td>0.760</td>\n",
       "      <td>3</td>\n",
       "    </tr>\n",
       "    <tr>\n",
       "      <th>39</th>\n",
       "      <td>1.054001e+24</td>\n",
       "      <td>1.054001e+24</td>\n",
       "      <td>openfoodfacts-contributors</td>\n",
       "      <td>2019-12-12 08:12:42</td>\n",
       "      <td>2019-12-12 08:13:58</td>\n",
       "      <td>gouda jong</td>\n",
       "      <td>Belgium</td>\n",
       "      <td>None</td>\n",
       "      <td>en:e160a,en:e251</td>\n",
       "      <td>None</td>\n",
       "      <td>...</td>\n",
       "      <td>None</td>\n",
       "      <td>Gepasteuriseerde koeMELK, zout, melkzuurfermenten,dierlijk stremsel, conserveermiddel (E251), kleurstof (E160a).. ￼</td>\n",
       "      <td>E160a - Carotene,E251 - Sodium nitrate</td>\n",
       "      <td>NaN</td>\n",
       "      <td>NaN</td>\n",
       "      <td>NaN</td>\n",
       "      <td>NaN</td>\n",
       "      <td>NaN</td>\n",
       "      <td>NaN</td>\n",
       "      <td>3</td>\n",
       "    </tr>\n",
       "  </tbody>\n",
       "</table>\n",
       "<p>40 rows × 23 columns</p>\n",
       "</div>"
      ],
      "text/plain": [
       "            code          code                     Creator  \\\n",
       "0   2.400014e+10  2.400014e+10                     kiliweb   \n",
       "1   2.400014e+10  2.400014e+10                     kiliweb   \n",
       "2   2.400020e+10  2.400020e+10                     kiliweb   \n",
       "3   2.400020e+10  2.400020e+10                     kiliweb   \n",
       "4   3.800018e+10  3.800018e+10                     kiliweb   \n",
       "5   3.800018e+10  3.800018e+10                     kiliweb   \n",
       "6   3.904711e+10  3.904711e+10                     kiliweb   \n",
       "7   3.904711e+10  3.904711e+10                     kiliweb   \n",
       "8   4.606650e+10  4.606650e+10                     kiliweb   \n",
       "9   4.606650e+10  4.606650e+10                     kiliweb   \n",
       "10  5.121430e+10  5.121430e+10                     kiliweb   \n",
       "11  5.121430e+10  5.121430e+10                     kiliweb   \n",
       "12  8.468500e+10  8.468500e+10                     kiliweb   \n",
       "13  8.468500e+10  8.468500e+10                     kiliweb   \n",
       "14  8.968617e+10  8.968617e+10                     kiliweb   \n",
       "15  8.968617e+10  8.968617e+10                     kiliweb   \n",
       "16  6.130087e+11  6.130087e+11  openfoodfacts-contributors   \n",
       "17  6.130087e+11  6.130087e+11                    foodrepo   \n",
       "18  6.130087e+11  6.130087e+11                     tacinte   \n",
       "19  6.130087e+11  6.130087e+11                    foodrepo   \n",
       "20  5.400141e+12  5.400141e+12  openfoodfacts-contributors   \n",
       "21  5.400141e+12  5.400141e+12             mmemesmessinger   \n",
       "22  5.400141e+12  5.400141e+12           gauthier-de-geest   \n",
       "23  5.400141e+12  5.400141e+12                      emerzh   \n",
       "24  8.716671e+12  8.716671e+12  openfoodfacts-contributors   \n",
       "25  8.716671e+12  8.716671e+12  openfoodfacts-contributors   \n",
       "26  1.954001e+22  1.954001e+22  openfoodfacts-contributors   \n",
       "27  1.954001e+22  1.954001e+22                     kiliweb   \n",
       "28  1.954001e+22  1.954001e+22                     kiliweb   \n",
       "29  1.954001e+22  1.954001e+22                     kiliweb   \n",
       "30  1.954001e+22  1.954001e+22                     kiliweb   \n",
       "31  1.954250e+22  1.954250e+22                     kiliweb   \n",
       "32  1.954250e+22  1.954250e+22                     kiliweb   \n",
       "33  1.054001e+24  1.054001e+24  openfoodfacts-contributors   \n",
       "34  1.054001e+24  1.054001e+24                  dominono21   \n",
       "35  1.054001e+24  1.054001e+24  openfoodfacts-contributors   \n",
       "36  1.054001e+24  1.054001e+24             date-limite-app   \n",
       "37  1.054001e+24  1.054001e+24  openfoodfacts-contributors   \n",
       "38  1.054001e+24  1.054001e+24                    snowcode   \n",
       "39  1.054001e+24  1.054001e+24  openfoodfacts-contributors   \n",
       "\n",
       "      Created_datetime Last_modified_datetime  \\\n",
       "0  2017-03-25 12:23:10    2020-08-16 21:19:09   \n",
       "1  2019-06-25 20:13:02    2019-07-30 12:42:17   \n",
       "2  2019-07-26 10:18:35    2019-07-26 10:18:35   \n",
       "3  2019-08-17 15:43:03    2019-12-22 16:56:49   \n",
       "4  2019-06-20 13:25:53    2019-06-20 13:25:54   \n",
       "5  2019-08-13 18:01:45    2020-04-23 17:35:06   \n",
       "6  2017-08-03 16:12:11    2019-03-08 19:59:17   \n",
       "7  2019-06-30 17:45:42    2019-06-30 17:45:43   \n",
       "8  2019-05-20 15:51:09    2019-05-20 15:51:09   \n",
       "9  2019-08-19 16:47:16    2019-08-19 16:58:32   \n",
       "10 2019-06-22 21:27:15    2019-06-22 21:27:15   \n",
       "11 2019-08-08 18:50:41    2019-08-08 18:50:45   \n",
       "12 2019-07-24 19:24:24    2019-07-24 19:24:24   \n",
       "13 2020-03-18 14:05:54    2020-03-18 14:17:27   \n",
       "14 2019-07-27 20:16:32    2019-07-27 20:16:32   \n",
       "15 2020-07-07 01:07:36    2020-08-14 14:25:23   \n",
       "16 2013-06-21 14:57:14    2020-08-18 15:56:49   \n",
       "17 2019-01-29 14:35:09    2019-08-28 18:07:31   \n",
       "18 2015-06-01 12:53:48    2020-08-18 15:57:36   \n",
       "19 2019-01-29 14:35:09    2019-08-28 18:07:31   \n",
       "20 2018-02-04 00:25:56    2020-06-16 19:39:54   \n",
       "21 2018-06-16 13:50:06    2019-01-31 10:56:24   \n",
       "22 2016-12-10 11:17:28    2020-07-24 14:53:30   \n",
       "23 2017-01-21 12:24:41    2019-01-31 11:00:08   \n",
       "24 2017-11-11 11:01:27    2019-04-27 15:08:55   \n",
       "25 2018-09-05 00:03:24    2018-09-05 00:25:46   \n",
       "26 2019-05-13 17:59:12    2019-05-13 17:59:13   \n",
       "27 2019-08-21 18:12:33    2019-08-21 18:12:35   \n",
       "28 2019-10-17 14:08:37    2019-10-17 14:21:31   \n",
       "29 2019-11-13 12:41:27    2019-11-13 12:53:29   \n",
       "30 2020-02-05 19:40:01    2020-02-05 19:53:00   \n",
       "31 2019-06-30 12:06:25    2020-02-14 11:32:35   \n",
       "32 2020-07-28 09:15:28    2020-07-28 09:15:29   \n",
       "33 2018-09-16 09:54:46    2019-01-31 10:57:28   \n",
       "34 2019-04-30 18:52:30    2019-04-30 18:58:32   \n",
       "35 2018-03-04 09:45:13    2019-01-31 11:00:07   \n",
       "36 2018-11-27 19:41:49    2020-02-22 18:46:38   \n",
       "37 2019-08-02 20:59:18    2019-08-02 20:59:31   \n",
       "38 2019-12-08 19:12:17    2019-12-08 19:34:59   \n",
       "39 2019-12-12 08:12:42    2019-12-12 08:13:58   \n",
       "\n",
       "                                      Product_name  \\\n",
       "0                        Peches demi-fruits Au jus   \n",
       "1                      4 / 4 Peches Au Jus Delmont   \n",
       "2                Pêches en tranches au sirop léger   \n",
       "3                               Pêches en tranches   \n",
       "4                                       pOp. tarts   \n",
       "5   Toaster pastries, frosted strawberry milkshake   \n",
       "6              Weight Watchers Cookies Au Chocolat   \n",
       "7                              Cookies Au Chocolat   \n",
       "8                                       Chocolutti   \n",
       "9                                       Chocolutti   \n",
       "10                                  Sirop d'érable   \n",
       "11                      Ahornsiroop/sirop d'érable   \n",
       "12                                        Pretzels   \n",
       "13                                        Pretzels   \n",
       "14                 Noodles Special Chicken Flavour   \n",
       "15                                         Noodles   \n",
       "16                   Original green tea with honey   \n",
       "17                            Green Tea with Honey   \n",
       "18                           Pomegranate Green Tea   \n",
       "19                           Pomegranate Green Tea   \n",
       "20                                 Tomate concasse   \n",
       "21               Everyday Tomates concassées 400 g   \n",
       "22                    Cribbits Rice & Wheat Flakes   \n",
       "23                                   Cereal flakes   \n",
       "24                 Huile de noix de coco Kokosolie   \n",
       "25                                    Omega & More   \n",
       "26                              Escalope de poulet   \n",
       "27                             Escalopes de poulet   \n",
       "28                                 Escalope poulet   \n",
       "29                        Escalope de poulet 400gr   \n",
       "30                              Escalope de poulet   \n",
       "31                   Mini burger de poulet précuit   \n",
       "32                      Mini burgee poulet precuit   \n",
       "33                      filet de saumon atlantique   \n",
       "34                      Filet de saumon Atlantique   \n",
       "35                                     Fouad vieux   \n",
       "36                                           gouda   \n",
       "37                                     Gouda jeune   \n",
       "38                                           Gouda   \n",
       "39                                      gouda jong   \n",
       "\n",
       "                                                                Countries_en  \\\n",
       "0                                                             Belgium,France   \n",
       "1                                                                    Belgium   \n",
       "2                                                                    Belgium   \n",
       "3                                                                    Belgium   \n",
       "4                                                                    Belgium   \n",
       "5                                                      Belgium,United States   \n",
       "6                                                             Belgium,France   \n",
       "7                                                                    Belgium   \n",
       "8                                                                    Belgium   \n",
       "9                                                                    Belgium   \n",
       "10                                                                   Belgium   \n",
       "11                                                                   Belgium   \n",
       "12                                                                   Belgium   \n",
       "13                                                                   Belgium   \n",
       "14                                                                   Belgium   \n",
       "15                                                                   Belgium   \n",
       "16  Australia,Austria,Belgium,France,French Polynesia,Luxembourg,Switzerland   \n",
       "17                                                Belgium,France,Switzerland   \n",
       "18                                        Austria,Belgium,France,Switzerland   \n",
       "19                                                Belgium,France,Switzerland   \n",
       "20                                                                   Belgium   \n",
       "21                                                                   Belgium   \n",
       "22                                                                   Belgium   \n",
       "23                                                                   Belgium   \n",
       "24                                                            Belgium,France   \n",
       "25                                                                   Belgium   \n",
       "26                                                                   Belgium   \n",
       "27                                                                   Belgium   \n",
       "28                                                                   Belgium   \n",
       "29                                                                   Belgium   \n",
       "30                                                                   Belgium   \n",
       "31                                                                   Belgium   \n",
       "32                                                                   Belgium   \n",
       "33                                                                   Belgium   \n",
       "34                                                                   Belgium   \n",
       "35                                                                   Belgium   \n",
       "36                                                            Belgium,France   \n",
       "37                                                                   Belgium   \n",
       "38                                                                   Belgium   \n",
       "39                                                                   Belgium   \n",
       "\n",
       "                                                        Traces_en  \\\n",
       "0                                                            None   \n",
       "1                                                            None   \n",
       "2                                                            None   \n",
       "3                                                            None   \n",
       "4                                                            None   \n",
       "5                                                            None   \n",
       "6                                                            Nuts   \n",
       "7                                                            None   \n",
       "8                                                            None   \n",
       "9                                                            None   \n",
       "10                                                           None   \n",
       "11                                                           None   \n",
       "12                                                           None   \n",
       "13                                                           None   \n",
       "14                                                           None   \n",
       "15                                                           None   \n",
       "16                                                           None   \n",
       "17                                                           None   \n",
       "18                                                           None   \n",
       "19                                                           None   \n",
       "20                                                           None   \n",
       "21                                                           None   \n",
       "22                             Nuts,Peanuts,Sesame seeds,Soybeans   \n",
       "23                                                           None   \n",
       "24                                                           None   \n",
       "25                                                        fr:coco   \n",
       "26                                                           None   \n",
       "27                                                           None   \n",
       "28                                                           None   \n",
       "29                                                           None   \n",
       "30                                                           None   \n",
       "31                                                           None   \n",
       "32                                                           None   \n",
       "33                                                           None   \n",
       "34  Celery,Crustaceans,Fish,Gluten,Milk,Molluscs,Mustard,Soybeans   \n",
       "35                                                           None   \n",
       "36                                                           None   \n",
       "37                                                           None   \n",
       "38                                                           Milk   \n",
       "39                                                           None   \n",
       "\n",
       "                                                                                                Additives_tags  \\\n",
       "0                                                                                                         None   \n",
       "1                                                                                                         None   \n",
       "2                                                                                                         None   \n",
       "3                                                                                                         None   \n",
       "4                                                                                                         None   \n",
       "5   en:e102,en:e110,en:e129,en:e133,en:e322,en:e322i,en:e341,en:e341i,en:e415,en:e428,en:e450,en:e472e,en:e903   \n",
       "6                                                                                             en:e322,en:e322i   \n",
       "7                                                                                                         None   \n",
       "8                                                                                                         None   \n",
       "9                                                                                                         None   \n",
       "10                                                                                                        None   \n",
       "11                                                                                                        None   \n",
       "12                                                                                                        None   \n",
       "13                                                                                                        None   \n",
       "14                                                                                                        None   \n",
       "15                                                                                                        None   \n",
       "16                                                                                                     en:e300   \n",
       "17                                                                                             en:e300,en:e330   \n",
       "18                                                                                             en:e300,en:e330   \n",
       "19                                                                                                        None   \n",
       "20                                                                                                     en:e330   \n",
       "21                                                                                                     en:e330   \n",
       "22                                                                                                     en:e471   \n",
       "23                                                                                                     en:e471   \n",
       "24                                                                                                        None   \n",
       "25                                                                                                        None   \n",
       "26                                                                                                        None   \n",
       "27                                                                                                        None   \n",
       "28                                                                                                        None   \n",
       "29                                                                                                        None   \n",
       "30                                                                                                        None   \n",
       "31                                                                                                        None   \n",
       "32                                                                                                        None   \n",
       "33                                                                                                        None   \n",
       "34                                                                                                        None   \n",
       "35                                                                                                        None   \n",
       "36                                                                                                        None   \n",
       "37                                                                                                        None   \n",
       "38                                                                                            en:e160a,en:e251   \n",
       "39                                                                                            en:e160a,en:e251   \n",
       "\n",
       "                         Main_category_en  ...  \\\n",
       "0                         Fruits in syrup  ...   \n",
       "1                                    None  ...   \n",
       "2                                    None  ...   \n",
       "3                                    None  ...   \n",
       "4                                    None  ...   \n",
       "5                              Sweet pies  ...   \n",
       "6                                    None  ...   \n",
       "7                                    None  ...   \n",
       "8                                    None  ...   \n",
       "9                                    None  ...   \n",
       "10                                   None  ...   \n",
       "11                                   None  ...   \n",
       "12                                   None  ...   \n",
       "13                                   None  ...   \n",
       "14                                   None  ...   \n",
       "15                                   None  ...   \n",
       "16                    Sweetened beverages  ...   \n",
       "17                                   None  ...   \n",
       "18                    Sweetened beverages  ...   \n",
       "19                                   None  ...   \n",
       "20            Tomatoes and their products  ...   \n",
       "21                                   None  ...   \n",
       "22                      Breakfast cereals  ...   \n",
       "23                                   None  ...   \n",
       "24                                   Fats  ...   \n",
       "25  fr:huile-pure-de-noix-de-coco-inodore  ...   \n",
       "26                                   None  ...   \n",
       "27                                   None  ...   \n",
       "28                                   None  ...   \n",
       "29                                   None  ...   \n",
       "30                                   None  ...   \n",
       "31                                   None  ...   \n",
       "32                                   None  ...   \n",
       "33                       fr:poisson-frais  ...   \n",
       "34                                Salmons  ...   \n",
       "35                                   None  ...   \n",
       "36                                   None  ...   \n",
       "37                                   None  ...   \n",
       "38                                  Gouda  ...   \n",
       "39                                   None  ...   \n",
       "\n",
       "                                                                                                                                                                          Categories_en  \\\n",
       "0   Plant-based foods and beverages,Plant-based foods,Canned foods,Desserts,Fruits and vegetables based foods,Canned plant-based foods,Fruits based foods,Canned fruits,Fruits in syrup   \n",
       "1                                                                                                                                                                                  None   \n",
       "2                                                                                                                                                                                  None   \n",
       "3                                                                                                                                                                                  None   \n",
       "4                                                                                                                                                                                  None   \n",
       "5                                                                                                                                           Biscuits and cakes,Pies,Pastries,Sweet pies   \n",
       "6                                                                                                                                                                                  None   \n",
       "7                                                                                                                                                                                  None   \n",
       "8                                                                                                                                                                                  None   \n",
       "9                                                                                                                                                                                  None   \n",
       "10                                                                                                                                                                                 None   \n",
       "11                                                                                                                                                                                 None   \n",
       "12                                                                                                                                                                                 None   \n",
       "13                                                                                                                                                                                 None   \n",
       "14                                                                                                                                                                                 None   \n",
       "15                                                                                                                                                                                 None   \n",
       "16                                                                    Plant-based foods and beverages,Beverages,Plant-based beverages,Tea-based beverages,Iced teas,Sweetened beverages   \n",
       "17                                                                                                                                                                                 None   \n",
       "18            Plant-based foods and beverages,Beverages,Hot beverages,Plant-based beverages,Teas,Fruit-based beverages,Green teas,Non-Alcoholic beverages,Iced teas,Sweetened beverages   \n",
       "19                                                                                                                                                                                 None   \n",
       "20                                               Plant-based foods and beverages,Plant-based foods,Fruits and vegetables based foods,Vegetables based foods,Tomatoes and their products   \n",
       "21                                                                                                                                                                                 None   \n",
       "22                                                       Plant-based foods and beverages,Plant-based foods,Cereals and potatoes,Breakfasts,Cereals and their products,Breakfast cereals   \n",
       "23                                                                                                                                                                                 None   \n",
       "24                                                                                                                                                                                 Fats   \n",
       "25                                                                                                                                                fr:huile-pure-de-noix-de-coco-inodore   \n",
       "26                                                                                                                                                                                 None   \n",
       "27                                                                                                                                                                                 None   \n",
       "28                                                                                                                                                                                 None   \n",
       "29                                                                                                                                                                                 None   \n",
       "30                                                                                                                                                                                 None   \n",
       "31                                                                                                                                                                                 None   \n",
       "32                                                                                                                                                                                 None   \n",
       "33                                                                                                                                                                     fr:poisson-frais   \n",
       "34                                                                                                                                                               Seafood,Fishes,Salmons   \n",
       "35                                                                                                                                                                                 None   \n",
       "36                                                                                                                                                                                 None   \n",
       "37                                                                                                                                                                                 None   \n",
       "38                                                                 Dairies,Fermented foods,Fermented milk products,Cheeses,Milks,Cow cheeses,Cheeses of the Netherlands,Cow milks,Gouda   \n",
       "39                                                                                                                                                                                 None   \n",
       "\n",
       "                                                                                                                                                                                           Ingredients_text  \\\n",
       "0                                                                                                                                                                                  Demi-pêches, jus naturel   \n",
       "1                                                                                                                                                                                                      None   \n",
       "2                                                                                                                                                                                                      None   \n",
       "3                                                                                                                                                                                                      None   \n",
       "4                                                                                                                                                                                                      None   \n",
       "5   Enriched flour (wheat flour, niacin, reduced iron, vitamin B1 [thiamin mononitrate], vitamin B2 [riboflavin], folic acid), corn syrup, high fructose corn syrup, soybean and palm oil (with TBHQ for...   \n",
       "6   farine de blé fortifié (farine de blé, calcium, fer, niacine, thiamine), flocons d'avoine,nuile de colza, sucre, pépites de chocolat noir (7%) (sucre, pâte de cacao, beurre de lécithine de soja; a...   \n",
       "7                                                                                                                                                                                                      None   \n",
       "8                                                                                                                                                                                                      None   \n",
       "9                                                                                                                                                                                                      None   \n",
       "10                                                                                                                                                                                                     None   \n",
       "11                                                                                                                                                                                                     None   \n",
       "12                                                                                                                                                                                                     None   \n",
       "13                                                                                                                                                                                                     None   \n",
       "14                                                                                                                                                                                                     None   \n",
       "15                                                                                                                                                                                                     None   \n",
       "16                                           water, sugar, honey (0,18%), green tea extract (0,14%), natural flavouring, antioxidant: ascorbic acid, acidificante: citric acidificante, ginseng flavouring,   \n",
       "17                                                          Eau, sucre, miel (0,18%), extrait de thé vert (0,14%), arôme naturel, antioxydant: acide ascorbique, acidifiant: acide citrique, arôme ginseng.   \n",
       "18  eau, sucre, jus de pomme à base de concentré (3,4%), jus de grenade à base de concentré (1,6%), miel, arôme naturel, jus de carotte à base de concentré, extrait de thé vert (0,05%), antioxydant : ...   \n",
       "19                                                                                                                                                                                                     None   \n",
       "20                                                                                                                           Tomates concassées - 60 % tomates, jus de tomate, correcteur d'acidité (E330).   \n",
       "21                                                                                                                                                 60 % tomates, jus de tomate, correcteur d’acidité (E330)   \n",
       "22  Céréales (63 % riz, 21 % _blé_ complet), sucre, _gluten de blé_, germes de _blé_, sel, extrait de malt d'_orge_, _lait_ écrémé en poudre, vitamines (B1, B2, B3, B6, B9, B12, C), fer, émulsifiant (...   \n",
       "23  Céréales (63 % riz, 21 % BLE complet), sucre, gluten de BLE , germes de BLE, sel, extrait de malt d'ORGE, LAIT écrémé en poudre, vitamines (B1, B2, B3, B6, B9, B12, C), fer, émulsifiant (E471), ar...   \n",
       "24                                                                                                                                            Huile de noix de coco pure, issue de l'agriculture biologique   \n",
       "25                                                                                                                                                            Huile de coco pure à 50% sur un pot de 500 ml   \n",
       "26                                                                                                                                                                                                     None   \n",
       "27                                                                                                                                                                                                     None   \n",
       "28                                                                                                                                                                                                     None   \n",
       "29                                                                                                                                                                                                     None   \n",
       "30                                                                                                                                                                                                     None   \n",
       "31                                                                                                                                                                                                     None   \n",
       "32                                                                                                                                                                                                     None   \n",
       "33                                                                                                                                                                                                     None   \n",
       "34  Filets de saumon Atlantique norvégien 100 % saumon Atlantique (Salmc salar, élevé en Norvège). Malgré un nettoyage soigneux du poisson ce produit peut contenir d'éventuelles arêtes résiduelles. Co...   \n",
       "35                                                                                                                                                                                                     None   \n",
       "36                                                                                                                                                                                                     None   \n",
       "37                                                                                                                                                                                                     None   \n",
       "38                                                                                                                 fromage, lait de vache pasteurisé, sel, ferments lactiques, présure animale, E251, E160a   \n",
       "39                                                                                      Gepasteuriseerde koeMELK, zout, melkzuurfermenten,dierlijk stremsel, conserveermiddel (E251), kleurstof (E160a).. ￼   \n",
       "\n",
       "                                                                                                                                                                                               Additives_en  \\\n",
       "0                                                                                                                                                                                                      None   \n",
       "1                                                                                                                                                                                                      None   \n",
       "2                                                                                                                                                                                                      None   \n",
       "3                                                                                                                                                                                                      None   \n",
       "4                                                                                                                                                                                                      None   \n",
       "5   E102 - Tartrazine,E110 - Sunset yellow FCF,E129 - Allura red ac,E133 - Brilliant blue FCF,E322 - Lecithins,E322i - Lecithin,E341 - Calcium phosphates,E341i - Monocalcium phosphate,E415 - Xanthan g...   \n",
       "6                                                                                                                                                                         E322 - Lecithins,E322i - Lecithin   \n",
       "7                                                                                                                                                                                                      None   \n",
       "8                                                                                                                                                                                                      None   \n",
       "9                                                                                                                                                                                                      None   \n",
       "10                                                                                                                                                                                                     None   \n",
       "11                                                                                                                                                                                                     None   \n",
       "12                                                                                                                                                                                                     None   \n",
       "13                                                                                                                                                                                                     None   \n",
       "14                                                                                                                                                                                                     None   \n",
       "15                                                                                                                                                                                                     None   \n",
       "16                                                                                                                                                                                     E300 - Ascorbic acid   \n",
       "17                                                                                                                                                                  E300 - Ascorbic acid,E330 - Citric acid   \n",
       "18                                                                                                                                                                  E300 - Ascorbic acid,E330 - Citric acid   \n",
       "19                                                                                                                                                                                                     None   \n",
       "20                                                                                                                                                                                       E330 - Citric acid   \n",
       "21                                                                                                                                                                                       E330 - Citric acid   \n",
       "22                                                                                                                                                             E471 - Mono- and diglycerides of fatty acids   \n",
       "23                                                                                                                                                             E471 - Mono- and diglycerides of fatty acids   \n",
       "24                                                                                                                                                                                                     None   \n",
       "25                                                                                                                                                                                                     None   \n",
       "26                                                                                                                                                                                                     None   \n",
       "27                                                                                                                                                                                                     None   \n",
       "28                                                                                                                                                                                                     None   \n",
       "29                                                                                                                                                                                                     None   \n",
       "30                                                                                                                                                                                                     None   \n",
       "31                                                                                                                                                                                                     None   \n",
       "32                                                                                                                                                                                                     None   \n",
       "33                                                                                                                                                                                                     None   \n",
       "34                                                                                                                                                                                                     None   \n",
       "35                                                                                                                                                                                                     None   \n",
       "36                                                                                                                                                                                                     None   \n",
       "37                                                                                                                                                                                                     None   \n",
       "38                                                                                                                                                                   E160a - Carotene,E251 - Sodium nitrate   \n",
       "39                                                                                                                                                                   E160a - Carotene,E251 - Sodium nitrate   \n",
       "\n",
       "   Energy_kcal_100g Fat_100g Saturated_fat_100g  Sugars_100g  Salt_100g  \\\n",
       "0              51.0      0.0                0.0          0.0      0.100   \n",
       "1              51.0      0.0                0.0         11.0      0.060   \n",
       "2              64.0      0.0                0.0         11.0      0.050   \n",
       "3              64.0      0.0                0.0         11.0      0.050   \n",
       "4             400.0      4.0                0.0         30.0      0.400   \n",
       "5             400.0     12.0                4.0         30.0      0.985   \n",
       "6             443.0     17.3                5.8         19.6      0.600   \n",
       "7             443.0     17.3                5.8         19.6      0.600   \n",
       "8               NaN      NaN                NaN          NaN        NaN   \n",
       "9             467.0     20.2               11.8         52.0      1.100   \n",
       "10            200.0      0.0                0.0         53.0      0.000   \n",
       "11              NaN      NaN                NaN          NaN        NaN   \n",
       "12            451.0     12.6                3.0          3.1      1.900   \n",
       "13            451.0     12.6                3.0          3.1      1.900   \n",
       "14            467.0     21.0                8.0          4.0      4.000   \n",
       "15            467.0     21.0                8.0          4.0      4.000   \n",
       "16              NaN      0.0                0.0          6.7      0.010   \n",
       "17              NaN      0.0                0.0          6.7      0.010   \n",
       "18             21.0      0.0                0.0          4.9      0.000   \n",
       "19              NaN      0.0                0.0          8.7      0.010   \n",
       "20             23.0      0.5                0.0          3.0      0.100   \n",
       "21              NaN      0.5                0.0          3.0      0.100   \n",
       "22            385.0      1.5                0.4         17.0      0.900   \n",
       "23              NaN      1.5                0.4         17.0      0.880   \n",
       "24            878.0     99.0               86.5          0.0      0.000   \n",
       "25              NaN     99.0               86.5          0.0      0.000   \n",
       "26            103.0      1.3                0.4          0.0      0.300   \n",
       "27            103.0      1.3                0.4          0.0      0.300   \n",
       "28            103.0      1.3                0.4          0.0      0.300   \n",
       "29            103.0      1.3                0.4          0.0      0.300   \n",
       "30            103.0      1.3                0.4          0.0      0.300   \n",
       "31            185.0     12.0                3.0          0.5      1.400   \n",
       "32              NaN      NaN                NaN          NaN        NaN   \n",
       "33              NaN      NaN                NaN          NaN        NaN   \n",
       "34            821.0     13.0                2.2          NaN      0.100   \n",
       "35              NaN      NaN                NaN          NaN        NaN   \n",
       "36              NaN      NaN                NaN          NaN        NaN   \n",
       "37              NaN      NaN                NaN          NaN        NaN   \n",
       "38            367.0     30.7               20.7          0.0      1.900   \n",
       "39              NaN      NaN                NaN          NaN        NaN   \n",
       "\n",
       "    sodium_100g  duplicated  \n",
       "0         0.040           2  \n",
       "1         0.024           2  \n",
       "2         0.020           2  \n",
       "3         0.020           2  \n",
       "4         0.160           2  \n",
       "5         0.394           2  \n",
       "6         0.240           2  \n",
       "7         0.240           2  \n",
       "8           NaN           2  \n",
       "9         0.440           2  \n",
       "10        0.000           2  \n",
       "11          NaN           2  \n",
       "12        0.760           2  \n",
       "13        0.760           2  \n",
       "14        1.600           2  \n",
       "15        1.600           2  \n",
       "16        0.004           2  \n",
       "17        0.004           2  \n",
       "18        0.000           2  \n",
       "19        0.004           2  \n",
       "20        0.040           2  \n",
       "21        0.040           2  \n",
       "22        0.360           2  \n",
       "23        0.352           2  \n",
       "24        0.000           2  \n",
       "25        0.000           2  \n",
       "26        0.120           5  \n",
       "27        0.120           5  \n",
       "28        0.120           5  \n",
       "29        0.120           5  \n",
       "30        0.120           5  \n",
       "31        0.560           2  \n",
       "32          NaN           2  \n",
       "33          NaN           2  \n",
       "34        0.040           2  \n",
       "35          NaN           2  \n",
       "36          NaN           2  \n",
       "37          NaN           3  \n",
       "38        0.760           3  \n",
       "39          NaN           3  \n",
       "\n",
       "[40 rows x 23 columns]"
      ]
     },
     "execution_count": 83,
     "metadata": {},
     "output_type": "execute_result"
    }
   ],
   "source": [
    "# Given that there are only 44 rows, we convert the dataframe of duplicated columns to a pandas dataframe to be able to see them in a better format.\n",
    "pd.set_option('display.max_colwidth', 200)\n",
    "products_dup.sort('code','created_datetime').toPandas()"
   ]
  },
  {
   "cell_type": "markdown",
   "metadata": {},
   "source": [
    "- There doesn't seem to be any consistency between the created_datetime or last_modified_datetime and the completness of the data.\n",
    "- 44 products out of 51797 represents less than 0.01% of the data\n",
    "\n",
    "Therefore, we do not consider necessary to eliminate the duplicates because there's isn't a clear business rule and the significance of the duplicates is not relevant"
   ]
  },
  {
   "cell_type": "markdown",
   "metadata": {},
   "source": [
    "#### 4.5.1. Number of products by category\n",
    "<a id='4.5.1.'></a>"
   ]
  },
  {
   "cell_type": "code",
   "execution_count": 94,
   "metadata": {},
   "outputs": [],
   "source": [
    "# subset the fields needed and explode the category_en field (from field of interest)  dividing by the comma\n",
    "categories_df = (\n",
    "                 df.select(\n",
    "                 'code',\n",
    "                 'Product_name',\n",
    "                 col('Categories_en').alias('Cat_full'),\n",
    "                 explode(split(\"categories_en\", \",\")).alias('categories'))\\\n",
    "                )"
   ]
  },
  {
   "cell_type": "code",
   "execution_count": 95,
   "metadata": {},
   "outputs": [
    {
     "data": {
      "text/plain": [
       "3823"
      ]
     },
     "execution_count": 95,
     "metadata": {},
     "output_type": "execute_result"
    }
   ],
   "source": [
    "# check how many distinct categories we have in the df\n",
    "\n",
    "categories_df.select('categories').distinct().count()"
   ]
  },
  {
   "cell_type": "code",
   "execution_count": 96,
   "metadata": {
    "scrolled": true
   },
   "outputs": [
    {
     "data": {
      "text/plain": [
       "1408"
      ]
     },
     "execution_count": 96,
     "metadata": {},
     "output_type": "execute_result"
    }
   ],
   "source": [
    "# check how many of the categories exploded have a colon in the text, this kind of conventions usually means that the term is in a key-value format; indicating the language first\n",
    "# and then the actual category. Since we are only interested in the categories in english we want to see how many of this fields have this typo of format in order to decide if we \n",
    "# should address it.\n",
    "\n",
    "categories_df.select('categories').filter(col('categories').contains(':')).distinct().count()"
   ]
  },
  {
   "cell_type": "code",
   "execution_count": 87,
   "metadata": {
    "scrolled": true
   },
   "outputs": [],
   "source": [
    "# Given the amount of rows with the format key-value in them, we decide is better to split the category column in several columns, one for each language.\n",
    "# first we start by extracting the key values, which tells us the language the category is written in\n",
    "# Given that, apparently, there are no labels for the english language, we assume that all the fields that doesn't have a value are in english. This is why we also create a column\n",
    "# named en, where we are ging to store all the values that don't have a key-value format\n",
    "\n",
    "categories_df = categories_df.withColumn('keys_cat',\\\n",
    "                                when(col('categories').contains(':'),split(col('categories'), ':')[0]))\\\n",
    "                        .withColumn('en',\\\n",
    "                                when(col('categories').contains(':'),None).otherwise(col('categories')))\n",
    "\n",
    "# create a subset of the different languages found in the category row.\n",
    "\n",
    "keys = categories_df.select('keys_cat').distinct()\n",
    "keys = keys.dropna()"
   ]
  },
  {
   "cell_type": "code",
   "execution_count": 88,
   "metadata": {},
   "outputs": [],
   "source": [
    "# we create a new column on the category_df dataframe per language found in the category field.\n",
    "\n",
    "for i in keys.collect():\n",
    "    categories_df = categories_df.withColumn(i.keys_cat,\\\n",
    "                                when(col('keys_cat')==i.keys_cat,split(col('categories'), ':')[1]))\n"
   ]
  },
  {
   "cell_type": "code",
   "execution_count": 89,
   "metadata": {
    "scrolled": true
   },
   "outputs": [
    {
     "name": "stdout",
     "output_type": "stream",
     "text": [
      "+------------------------------------+\n",
      "|en                                  |\n",
      "+------------------------------------+\n",
      "|Leaf vegetables                     |\n",
      "|Tea bags                            |\n",
      "|Ayran                               |\n",
      "|Rice puddings                       |\n",
      "|Brown sugars                        |\n",
      "|Pork belly                          |\n",
      "|Legume seeds                        |\n",
      "|Gazpacho                            |\n",
      "|Food decorations                    |\n",
      "|Frozen poultry                      |\n",
      "|Coffee ice cream tubs               |\n",
      "|Corn starch                         |\n",
      "|Rice flakes                         |\n",
      "|Tortillas                           |\n",
      "|Aromatic herbs                      |\n",
      "|Mashed split peas                   |\n",
      "|Aoc-cheeses                         |\n",
      "|Băuturi-din-plante                  |\n",
      "|Lactose-free cheeses                |\n",
      "|Nespresso-compatible coffee capsules|\n",
      "|Blackberries                        |\n",
      "|Smoked bacon                        |\n",
      "|Coffee drinks                       |\n",
      "|Peach syrups                        |\n",
      "|Taramasalata                        |\n",
      "|Prepared vegetables macedoines      |\n",
      "|Sodas with exotic fruits            |\n",
      "|Canned meats                        |\n",
      "|Linguine                            |\n",
      "|Salted chocolates                   |\n",
      "|Chocolates with extra fine milk     |\n",
      "|Wines from Spain                    |\n",
      "|Vanilla soy milks                   |\n",
      "|Fresh muskmelons                    |\n",
      "|Flavoured bifidus yogurts           |\n",
      "|Panko                               |\n",
      "|Bread crumbs                        |\n",
      "|Honey candies                       |\n",
      "|Dried plant-based foods             |\n",
      "|Chickens                            |\n",
      "|Lamb meat                           |\n",
      "|Pear jams                           |\n",
      "|Worcestershire sauces               |\n",
      "|Quinoa crisps                       |\n",
      "|Smeerkazen                          |\n",
      "|Canned asparagus                    |\n",
      "|Diet sodas                          |\n",
      "|Blended whisky                      |\n",
      "|White-beans-in-tomato-sauce         |\n",
      "|Vanilla stuffed wafers              |\n",
      "+------------------------------------+\n",
      "only showing top 50 rows\n",
      "\n"
     ]
    }
   ],
   "source": [
    "# Explore the different categories in english: categories found on the categories field that didn't have a key-value format and therefore were assumed to be en english. To check that \n",
    "# the names retrieved actually seem to be in english\n",
    "\n",
    "categories_df.select('en').filter((col('en').isNotNull()) & (col('en').isNotNull())).distinct().sample(False, 0.2).show(50,truncate=False)"
   ]
  },
  {
   "cell_type": "code",
   "execution_count": 90,
   "metadata": {
    "scrolled": true
   },
   "outputs": [
    {
     "name": "stdout",
     "output_type": "stream",
     "text": [
      "+--------------------+-----------------+\n",
      "|            cat_full|               ro|\n",
      "+--------------------+-----------------+\n",
      "|         ro:bomboane|         bomboane|\n",
      "|  ro:paste-proaspete|  paste-proaspete|\n",
      "|ro:produse-unsuroase|produse-unsuroase|\n",
      "+--------------------+-----------------+\n",
      "\n"
     ]
    },
    {
     "data": {
      "text/plain": [
       "None"
      ]
     },
     "metadata": {},
     "output_type": "display_data"
    },
    {
     "name": "stdout",
     "output_type": "stream",
     "text": [
      "+------------------------------------------------------------------------------------------------------------------------+------------------+\n",
      "|                                                                                                                cat_full|                pl|\n",
      "+------------------------------------------------------------------------------------------------------------------------+------------------+\n",
      "|Beverages,Carbonated drinks,Non-Alcoholic beverages,Energy drinks,Sweetened beverages,pl:energiedrank,pl:zawiera-kofeinę|   zawiera-kofeinę|\n",
      "|                                                                                             pl:mięso,pl:mięso-wieprzowe|   mięso-wieprzowe|\n",
      "|                                                                                                         pl:jogurt-pitny|      jogurt-pitny|\n",
      "|                                                                                                               pl:nabial|            nabial|\n",
      "|                                                                                                              pl:capperi|           capperi|\n",
      "|           Desserts,Frozen foods,Frozen desserts,Ice creams and sorbets,Ice creams,Sorbets,Mango sorbets,pl:bezglutenowy|      bezglutenowy|\n",
      "|                    Desserts,Frozen foods,Frozen desserts,Ice creams and sorbets,Ice creams,Ice cream tubs,pl:glutenfree|        glutenfree|\n",
      "|                                                                                       Groceries,Sauces,pl:sos-spaghetti|     sos-spaghetti|\n",
      "|                                                                                             pl:mięso,pl:mięso-wieprzowe|             mięso|\n",
      "|Plant-based foods and beverages,Plant-based foods,Fruits and vegetables based foods,Spreads,Breakfasts,Fruits based f...|         konfitura|\n",
      "|Beverages,Carbonated drinks,Non-Alcoholic beverages,Energy drinks,Sweetened beverages,pl:energiedrank,pl:zawiera-kofeinę|      energiedrank|\n",
      "|                                                                                                    pl:wafel-czekoladowy| wafel-czekoladowy|\n",
      "|                                             Beverages,Non-Alcoholic beverages,Sweetened beverages,pl:napoje-niegazowane|napoje-niegazowane|\n",
      "+------------------------------------------------------------------------------------------------------------------------+------------------+\n",
      "\n"
     ]
    },
    {
     "data": {
      "text/plain": [
       "None"
      ]
     },
     "metadata": {},
     "output_type": "display_data"
    },
    {
     "name": "stdout",
     "output_type": "stream",
     "text": [
      "+-----------------------------------------------------------------+--------------------+\n",
      "|                                                         cat_full|                  pt|\n",
      "+-----------------------------------------------------------------+--------------------+\n",
      "|   Canned foods,it:integratore-alimentari,pt:suplemento-alimentar|suplemento-alimentar|\n",
      "|Dairies,Fermented foods,Fermented milk products,Cheeses,pt:queijo|              queijo|\n",
      "+-----------------------------------------------------------------+--------------------+\n",
      "\n"
     ]
    },
    {
     "data": {
      "text/plain": [
       "None"
      ]
     },
     "metadata": {},
     "output_type": "display_data"
    },
    {
     "name": "stdout",
     "output_type": "stream",
     "text": [
      "+--------------------------------+-----------------------------+\n",
      "|                        cat_full|                           tr|\n",
      "+--------------------------------+-----------------------------+\n",
      "|tr:dessert-au-chocolat-et-sésame|dessert-au-chocolat-et-sésame|\n",
      "+--------------------------------+-----------------------------+\n",
      "\n"
     ]
    },
    {
     "data": {
      "text/plain": [
       "None"
      ]
     },
     "metadata": {},
     "output_type": "display_data"
    },
    {
     "name": "stdout",
     "output_type": "stream",
     "text": [
      "+------------------------------------------------------------------------------------------------------------------------+----------------------------+\n",
      "|                                                                                                                cat_full|                          de|\n",
      "+------------------------------------------------------------------------------------------------------------------------+----------------------------+\n",
      "|                                                 Meats,Prepared meats,Cut,de:belag,de:gewürtzte-putenbrust,de:putenbrust|                  putenbrust|\n",
      "|                                                                                                             de:porridge|                    porridge|\n",
      "|                                                                                              de:fruchtsäfte-und-nektare|     fruchtsäfte-und-nektare|\n",
      "|                                                                                                       de:sirup-getränke|              sirup-getränke|\n",
      "|                                                                                                 Beverages,de:fischsauce|                  fischsauce|\n",
      "|Plant-based foods and beverages,Plant-based foods,Fruits and vegetables based foods,Vegetables based foods,Leaf veget...|           legumes-fermentes|\n",
      "|                                                                                                                  de:jus|                         jus|\n",
      "|                                                                                                     de:gekuhlter-kaffee|            gekuhlter-kaffee|\n",
      "|                                                          Baby foods,de:babykost-ab-dem-6-monat,de:nourriture-pour-bébés|       nourriture-pour-bébés|\n",
      "|Plant-based foods and beverages,Plant-based foods,Cereals and potatoes,Cereals and their products,Pastas,Wheat pasta,...|          girandole-torsades|\n",
      "|Plant-based foods and beverages,Plant-based foods,Legumes and their products,Legumes,Seeds,Legume seeds,Pulses,Chickp...|kichererbsen-in-tomatensauce|\n",
      "|                                                                                                 de:farine-usage-spécial|        farine-usage-spécial|\n",
      "|                                                                                                         de:tomatensauce|                tomatensauce|\n",
      "|                                                                                                          de:energydrink|                 energydrink|\n",
      "|                                                                  Snacks,Sweet snacks,de:kaubonbons,de:kaubonbonstreifen|                  kaubonbons|\n",
      "| Beverages,Dried products,Dried products to be rehydrated,Dehydrated beverages,Sweetened beverages,de:instant-teegetränk|          instant-teegetränk|\n",
      "|                                                 Meats,Prepared meats,Cut,de:belag,de:gewürtzte-putenbrust,de:putenbrust|                       belag|\n",
      "|                                                 Meats,Prepared meats,Cut,de:belag,de:gewürtzte-putenbrust,de:putenbrust|        gewürtzte-putenbrust|\n",
      "|                                                 Dairies,Fermented foods,Fermented milk products,Yogurts,de:naturjoghurt|                naturjoghurt|\n",
      "|      Beverages,Alcoholic beverages,Hard liquors,fr:eaux-de-vie,Whisky,American whiskeys,Bourbon whiskeys,de:alkoholisch|                 alkoholisch|\n",
      "|             Plant-based foods and beverages,Plant-based foods,Meat analogues,Vegetarian nuggets,de:vegetarische-nuggets|        vegetarische-nuggets|\n",
      "|Plant-based foods and beverages,Plant-based foods,Fats,Pumpkin plant products,Vegetable fats,Pumpkin seeds and their ...|    Steirisches Kürbiskernöl|\n",
      "|                    Seafood,Fishes,Meals,Salads,Prepared salads,Tunas,Meals with fish,Tuna salad,de:thunfischzubereitung|        thunfischzubereitung|\n",
      "|                                                                  Snacks,Sweet snacks,de:kaubonbons,de:kaubonbonstreifen|           kaubonbonstreifen|\n",
      "|                                        Dairies,Fermented foods,Fermented milk products,Cheeses,Greek cheeses,de:Manouri|                     Manouri|\n",
      "|                       Snacks,Sweet snacks,Bars,Dietary supplements,Bodybuilding supplements,Energy bars,de:fruchtriegel|                fruchtriegel|\n",
      "|                                                                                                                 de:snak|                        snak|\n",
      "|                                                          Baby foods,de:babykost-ab-dem-6-monat,de:nourriture-pour-bébés|     babykost-ab-dem-6-monat|\n",
      "|                                                    Beverages,Alcoholic beverages,Beers,Mixed drinks,de:Biermischgetränk|            Biermischgetränk|\n",
      "|Plant-based foods and beverages,Plant-based foods,Fruits and vegetables based foods,Meals,Vegetables based foods,Sala...|         weißkraut-eingelegt|\n",
      "|Plant-based foods and beverages,Plant-based foods,Fruits and vegetables based foods,Meals,Vegetables based foods,Sala...|                   weißkraut|\n",
      "|Plant-based foods and beverages,Plant-based foods,Dairies,Spreads,Fats,Spreadable fats,Animal fats,Milkfat,Plant-base...|                Streichfette|\n",
      "|Beverages,Alcoholic beverages,Hard liquors,fr:eaux-de-vie,Whisky,Scotch whisky,de:single-malt-scotch-whiskey,de:stark...|  single-malt-scotch-whiskey|\n",
      "|Beverages,Alcoholic beverages,Hard liquors,fr:eaux-de-vie,Whisky,Scotch whisky,de:single-malt-scotch-whiskey,de:stark...| stark-alkoholische-getrönke|\n",
      "|                                                                                                    de:nuss-nougat-crème|           nuss-nougat-crème|\n",
      "|Plant-based foods and beverages,Beverages,Plant-based beverages,Juices and nectars,Fruit-based beverages,Fruit juices...|     fruchtsäfte-und-nektare|\n",
      "+------------------------------------------------------------------------------------------------------------------------+----------------------------+\n",
      "\n"
     ]
    },
    {
     "data": {
      "text/plain": [
       "None"
      ]
     },
     "metadata": {},
     "output_type": "display_data"
    },
    {
     "name": "stdout",
     "output_type": "stream",
     "text": [
      "+------------------------------------------------------------------------------------------------------------------------+-------------------------------------------------+\n",
      "|                                                                                                                cat_full|                                               es|\n",
      "+------------------------------------------------------------------------------------------------------------------------+-------------------------------------------------+\n",
      "|Snacks,Sweet snacks,Biscuits and cakes,Biscuits,Chocolate biscuits,Milk chocolate biscuits,es:Galletas con tableta de...|      Galletas con tableta de chocolate con leche|\n",
      "|                 Snacks,Sweet snacks,Biscuits and cakes,Biscuits,Chocolate biscuits,es:Galletas con tableta de chocolate|                Galletas con tableta de chocolate|\n",
      "|                                                                                                           es:maiz-frito|                                       maiz-frito|\n",
      "|                                                                      Biscuits and cakes,Cakes,Madeleines,es:bizcochitos|                                      bizcochitos|\n",
      "|Plant-based foods and beverages,Plant-based foods,Cereals and potatoes,Cereals and their products,Pastas,Wheat pasta,...|                             Fideos de trigo duro|\n",
      "|                                                                                                            es:refrescos|                                        refrescos|\n",
      "|Snacks,Sweet snacks,Biscuits and cakes,Biscuits,Chocolate biscuits,Milk chocolate biscuits,es:Galletas con tableta de...|                Galletas con tableta de chocolate|\n",
      "|                                                                                                            es:pan-bimbo|                                        pan-bimbo|\n",
      "|Plant-based foods and beverages,Plant-based foods,Cereals and potatoes,Cereals and their products,Pastas,Wheat pasta,...|                           Farfalle de trigo duro|\n",
      "|Plant-based foods and beverages,Plant-based foods,Cereals and potatoes,Cereals and their products,Pastas,Wheat pasta,...|                            Fusilli de trigo duro|\n",
      "|Snacks,Sweet snacks,Biscuits and cakes,Biscuits,Chocolate biscuits,Milk chocolate biscuits,es:Galletas con tableta de...|                Galletas con tableta de chocolate|\n",
      "|Plant-based foods and beverages,Plant-based foods,Cereals and potatoes,Cereals and their products,Flours,Cereal flour...|                         harina-de-trigo-integral|\n",
      "|Snacks,Sweet snacks,Biscuits and cakes,Biscuits,Chocolate biscuits,Dark chocolate biscuits,es:Galletas con tableta de...|                Galletas con tableta de chocolate|\n",
      "|                                                                                                                es:fibra|                                            fibra|\n",
      "|Plant-based foods and beverages,Plant-based foods,Legumes and their products,Meat analogues,Textured vegetable protei...|                          soja-texturizada-gruesa|\n",
      "|                                                                                                     es:pimientos-asados|                                 pimientos-asados|\n",
      "|                                                                                                    es:caramelos-de-goma|                                caramelos-de-goma|\n",
      "|Beverages,Groceries,Artificially sweetened beverages,Diet beverages,Dietary supplements,Bodybuilding supplements,Spor...|                            nutritional-shake-mix|\n",
      "|Plant-based foods and beverages,Beverages,Hot beverages,Plant-based beverages,Herbal teas,Herbal tea blends,es:Infusi...|                            Infusiones relajantes|\n",
      "|                        Plant-based foods and beverages,Plant-based foods,Groceries,Condiments,Spices,fr:Curry,es:curris|                                           curris|\n",
      "|Plant-based foods and beverages,Plant-based foods,Canned foods,Fruits and vegetables based foods,Canned plant-based f...|                     verduras-en-conserva-y-tarro|\n",
      "|Snacks,Sweet snacks,Biscuits and cakes,Biscuits,Chocolate biscuits,Dark chocolate biscuits,Milk chocolate biscuits,es...|                Galletas con tableta de chocolate|\n",
      "|Plant-based foods and beverages,Plant-based foods,Canned foods,Fruits and vegetables based foods,Canned plant-based f...|                                  chucrut-al-vino|\n",
      "|                 Canned foods,Seafood,Mollusc,Mussels,Canned mussels,es:mejillones-en-escabeche,es:mejillon-en-escabeche|                          mejillones-en-escabeche|\n",
      "| Spreads,Breakfasts,Bee products,Farming products,Sweet spreads,Sweeteners,Honeys,fr:miels-d-agrumes,es:mieles-de-azahar|                                 mieles-de-azahar|\n",
      "|                                                                                            es:complementos-alimenticios|                        complementos-alimenticios|\n",
      "|                                                                                                         es:salsa-tomate|                                     salsa-tomate|\n",
      "|Snacks,Sweet snacks,Biscuits and cakes,Biscuits,Chocolate biscuits,Milk chocolate biscuits,es:Galletas con tableta de...|                Galletas con tableta de chocolate|\n",
      "|                                                                                                       es:lata-conservas|                                   lata-conservas|\n",
      "|Plant-based foods and beverages,Plant-based foods,Groceries,Fruits and vegetables based foods,Vegetables based foods,...|                           pulpa-y-pure-de-tomate|\n",
      "|Plant-based foods and beverages,Plant-based foods,Cereals and potatoes,Cereals and their products,Pastas,Wheat pasta,...|                            Fusilli de trigo duro|\n",
      "|Plant-based foods and beverages,Plant-based foods,Cereals and potatoes,Cereals and their products,Pastas,Wheat pasta,...|                            Fusilli de trigo duro|\n",
      "|Plant-based foods and beverages,Plant-based foods,Fruits and vegetables based foods,Vegetables based foods,Fresh food...|       Mezclas de verduras y hortalizas para sopa|\n",
      "|                                               Plant-based foods and beverages,Plant-based foods,Coffees,es:descafeinado|                                     descafeinado|\n",
      "|          Plant-based foods and beverages,Beverages,Plant-based beverages,es:bebidas-a-base-de-zumo-de-frutas-y-almendra|      bebidas-a-base-de-zumo-de-frutas-y-almendra|\n",
      "|Plant-based foods and beverages,Plant-based foods,Cereals and potatoes,Breads,Special breads,Breadsticks,es:Picos de pan|                                     Picos de pan|\n",
      "|Plant-based foods and beverages,Plant-based foods,Canned foods,Fruits and vegetables based foods,Canned plant-based f...|                                          chucrut|\n",
      "|Plant-based foods and beverages,Plant-based foods,Meals,Salads,Plant-based meals,Prepared salads,Refrigerated foods,R...|                              ensaladas-de-quinoa|\n",
      "|Plant-based foods and beverages,Plant-based foods,Cereals and potatoes,Cereals and their products,Pastas,Wheat pasta,...|Pastas de trigo duro integrales o semi-integrales|\n",
      "|                                                                                         es:infusion-gingembre-et-citron|                     infusion-gingembre-et-citron|\n",
      "|                                                                                                            es:vitaminas|                                        vitaminas|\n",
      "|                                                                                                             es:natillas|                                         natillas|\n",
      "|Snacks,Sweet snacks,Biscuits and cakes,Biscuits,Chocolate biscuits,Dark chocolate biscuits,Milk chocolate biscuits,es...|      Galletas con tableta de chocolate con leche|\n",
      "|Plant-based foods and beverages,Plant-based foods,Legumes and their products,Meat analogues,Textured vegetable protei...|                                 soja-y-derivados|\n",
      "|                                                                                                        es:yogurt-griego|                                    yogurt-griego|\n",
      "|                                                                                                           es:pasteleria|                                       pasteleria|\n",
      "|Plant-based foods and beverages,Plant-based foods,Legumes and their products,Meat analogues,Textured vegetable protei...|                                 soja-y-derivados|\n",
      "|Snacks,Sweet snacks,Biscuits and cakes,Biscuits,Chocolate biscuits,Dark chocolate biscuits,es:Galletas con tableta de...|          Galletas con tableta de chocolate negro|\n",
      "|                                        Snacks,Sweet snacks,Chocolates,Dark chocolates,es:Chocolates negro con pistachos|                   Chocolates negro con pistachos|\n",
      "|Plant-based foods and beverages,Plant-based foods,Snacks,Sweet snacks,Confectioneries,Christmas foods and drinks,Drie...|                        panes-de-frutas-desecadas|\n",
      "|                 Canned foods,Seafood,Mollusc,Mussels,Canned mussels,es:mejillones-en-escabeche,es:mejillon-en-escabeche|                            mejillon-en-escabeche|\n",
      "|                                                                                                  es:dulces-de-almendras|                              dulces-de-almendras|\n",
      "|                                                                                         es:verduras-en-conserva-y-tarro|                     verduras-en-conserva-y-tarro|\n",
      "|Plant-based foods and beverages,Plant-based foods,Cereals and potatoes,Cereals and their products,Pastas,Wheat pasta,...|                             Fideos de trigo duro|\n",
      "|Plant-based foods and beverages,Plant-based foods,Meals,Salads,Plant-based meals,Prepared salads,Refrigerated foods,R...|                              ensaladas-de-quinoa|\n",
      "|                                                        Snacks,Sweet snacks,Biscuits and cakes,Biscuits,es:galletas-bebe|                                    galletas-bebe|\n",
      "|Plant-based foods and beverages,Plant-based foods,Cereals and potatoes,Cereals and their products,Pastas,Wheat pasta,...|                           Farfalle de trigo duro|\n",
      "|Snacks,Sweet snacks,Biscuits and cakes,Biscuits,Chocolate biscuits,Milk chocolate biscuits,es:Galletas con tableta de...|      Galletas con tableta de chocolate con leche|\n",
      "|                Beverages,Carbonated drinks,Artificially sweetened beverages,Sodas,Diet beverages,Diet sodas,es:refresco|                                         refresco|\n",
      "|Plant-based foods and beverages,Plant-based foods,Legumes and their products,Meat analogues,Textured vegetable protei...|                            soja-texturizada-fina|\n",
      "|                                                         Beverages,Alcoholic beverages,Beers,Lagers,es:bieres-mexicaines|                                bieres-mexicaines|\n",
      "+------------------------------------------------------------------------------------------------------------------------+-------------------------------------------------+\n",
      "\n"
     ]
    },
    {
     "data": {
      "text/plain": [
       "None"
      ]
     },
     "metadata": {},
     "output_type": "display_data"
    },
    {
     "name": "stdout",
     "output_type": "stream",
     "text": [
      "+------------------------------------------------------------------------------------------------------------------------+-----------------------+\n",
      "|                                                                                                                cat_full|                     it|\n",
      "+------------------------------------------------------------------------------------------------------------------------+-----------------------+\n",
      "|                                                                  Dietary supplements,Vitamins,it:integratore-alimentari| integratore-alimentari|\n",
      "|                                                          Canned foods,it:integratore-alimentari,pt:suplemento-alimentar| integratore-alimentari|\n",
      "|                                                                          Meats,it:carne-in-gelatina,it:carne-in-scatola|      carne-in-gelatina|\n",
      "|Beverages,Groceries,Canned foods,Artificially sweetened beverages,Diet beverages,Dietary supplements,Bodybuilding sup...| integratore-alimentari|\n",
      "|                                                   Snacks,Sweet snacks,Confectioneries,Chewing gum,it:gomma-da-masticare|     gomma-da-masticare|\n",
      "|                                                    Beverages,Alcoholic beverages,Wines,Wines from Italy,it:nero-d-avola|           nero-d-avola|\n",
      "|Plant-based foods and beverages,Plant-based foods,Legumes and their products,Canned foods,Legumes,Seeds,Canned plant-...|                 legumi|\n",
      "|            Snacks,Sweet snacks,Bars,Dietary supplements,Bodybuilding supplements,Protein bars,it:integratore-alimentari| integratore-alimentari|\n",
      "|                                                                          Meats,it:carne-in-gelatina,it:carne-in-scatola|       carne-in-scatola|\n",
      "|Plant-based foods and beverages,Plant-based foods,Cereals and potatoes,Cereals and their products,Pastas,it:alimenti-...|alimenti-per-l-infanzia|\n",
      "|                                          Snacks,Sweet snacks,Biscuits and cakes,Biscuits,Chocolate biscuits,it:frollini|               frollini|\n",
      "|                                                                   Canned foods,Meals,Dietary supplements,it:integratori|            integratori|\n",
      "|                                                                               Dietary supplements,it:bevande-isotoniche|     bevande-isotoniche|\n",
      "|                                                           Beverages,Alcoholic beverages,Wines,Red wines,it:nero-d-avola|           nero-d-avola|\n",
      "|                                                                                                         it:nero-d-avola|           nero-d-avola|\n",
      "|                                                                                                  it:proscuitto-di-parma|    proscuitto-di-parma|\n",
      "|                                                                                                 it:pappa-pronta-neonati|   pappa-pronta-neonati|\n",
      "|                                              Canned foods,Seafood,Fishes,Canned fishes,Tunas,it:tonno-all-olio-di-oliva|tonno-all-olio-di-oliva|\n",
      "|Beverages,Groceries,Canned foods,Artificially sweetened beverages,Diet beverages,Dietary supplements,Bodybuilding sup...|     bevande-isotoniche|\n",
      "|                                                                                                 it:aceto-di-vino-bianco|   aceto-di-vino-bianco|\n",
      "|Plant-based foods and beverages,Plant-based foods,Cereals and potatoes,Cereals and their products,Pastas,Radiatori-pa...|              radiatori|\n",
      "+------------------------------------------------------------------------------------------------------------------------+-----------------------+\n",
      "\n"
     ]
    },
    {
     "data": {
      "text/plain": [
       "None"
      ]
     },
     "metadata": {},
     "output_type": "display_data"
    },
    {
     "name": "stdout",
     "output_type": "stream",
     "text": [
      "+-----------------+--------------+\n",
      "|         cat_full|            ar|\n",
      "+-----------------+--------------+\n",
      "|ar:tomato-ketchup|tomato-ketchup|\n",
      "+-----------------+--------------+\n",
      "\n"
     ]
    },
    {
     "data": {
      "text/plain": [
       "None"
      ]
     },
     "metadata": {},
     "output_type": "display_data"
    },
    {
     "name": "stdout",
     "output_type": "stream",
     "text": [
      "+------------------------------------------------------------------------------------------------------------------------+---------------------------------------+\n",
      "|                                                                                                                cat_full|                                     nl|\n",
      "+------------------------------------------------------------------------------------------------------------------------+---------------------------------------+\n",
      "|                                                                                                       nl:tomato-ketchup|                         tomato-ketchup|\n",
      "|                                                                                                                  nl:395|                                    395|\n",
      "|                                                                                                                nl:botor|                                  botor|\n",
      "|                                                                                                    nl:vegetarisch-beleg|                      vegetarisch-beleg|\n",
      "|                                                                                                      nl:diepvries-fruit|                        diepvries-fruit|\n",
      "|                                                                                                             nl:pancetta|                               pancetta|\n",
      "|                                                                                                            nl:bosbessen|                              bosbessen|\n",
      "|                                                                                                          nl:appelstroop|                            appelstroop|\n",
      "|                                  Seafood,Fishes,Fish fillets,Mackerels,Mackerels-fillets,nl:filets-de-maquereaux-tomate|            filets-de-maquereaux-tomate|\n",
      "|                                           Dairies,Desserts,Dairy desserts,fr:Desserts lactés à la vanille,nl:vanillevla|                             vanillevla|\n",
      "|                                                         Meals,Pizzas pies and quiches,Quiches,nl:quiche-met-ham-en-prei|                 quiche-met-ham-en-prei|\n",
      "|                                                                                                           nl:broodbeleg|                             broodbeleg|\n",
      "|Plant-based foods and beverages,Plant-based foods,Meals,Meat analogues,Refrigerated foods,Refrigerated meals,nl:veget...|                            vegetarisch|\n",
      "|                                                                                                                nl:apero|                                  apero|\n",
      "|                                                                                                            nl:chocomelk|                              chocomelk|\n",
      "|                                                                                                           nl:vleeswaren|                             vleeswaren|\n",
      "|                                                                                 fr:vermicelles-en-chocolat,nl:hagelslag|                              hagelslag|\n",
      "|                                                                                                            nl:confituur|                              confituur|\n",
      "|                                                                                                 nl:vegetarian-meatballs|                   vegetarian-meatballs|\n",
      "|                                                                                                           nl:granenreep|                             granenreep|\n",
      "|                                                                                                                 nl:olie|                                   olie|\n",
      "|Plant-based foods and beverages,Plant-based foods,Legumes and their products,Canned foods,Fruits and vegetables based...|                                23-gram|\n",
      "|                                                                                                       nl:maaltijdsalade|                         maaltijdsalade|\n",
      "|                                                               nl:fruit-bread,nl:zoet-brood-gevuld-met-vruchten-en-noten|zoet-brood-gevuld-met-vruchten-en-noten|\n",
      "|                                                                                                           nl:charcutrie|                             charcutrie|\n",
      "|                                                                         Food additives,Thickeners,nl:Plantbased gelatin|                     Plantbased gelatin|\n",
      "|                                                                                                                  nl:bio|                                    bio|\n",
      "|Plant-based foods and beverages,Plant-based foods,Spreads,Fats,Salted spreads,Spreadable fats,Plant-based spreads,Veg...|                             halvarines|\n",
      "|                                                                   Snacks,Sweet snacks,Chocolates,Chocolate molds,nl:kar|                                    kar|\n",
      "|                                                                                                                 nl:2000|                                   2000|\n",
      "|                                                                                    Fats,Animal fats,Butter fat,nl:boter|                                  boter|\n",
      "|                                                                                                           nl:light-room|                             light-room|\n",
      "|                                                                          Meats,Spreads,Prepared meats,nl:broodsmeersels|                         broodsmeersels|\n",
      "|                                                 Spreads,Breakfasts,Sweet spreads,fr:Pâtes à tartiner,nl:speculoospastas|                        speculoospastas|\n",
      "|Plant-based foods and beverages,Plant-based foods,Cereals and potatoes,Cereals and their products,Fats,Vegetable fats...|                              rijstolie|\n",
      "|                                                                                                            nl:hamsalade|                              hamsalade|\n",
      "|                                                                                                               nl:school|                                 school|\n",
      "|                                                               nl:fruit-bread,nl:zoet-brood-gevuld-met-vruchten-en-noten|                            fruit-bread|\n",
      "|Plant-based foods and beverages,Plant-based foods,Cereals and potatoes,Cereals and their products,Starches,Cereal sta...|                            maïszetmeel|\n",
      "|                                                                                                             nl:bakboter|                               bakboter|\n",
      "|                                                                                                                  nl:168|                                    168|\n",
      "|                                                                                          Fats,Animal fats,nl:Goose fats|                             Goose fats|\n",
      "|                                                                                                                 nl:glas|                                   glas|\n",
      "|                                                                                                nl:bloem-voor-patisserie|                  bloem-voor-patisserie|\n",
      "|                                                                                                            nl:doperwten|                              doperwten|\n",
      "+------------------------------------------------------------------------------------------------------------------------+---------------------------------------+\n",
      "\n"
     ]
    },
    {
     "data": {
      "text/plain": [
       "None"
      ]
     },
     "metadata": {},
     "output_type": "display_data"
    },
    {
     "name": "stdout",
     "output_type": "stream",
     "text": [
      "+----------------+-------------+\n",
      "|        cat_full|           xx|\n",
      "+----------------+-------------+\n",
      "|xx:diepvries-vis|diepvries-vis|\n",
      "+----------------+-------------+\n",
      "\n"
     ]
    },
    {
     "data": {
      "text/plain": [
       "None"
      ]
     },
     "metadata": {},
     "output_type": "display_data"
    },
    {
     "name": "stdout",
     "output_type": "stream",
     "text": [
      "+-------------------------------------------------------------------------------------+--------+\n",
      "|                                                                             cat_full|      ru|\n",
      "+-------------------------------------------------------------------------------------+--------+\n",
      "|Snacks,Sweet snacks,Confectioneries,Bars,Chocolate candies,Chocolate bars,ru:батончик|батончик|\n",
      "+-------------------------------------------------------------------------------------+--------+\n",
      "\n"
     ]
    },
    {
     "data": {
      "text/plain": [
       "None"
      ]
     },
     "metadata": {},
     "output_type": "display_data"
    },
    {
     "name": "stdout",
     "output_type": "stream",
     "text": [
      "+------------------------------------------------------------------------------------------------------------------------+------------------------------------------------------+\n",
      "|                                                                                                                cat_full|                                                    fr|\n",
      "+------------------------------------------------------------------------------------------------------------------------+------------------------------------------------------+\n",
      "|                                                                                                    fr:jambon-proscuitto|                                     jambon-proscuitto|\n",
      "|                                                              Groceries,Condiments,Sauces,Mustards,fr:moutardes-de-meaux|                                    moutardes-de-meaux|\n",
      "|                        Baby foods,From 8 months,Main meals for babies,Evening meals for babies,fr:Petits pots pour bébé|                                 Petits pots pour bébé|\n",
      "|       Dairies,Desserts,Dairy desserts,fr:Fromages blancs,fr:Fromages blancs au lait de vache,fr:Fromages blancs natures|                               Fromages blancs natures|\n",
      "|      Plant-based foods and beverages,Plant-based foods,Cereals and potatoes,Breads,Zwieback,fr:biscottes-au-ble-complet|                              biscottes-au-ble-complet|\n",
      "|                                                                        Seafood,Fishes,Fish fillets,fr:filets-de-harengs|                                     filets-de-harengs|\n",
      "|                                                                                     Groceries,fr:saucissons-vegetariens|                                saucissons-vegetariens|\n",
      "|Dairies,Fermented foods,Spreads,Fermented milk products,Salted spreads,Cheeses,Fresh foods,Cow cheeses,French cheeses...|                          fromages-ail-et-fines-herbes|\n",
      "|            Dairies,Fermented foods,Fermented milk products,Cheeses,Uncooked pressed cheeses,Sliced cheeses,fr:raclettes|                                             raclettes|\n",
      "|                                                                            Dairies,Creams,UHT Creams,fr:Crèmes liquides|                                       Crèmes liquides|\n",
      "|                                                                                                           Meals,fr:plat|                                                  plat|\n",
      "|                                                                                          Groceries,Sauces,fr:sauces-wok|                                            sauces-wok|\n",
      "|                                                                                           fr:boisson-gazeuse-aromatisee|                            boisson-gazeuse-aromatisee|\n",
      "|                                                                                                     Meats,Pork,fr:hache|                                                 hache|\n",
      "|                                                                                                 fr:galettes-campinoises|                                  galettes-campinoises|\n",
      "|Dairies,Fermented foods,Fermented milk products,Cheeses,Fresh foods,Cow cheeses,Uncooked pressed cheeses,Cheeses of t...|                       fromages-de-vache-prim-holstein|\n",
      "|Plant-based foods and beverages,Plant-based foods,Fruits and vegetables based foods,Vegetables based foods,Fresh food...|                                 asperges-blanches-bio|\n",
      "|                                                                                                       fr:yaourt-lavande|                                        yaourt-lavande|\n",
      "|Plant-based foods and beverages,Plant-based foods,Snacks,Cereals and potatoes,Salty snacks,Appetizers,Breads,Crackers...|                                   Pains croustillants|\n",
      "|                                                                            Dairies,Creams,UHT Creams,fr:Crèmes entières|                                       Crèmes entières|\n",
      "|    Dairies,Milks,Evaporated milks,fr:Laits concentrés non sucrés,fr:Laits concentrés sucrés,fr:Laits entiers concentrés|                              Laits entiers concentrés|\n",
      "|                    Spreads,Breakfasts,Sweet spreads,fr:Pâtes à tartiner,Chocolate spreads,fr:pate-chocolatee-a-tartiner|                            pate-chocolatee-a-tartiner|\n",
      "|                                                                                                      fr:alcool-aperitif|                                       alcool-aperitif|\n",
      "|Plant-based foods and beverages,Plant-based foods,Fruits and vegetables based foods,Vegetables based foods,Leaf veget...|                                choux-rouge-aux-pommes|\n",
      "|                          Meats,Prepared meats,fr:Charcuteries diverses,Refrigerated foods,fr:Allumettes de porc,Lardons|                                    Allumettes de porc|\n",
      "|                                         Canned foods,Seafood,Fishes,Canned fishes,Tunas,Canned tunas,fr:emiette-de-thon|                                       emiette-de-thon|\n",
      "|Dairies,Fermented foods,Fermented milk products,Cheeses,Mountain products,Mountain cheeses,Pasteurized cheeses,fr:tommes|                                                tommes|\n",
      "|                                                                                                    fr:the-vert-de-chine|                                     the-vert-de-chine|\n",
      "|Beverages,Dairies,Fermented foods,Fermented milk products,Dairy drinks,Fresh foods,Fermented drinks,Fermented milk dr...|                           yaourts-a-boire-gout-fraise|\n",
      "|                                                                                                             fr:tartines|                                              tartines|\n",
      "|Beverages,Carbonated drinks,Sodas,Non-Alcoholic beverages,Non-alcoholic beers,Ginger beer,Sweetened beverages,fr:soda...|                                    sodas-au-gingembre|\n",
      "|Plant-based foods and beverages,Plant-based foods,Fruits and vegetables based foods,Spreads,Breakfasts,Fruits based f...|        confiture-de-fraises-avec-une-touche-de-citron|\n",
      "|                                      Beverages,Alcoholic beverages,Beers,Amber beers,Belgian beers,fr:bieres-trappistes|                                     bieres-trappistes|\n",
      "|Dairies,Desserts,Dairy desserts,Cooking helpers,Dessert creams,Dessert mixes,fr:Desserts lactés à la vanille,fr:Prépa...|                     Préparations pour desserts lactés|\n",
      "|                             Desserts,Frozen foods,Christmas foods and drinks,Frozen desserts,Yule log,fr:Bûches glacées|                                        Bûches glacées|\n",
      "|                                                                                        Pies,Sweet pies,fr:Tartes au riz|                                         Tartes au riz|\n",
      "|                                                                                                   fr:desserts-fruitiers|                                    desserts-fruitiers|\n",
      "|                                 Spreads,Breakfasts,Sweet spreads,fr:Pâtes à tartiner,Hazelnut spreads,Chocolate spreads|                                      Pâtes à tartiner|\n",
      "|                                                                                              fr:boisson-au-jus-de-pomme|                               boisson-au-jus-de-pomme|\n",
      "|Snacks,Sweet snacks,Biscuits and cakes,Biscuits,Cakes,fr:biscuits-moelleux,fr:biscuits-moelleux-avec-fourrage-a-l-ora...|biscuits-moelleux-avec-fourrage-a-l-orange-et-chocolat|\n",
      "|                                                                                           fr:epautre-souffle-biologique|                            epautre-souffle-biologique|\n",
      "|                                                                                                     fr:tomates-tamisees|                                      tomates-tamisees|\n",
      "|                    Snacks,Sweet snacks,Chocolates,White chocolates,fr:chocolats-au-matcha,fr:chocolats-blancs-au-matcha|                            chocolats-blancs-au-matcha|\n",
      "|                                                                                                                fr:germe|                                                 germe|\n",
      "|                                                                                       Groceries,Sauces,fr:sauce-a-l-ail|                                         sauce-a-l-ail|\n",
      "|                                                                                Meals,Microwave meals,fr:plats-microonde|                                       plats-microonde|\n",
      "|                                                                                                        fr:creme-cuisine|                                         creme-cuisine|\n",
      "|                                            Dairies,Fermented foods,Fermented milk products,Cheeses,fr:fromage-pate-mole|                                     fromage-pate-mole|\n",
      "|                                                               Snacks,Salty snacks,Appetizers,fr:Blinis,fr:amuse-bouches|                                                Blinis|\n",
      "|                                            Beverages,Alcoholic beverages,Wines,Red wines,Organic red wines,fr:vins-2016|                                             vins-2016|\n",
      "|                                                                            Spreads,Salted spreads,fr:creme-d-aubergines|                                    creme-d-aubergines|\n",
      "|                                              fr:biscuits-sables-sans-gluten-sans-lactose,fr:biscuits-sables-sans-gluter|                           biscuits-sables-sans-gluter|\n",
      "|                              Groceries,Sauces,Salad dressings,Vinaigrettes,fr:Vinaigrettes allégées en matières grasses|             Vinaigrettes allégées en matières grasses|\n",
      "|Beverages,Alcoholic beverages,Artisan products,Beers,Artisanal spirits,Abbey beer,Craft beers,Stout,fr:abdijbier,fr:b...|                                             abdijbier|\n",
      "|Plant-based foods and beverages,Plant-based foods,Seeds,Pumpkin plant products,Pumpkin seeds and their products,Pumpk...|                                    graines-de-potiron|\n",
      "|Plant-based foods and beverages,Beverages,Plant-based beverages,Artificially sweetened beverages,Tea-based beverages,...|                   thes-glaces-saveur-fruits-tropicaux|\n",
      "|                                                                                      Groceries,Sauces,fr:Sauces au miel|                                        Sauces au miel|\n",
      "|                                                                                      Seafood,Fishes,fr:filet-de-limande|                                      filet-de-limande|\n",
      "|Plant-based foods and beverages,Plant-based foods,Desserts,Fruits and vegetables based foods,Fruits based foods,Compo...|                                  Compotes de rhubarbe|\n",
      "|Plant-based foods and beverages,Plant-based foods,Cereals and potatoes,Breakfasts,Cereals and their products,Breakfas...|                                      Mueslis aux noix|\n",
      "|                              Meats,Prepared meats,Hams,Raw cured ham,fr:jambons-crus-fumes,fr:jambons-de-la-foret-noire|                                    jambons-crus-fumes|\n",
      "|Plant-based foods and beverages,Plant-based foods,Cereals and potatoes,Cereals and their products,Pastas,Dry pasta,Eg...|                                     Lasagnes à garnir|\n",
      "|Plant-based foods and beverages,Plant-based foods,Fruits and vegetables based foods,Meals,Soups,Cream soups,Vegetable...|                                         soupe-liquide|\n",
      "|                                                                                                   fr:produit-de-cuisson|                                    produit-de-cuisson|\n",
      "|             Spreads,Breakfasts,Sweet spreads,fr:Pâtes à tartiner,Chocolate spreads,fr:pates-a-tartiner-au-chocolat-noir|                                      Pâtes à tartiner|\n",
      "|                                                 Meats,Prepared meats,Sausages,fr:saucissons,Sausages from Spain,Chorizo|                                            saucissons|\n",
      "|Plant-based foods and beverages,Plant-based foods,Legumes and their products,Snacks,Legumes,Salty snacks,Nuts and the...|                                     cacahuetes-salees|\n",
      "|                                                                                    fr:sirop-de-fleurs-de-sureau-naturel|                     sirop-de-fleurs-de-sureau-naturel|\n",
      "|                                                                                                 fr:sauce-avec-des-epice|                                  sauce-avec-des-epice|\n",
      "|Plant-based foods and beverages,Plant-based foods,Canned foods,Fruits and vegetables based foods,Canned plant-based f...|                                      Chair de tomates|\n",
      "|                                                                                                         fr:boissons-jus|                                          boissons-jus|\n",
      "|Dairies,Spreads,Fats,Spreadable fats,Animal fats,Milkfat,Dairy spread,Butters,Molded butters,Pasteurized butters,Swee...|                                    Beurres de baratte|\n",
      "|                                                    Beverages,Alcoholic beverages,Ciders,Pink ciders,fr:cidres-demi-secs|                                      cidres-demi-secs|\n",
      "|                       Spreads,Breakfasts,Bee products,Farming products,Sweet spreads,Sweeteners,Honeys,fr:Miels crémeux|                                         Miels crémeux|\n",
      "|                                                                        fr:fromage-vegan,fr:tartinade-vegetale-fermentee|                                         fromage-vegan|\n",
      "|                                                                                                        fr:yaourt-maigre|                                         yaourt-maigre|\n",
      "|                          Meats,Prepared meats,fr:Charcuteries diverses,Refrigerated foods,fr:Allumettes de porc,Lardons|                                 Charcuteries diverses|\n",
      "|                                           Dairies,Desserts,Dairy desserts,fr:Crèmes brûlées,fr:Desserts lactés aux œufs|                              Desserts lactés aux œufs|\n",
      "|                                                                                             fr:jus-de-pommes-biologique|                              jus-de-pommes-biologique|\n",
      "|Meats,Spreads,Prepared meats,Salted spreads,Rillettes,Potted meats,fr:Rillettes de viande rouge,fr:Rillettes français...|                                     rillettes-du-mans|\n",
      "|Seafood,Fishes,Frozen foods,Meals,Fish preparations,Breaded products,Breaded fish,Frozen ready-made meals,fr:croquett...|                                 croquettes-de-poisson|\n",
      "|Plant-based foods and beverages,Plant-based foods,Fruits and vegetables based foods,Fruits based foods,Fruits,Tropica...|                                    fruits-lyophilises|\n",
      "|                                                              Groceries,Sauces,Tomato sauces,fr:Sauces tomates pimentées|                              Sauces tomates pimentées|\n",
      "|                                                                                            fr:pommes-de-terre-cuisinees|                             pommes-de-terre-cuisinees|\n",
      "|Plant-based foods and beverages,Plant-based foods,Desserts,Fruits and vegetables based foods,Fruits based foods,Compo...|                                  Compotes de rhubarbe|\n",
      "|                                               Meals,fr:Céréales préparées,fr:Riz préparés,Fried rice,Chinese-fried-rice|                                          Riz préparés|\n",
      "|Dairies,Desserts,Fermented foods,Fermented milk products,Fresh foods,Yogurts,Plain yogurts,Bifidus yogurts,Whole milk...|                             Yaourts au bifidus nature|\n",
      "|                                                         Dairies,Desserts,Dairy desserts,fr:Desserts lactés à la vanille|                          Desserts lactés à la vanille|\n",
      "|                                          Seafood,Fishes,Fish fillets,Mackerels,Mackerels-fillets,fr:barbecue,fr:plancha|                                              barbecue|\n",
      "|Dairies,Fermented foods,Fermented milk products,Cheeses,Fresh foods,Cooked pressed cheeses,Cow cheeses,French cheeses...|                                          produits-aoc|\n",
      "|                                                                          Meats,Prepared meats,Fresh foods,fr:saucissons|                                            saucissons|\n",
      "|                                                             Meals,fr:Céréales préparées,Microwave meals,fr:Riz préparés|                                          Riz préparés|\n",
      "|                                                                            Meats,Poultries,Chickens,fr:pilons-de-poulet|                                      pilons-de-poulet|\n",
      "|Plant-based foods and beverages,Beverages,Plant-based beverages,Juices and nectars,Fruit-based beverages,Fruit juices...|                                jus-d-oranges-pressees|\n",
      "|                                                                  Meats,Prepared meats,fr:saucissons,fr:Saucissons cuits|                                            saucissons|\n",
      "|Beverages,Dairies,Fermented foods,Fermented milk products,Dairy drinks,Fermented drinks,Fermented milk drinks,Yogurts...|                           Yaourts à boire sans sucres|\n",
      "|                                                                                                    fr:cookies-au-quinoa|                                     cookies-au-quinoa|\n",
      "|                                                                                                             fr:focaccia|                                              focaccia|\n",
      "|                                                                  Groceries,Condiments,Sauces,Mustards,fr:moutarde-forte|                                        moutarde-forte|\n",
      "|          Meals,Meat-based products,Meals with meat,Beef dishes,Puff pastry meals,Friands,Meat in puff pastry,fr:friands|                                               friands|\n",
      "+------------------------------------------------------------------------------------------------------------------------+------------------------------------------------------+\n",
      "only showing top 100 rows\n",
      "\n"
     ]
    },
    {
     "data": {
      "text/plain": [
       "None"
      ]
     },
     "metadata": {},
     "output_type": "display_data"
    }
   ],
   "source": [
    "# Explore the different categories in different languages to decide if we should include them in the categories to analyze or not.\n",
    "#'ro','pl','pt','tr','de','es','it','ar','nl','xx','ru','fr'\n",
    "\n",
    "for i in keys.collect():\n",
    "    display(categories_df.select('cat_full',i.keys_cat).filter((col('keys_cat').isNotNull()) & (col(i.keys_cat).isNotNull())).distinct().show(100, truncate=120))"
   ]
  },
  {
   "cell_type": "markdown",
   "metadata": {},
   "source": [
    "after observing that the categories that had a key-value format did not seem to correspond to descriptions of categories in English, it was decided to discard the values with this format and leave only the values that did not have a \"key\" assigned; that is, the descriptions in English."
   ]
  },
  {
   "cell_type": "code",
   "execution_count": 91,
   "metadata": {},
   "outputs": [],
   "source": [
    "categories_df = categories_df.drop('categories','keys_cat','ro','pl','pt','tr','de','es','it','ar','nl','xx','ru','fr')\n",
    "\n",
    "categories_df = categories_df.withColumnRenamed('en', 'categories')"
   ]
  },
  {
   "cell_type": "code",
   "execution_count": 92,
   "metadata": {},
   "outputs": [
    {
     "data": {
      "text/markdown": [
       "there are **2416** different categories, the 20 categories with most products are:"
      ],
      "text/plain": [
       "<IPython.core.display.Markdown object>"
      ]
     },
     "metadata": {},
     "output_type": "display_data"
    },
    {
     "name": "stdout",
     "output_type": "stream",
     "text": [
      "+---------------------------------+------------------+\n",
      "|categories                       |Number_of_products|\n",
      "+---------------------------------+------------------+\n",
      "|Plant-based foods and beverages  |5259              |\n",
      "|Plant-based foods                |4433              |\n",
      "|Beverages                        |2581              |\n",
      "|Snacks                           |2375              |\n",
      "|Sweet snacks                     |1917              |\n",
      "|Dairies                          |1816              |\n",
      "|Cereals and potatoes             |1776              |\n",
      "|Fermented foods                  |1339              |\n",
      "|Fruits and vegetables based foods|1321              |\n",
      "|Fermented milk products          |1305              |\n",
      "|Cereals and their products       |1228              |\n",
      "|Groceries                        |1207              |\n",
      "|Breakfasts                       |1132              |\n",
      "|Meals                            |1098              |\n",
      "|Spreads                          |1035              |\n",
      "|Plant-based beverages            |946               |\n",
      "|Biscuits and cakes               |922               |\n",
      "|Cheeses                          |907               |\n",
      "|Sauces                           |853               |\n",
      "|Meats                            |823               |\n",
      "+---------------------------------+------------------+\n",
      "only showing top 20 rows\n",
      "\n"
     ]
    },
    {
     "data": {
      "text/markdown": [
       "The number of product without a category in the original dataframe is **34388**"
      ],
      "text/plain": [
       "<IPython.core.display.Markdown object>"
      ]
     },
     "metadata": {},
     "output_type": "display_data"
    },
    {
     "data": {
      "text/markdown": [
       "The number of product without a category in english is **2646**"
      ],
      "text/plain": [
       "<IPython.core.display.Markdown object>"
      ]
     },
     "metadata": {},
     "output_type": "display_data"
    }
   ],
   "source": [
    "# count the number of products per category\n",
    "\n",
    "display(Markdown(\"there are **%d** different categories, the 20 categories with most products are:\" % categories_df.select('categories').distinct().count()))\n",
    "\n",
    "categories_sum_df = (\n",
    "                 categories_df.select('categories', 'code')\\\n",
    "                 .filter(col('categories').isNotNull())\\\n",
    "                 .groupBy('categories')\\\n",
    "                 .agg(countDistinct('code').alias('Number_of_products'))\n",
    "                )\n",
    "\n",
    "categories_sum_df.sort('Number_of_products', ascending =False).show(20,truncate=False)\n",
    "\n",
    "display(Markdown('The number of product without a category in the original dataframe is **%d**' % df_sum.select('code').filter(col('categories_en').isNull()).distinct().count()))\n",
    "display(Markdown('The number of product without a category in english is **%d**' % categories_df.select('code').filter(col('categories').isNull()).distinct().count()))"
   ]
  },
  {
   "cell_type": "markdown",
   "metadata": {},
   "source": [
    "#### 4.5.2. List containing names of products by category \n",
    "<a id='4.5.2.'></a>"
   ]
  },
  {
   "cell_type": "code",
   "execution_count": 93,
   "metadata": {
    "scrolled": true
   },
   "outputs": [
    {
     "name": "stdout",
     "output_type": "stream",
     "text": [
      "+-----------------------------------------------------+-----------------------------------------+\n",
      "|Product_name                                         |categories                               |\n",
      "+-----------------------------------------------------+-----------------------------------------+\n",
      "|Becel                                                |70% unsalted vegetable fat margarine type|\n",
      "|Passendale lightesse                                 |Abbaye cheeses                           |\n",
      "|Père Joseph - original bloc                          |Abbaye cheeses                           |\n",
      "|Grand Chimay - fromage trappiste                     |Abbaye cheeses                           |\n",
      "|Fromage                                              |Abbaye cheeses                           |\n",
      "|Fromage d'abbaye - Abdijkaas                         |Abbaye cheeses                           |\n",
      "|Tradition cremeux                                    |Abbaye cheeses                           |\n",
      "|Maredsous Fromage Tradition                          |Abbaye cheeses                           |\n",
      "|Passendale Classic 5TR.                              |Abbaye cheeses                           |\n",
      "|Père Joseph bio                                      |Abbaye cheeses                           |\n",
      "|Pere Joseph Tranches                                 |Abbaye cheeses                           |\n",
      "|Fromage d'abbaye Val-Dieu                            |Abbaye cheeses                           |\n",
      "|Abdijkaas, fromage d'abbaye                          |Abbaye cheeses                           |\n",
      "|Fromage belge d'abbaye                               |Abbaye cheeses                           |\n",
      "|Fromage d'abbaye                                     |Abbaye cheeses                           |\n",
      "|Fromage D'abbaye                                     |Abbaye cheeses                           |\n",
      "|Passendale, Caractère                                |Abbaye cheeses                           |\n",
      "|Fromage d’Abbaye                                     |Abbaye cheeses                           |\n",
      "|Père Joseph                                          |Abbaye cheeses                           |\n",
      "|Fromage d abbaye                                     |Abbaye cheeses                           |\n",
      "|Bio Delhaize  Fromage d'Abbaye                       |Abbaye cheeses                           |\n",
      "|Tradition Fromage d'abbaye (27,5% MG)                |Abbaye cheeses                           |\n",
      "|Fromage à la Chimay rouge                            |Abbaye cheeses                           |\n",
      "|Brugge Fromage d'abbaye en tranches Corsé            |Abbaye cheeses                           |\n",
      "|Maredsous Caractère Affiné à L'abbaye 6 Tranches 170g|Abbaye cheeses                           |\n",
      "|Witkap-Pater Stimulo                                 |Abbey beer                               |\n",
      "|Maredsous Brune                                      |Abbey beer                               |\n",
      "|Westmalle Trappist Dubbel                            |Abbey beer                               |\n",
      "|Saint Feuillien                                      |Abbey beer                               |\n",
      "|Blanche                                              |Abbey beer                               |\n",
      "|Benno Trappistenbier                                 |Abbey beer                               |\n",
      "|Chimay rouge                                         |Abbey beer                               |\n",
      "|Trappistenbier                                       |Abbey beer                               |\n",
      "|Ramée Ambrée                                         |Abbey beer                               |\n",
      "|Bouteille De Bière Saint Feuillien Triple 75CL 8°5   |Abbey beer                               |\n",
      "|Blonde                                               |Abbey beer                               |\n",
      "|Achel Brune                                          |Abbey beer                               |\n",
      "|blonde                                               |Abbey beer                               |\n",
      "|Leffe Brune                                          |Abbey beer                               |\n",
      "|Leffe Radieuse                                       |Abbey beer                               |\n",
      "|L'Angelus                                            |Abbey beer                               |\n",
      "|La Cambre Triple                                     |Abbey beer                               |\n",
      "|Westmalle Trappist Tripel                            |Abbey beer                               |\n",
      "|Trappistes Rochefort 8                               |Abbey beer                               |\n",
      "|Chimay bleue Pères trappistes                        |Abbey beer                               |\n",
      "|Tongerlo                                             |Abbey beer                               |\n",
      "|Bonne Espérance                                      |Abbey beer                               |\n",
      "|Biere d'abbaye                                       |Abbey beer                               |\n",
      "|St Benoit Blonde                                     |Abbey beer                               |\n",
      "|Abondance AOP                                        |Abondance                                |\n",
      "+-----------------------------------------------------+-----------------------------------------+\n",
      "only showing top 50 rows\n",
      "\n"
     ]
    }
   ],
   "source": [
    "# In the dataset there are several product with the same name but different code, we decided to keep them, because we don't have enough business knowledge\n",
    "# to decide how to solve de duplicates, but in order to not show this duplicates we do a distinct\n",
    "\n",
    "categories_df.select('Product_name','categories').filter(col('categories').isNotNull()).distinct().sort('categories', ascending=True).show(50, truncate = False)\n"
   ]
  },
  {
   "cell_type": "markdown",
   "metadata": {},
   "source": [
    "### 4.6. Identify traces and compute:\n",
    "<a id='4.6.'></a>"
   ]
  },
  {
   "cell_type": "markdown",
   "metadata": {},
   "source": [
    "#### 4.6.1. Number of products by trace\n",
    "<a id='4.6.1.'></a>"
   ]
  },
  {
   "cell_type": "code",
   "execution_count": 97,
   "metadata": {},
   "outputs": [],
   "source": [
    "# subset the fields needed and explode the traces_en field dividing by the comma\n",
    "\n",
    "traces_df = (\n",
    "                 df.select(\n",
    "                 'code',\n",
    "                 'Product_name',\n",
    "                 explode(split('Traces_en', ',')).alias('traces_en'))\\\n",
    "                )"
   ]
  },
  {
   "cell_type": "code",
   "execution_count": 98,
   "metadata": {},
   "outputs": [
    {
     "data": {
      "text/plain": [
       "394"
      ]
     },
     "execution_count": 98,
     "metadata": {},
     "output_type": "execute_result"
    }
   ],
   "source": [
    "# check how many distinct traces we have in the df\n",
    "\n",
    "traces_df.select('traces_en').distinct().count()"
   ]
  },
  {
   "cell_type": "code",
   "execution_count": 99,
   "metadata": {
    "scrolled": false
   },
   "outputs": [
    {
     "data": {
      "text/plain": [
       "330"
      ]
     },
     "execution_count": 99,
     "metadata": {},
     "output_type": "execute_result"
    }
   ],
   "source": [
    "# check how many of the traces exploded have a colon in the text, to confirm if all the values in tha column have a key-value formatb\n",
    "\n",
    "traces_df.select('traces_en').filter(col('traces_en').contains(':')).distinct().count()"
   ]
  },
  {
   "cell_type": "markdown",
   "metadata": {},
   "source": [
    "This is showing us that there are several values in the traces_en field that don't follow the kew-value format. Something we have to take be aware when calculating the amount traces"
   ]
  },
  {
   "cell_type": "code",
   "execution_count": 100,
   "metadata": {
    "scrolled": true
   },
   "outputs": [],
   "source": [
    "# Given the amount of rows with the format key-value in them, we decide is better to split the category column in several columns, one for each language.\n",
    "# first we start by extracting the key values, which tells us the language the category is written in\n",
    "# Given that, apparently, there are no labels for the english language, we assume that all the fields that doesn't have a value are in english. This is why \n",
    "# we also create a column named en, where we are ging to store all the values that don't have a key-value format\n",
    "\n",
    "traces_df = traces_df.withColumn('key',\\\n",
    "                                when(col('traces_en').contains(':'),split(col('traces_en'), ':')[0]))\\\n",
    "                        .withColumn('traces',\\\n",
    "                                when(col('traces_en').contains(':'),None).otherwise(col('traces_en')))\n",
    "\n",
    "# create a subset of the different languages found in the category row.\n",
    "\n",
    "keys = traces_df.select('key').distinct()\n",
    "keys = keys.dropna()"
   ]
  },
  {
   "cell_type": "code",
   "execution_count": 101,
   "metadata": {},
   "outputs": [],
   "source": [
    "# we create a new column on the category_df dataframe per language found in the traces field.\n",
    "\n",
    "for i in keys.collect():\n",
    "    traces_df = traces_df.withColumn(i.key,\\\n",
    "                                when(col('key')==i.key,split(col('traces_en'), ':')[1]))\n"
   ]
  },
  {
   "cell_type": "code",
   "execution_count": 102,
   "metadata": {
    "scrolled": true
   },
   "outputs": [
    {
     "name": "stdout",
     "output_type": "stream",
     "text": [
      "+----------------------------------------------------------+----------------------------------------------------------+\n",
      "|traces_en                                                 |traces                                                    |\n",
      "+----------------------------------------------------------+----------------------------------------------------------+\n",
      "|Eggs                                                      |Eggs                                                      |\n",
      "|Sucre                                                     |Sucre                                                     |\n",
      "|Export                                                    |Export                                                    |\n",
      "|Peanuts                                                   |Peanuts                                                   |\n",
      "|Crustaceans                                               |Crustaceans                                               |\n",
      "|Prune                                                     |Prune                                                     |\n",
      "|En-nuts                                                   |En-nuts                                                   |\n",
      "|Oats                                                      |Oats                                                      |\n",
      "| sauce de soja (soja                                      | sauce de soja (soja                                      |\n",
      "|بها-حليب                                                  |بها-حليب                                                  |\n",
      "|Sesame-noix                                               |Sesame-noix                                               |\n",
      "|Contient-une-source-de-phenylalanine                      |Contient-une-source-de-phenylalanine                      |\n",
      "|Euf                                                       |Euf                                                       |\n",
      "|Gluten                                                    |Gluten                                                    |\n",
      "|None                                                      |None                                                      |\n",
      "|Production                                                |Production                                                |\n",
      "|Pistache-noot                                             |Pistache-noot                                             |\n",
      "|Celery                                                    |Celery                                                    |\n",
      "|Barley-ingredients                                        |Barley-ingredients                                        |\n",
      "|Sulfiet-kan-sporen-bevatten-van-pinda-s                   |Sulfiet-kan-sporen-bevatten-van-pinda-s                   |\n",
      "|Sulphur dioxide and sulphites                             |Sulphur dioxide and sulphites                             |\n",
      "|Фъстъци                                                   |Фъстъци                                                   |\n",
      "|Groundnuts                                                |Groundnuts                                                |\n",
      "|Lupin                                                     |Lupin                                                     |\n",
      "|Oeuf-fruits-a-coque-lupin                                 |Oeuf-fruits-a-coque-lupin                                 |\n",
      "|Schaaldier                                                |Schaaldier                                                |\n",
      "|Salt                                                      |Salt                                                      |\n",
      "|Contient-des-sucres-naturellement-presents-dans-les-fruits|Contient-des-sucres-naturellement-presents-dans-les-fruits|\n",
      "|Tarwegluten                                               |Tarwegluten                                               |\n",
      "|Noisettes                                                 |Noisettes                                                 |\n",
      "|All                                                       |All                                                       |\n",
      "|Sesame seeds                                              |Sesame seeds                                              |\n",
      "|Onion                                                     |Onion                                                     |\n",
      "|Nuts                                                      |Nuts                                                      |\n",
      "|Milk                                                      |Milk                                                      |\n",
      "|Kan-sporen-van-melk-en-noten-bevatten                     |Kan-sporen-van-melk-en-noten-bevatten                     |\n",
      "|Cows-milk                                                 |Cows-milk                                                 |\n",
      "|Molluscs                                                  |Molluscs                                                  |\n",
      "|Dry-residue-33mg-l                                        |Dry-residue-33mg-l                                        |\n",
      "|Kan-sporen-van-gluten-noten                               |Kan-sporen-van-gluten-noten                               |\n",
      "|Beurre-concentre                                          |Beurre-concentre                                          |\n",
      "|Peut-contenir-des-traces-de-lait-et-de-soja               |Peut-contenir-des-traces-de-lait-et-de-soja               |\n",
      "|Lait                                                      |Lait                                                      |\n",
      "|Tomato                                                    |Tomato                                                    |\n",
      "+----------------------------------------------------------+----------------------------------------------------------+\n",
      "\n"
     ]
    }
   ],
   "source": [
    "# Explore the different traces in english: traces found on the traces field that didn't have a key-value format and therefore were assumed to be en english. To check that \n",
    "# the names retrieved actually seem to be in english\n",
    "\n",
    "traces_df.select('traces_en','traces').filter(col('traces').isNotNull()).distinct().sample(False, 0.7).show(100,truncate=False)"
   ]
  },
  {
   "cell_type": "code",
   "execution_count": 103,
   "metadata": {
    "scrolled": true
   },
   "outputs": [
    {
     "name": "stdout",
     "output_type": "stream",
     "text": [
      "+--------+\n",
      "|      sl|\n",
      "+--------+\n",
      "|mandelje|\n",
      "|     sir|\n",
      "| sirotka|\n",
      "+--------+\n",
      "\n"
     ]
    },
    {
     "data": {
      "text/plain": [
       "None"
      ]
     },
     "metadata": {},
     "output_type": "display_data"
    },
    {
     "name": "stdout",
     "output_type": "stream",
     "text": [
      "+-------------------+\n",
      "|                 pl|\n",
      "+-------------------+\n",
      "|   orzeszki-laskowe|\n",
      "|orzeszki-arachidowe|\n",
      "+-------------------+\n",
      "\n"
     ]
    },
    {
     "data": {
      "text/plain": [
       "None"
      ]
     },
     "metadata": {},
     "output_type": "display_data"
    },
    {
     "name": "stdout",
     "output_type": "stream",
     "text": [
      "+-----------------------+\n",
      "|                     pt|\n",
      "+-----------------------+\n",
      "|  pode-conter-amendoins|\n",
      "|                oregano|\n",
      "|              marjolein|\n",
      "|contem-lecitina-de-soja|\n",
      "+-----------------------+\n",
      "\n"
     ]
    },
    {
     "data": {
      "text/plain": [
       "None"
      ]
     },
     "metadata": {},
     "output_type": "display_data"
    },
    {
     "name": "stdout",
     "output_type": "stream",
     "text": [
      "+--------------+\n",
      "|            sr|\n",
      "+--------------+\n",
      "|         susam|\n",
      "|      kikiriki|\n",
      "|          jaja|\n",
      "|jezgrasto-voće|\n",
      "+--------------+\n",
      "\n"
     ]
    },
    {
     "data": {
      "text/plain": [
       "None"
      ]
     },
     "metadata": {},
     "output_type": "display_data"
    },
    {
     "name": "stdout",
     "output_type": "stream",
     "text": [
      "+-----------------------------------------------------------------------------------------------------------+\n",
      "|                                                                                                         de|\n",
      "+-----------------------------------------------------------------------------------------------------------+\n",
      "|schalenfrüchten-und-sesam-enthalten-hemp-seeds-from-controlled-organic-farming-may-contain-traces-of-peanut|\n",
      "|                                                                                                  walnüssen|\n",
      "|                                                                       erdnuss-und-anderen-nüssen-enthalten|\n",
      "|                                                                                    gluten-milch-sojabohnen|\n",
      "|                                                            anderen-schalenfrüchten-und-erdnüssen-enthalten|\n",
      "|                                                                                            nuts-and-sesame|\n",
      "|                                                                                                  kernteile|\n",
      "|                                                                                                    alkohol|\n",
      "|                                                                               kann-auch-anteile-von-mandel|\n",
      "|                                                           kann-spuren-von-anderen-glutenhaltigen-getreiden|\n",
      "|                                                                                      autres-fruits-à-coque|\n",
      "|                                                                                                      nusse|\n",
      "|                                                                                             fruits-à-coque|\n",
      "|                                                                                               schalenteile|\n",
      "|                                                                                         phenylalaninquelle|\n",
      "+-----------------------------------------------------------------------------------------------------------+\n",
      "\n"
     ]
    },
    {
     "data": {
      "text/plain": [
       "None"
      ]
     },
     "metadata": {},
     "output_type": "display_data"
    },
    {
     "name": "stdout",
     "output_type": "stream",
     "text": [
      "+----------------------------+\n",
      "|                          es|\n",
      "+----------------------------+\n",
      "|             anchoas-pescado|\n",
      "|               oeuf-de-lupin|\n",
      "|                  soya-trigo|\n",
      "|soja-y-o-productos-derivados|\n",
      "+----------------------------+\n",
      "\n"
     ]
    },
    {
     "data": {
      "text/plain": [
       "None"
      ]
     },
     "metadata": {},
     "output_type": "display_data"
    },
    {
     "name": "stdout",
     "output_type": "stream",
     "text": [
      "+------------------------------------------------------------------+\n",
      "|                                                                it|\n",
      "+------------------------------------------------------------------+\n",
      "|                                                       e110-e150-b|\n",
      "|                                                           cereali|\n",
      "|                                                          noccioli|\n",
      "|contient-fruits-a-coque-fabrique-dans-un-atelier-qui-utiise-gluten|\n",
      "|                                                      fenilalanina|\n",
      "|                                                  latte-e-derivati|\n",
      "|                                                   soia-e-derivati|\n",
      "|                                              de-lait-et-de-sesame|\n",
      "+------------------------------------------------------------------+\n",
      "\n"
     ]
    },
    {
     "data": {
      "text/plain": [
       "None"
      ]
     },
     "metadata": {},
     "output_type": "display_data"
    },
    {
     "name": "stdout",
     "output_type": "stream",
     "text": [
      "+-----------+\n",
      "|         sv|\n",
      "+-----------+\n",
      "|fenylalanin|\n",
      "+-----------+\n",
      "\n"
     ]
    },
    {
     "data": {
      "text/plain": [
       "None"
      ]
     },
     "metadata": {},
     "output_type": "display_data"
    },
    {
     "name": "stdout",
     "output_type": "stream",
     "text": [
      "+-----------------------------------------+\n",
      "|                                       nl|\n",
      "+-----------------------------------------+\n",
      "|                          sesam-melk-soja|\n",
      "|                               glutenvrij|\n",
      "|                                  pinda-s|\n",
      "|     andere-granen-noten-pindas-sesamzaad|\n",
      "|                                   graten|\n",
      "|                             niet-vermeld|\n",
      "|                            phénylalanine|\n",
      "|                                   granen|\n",
      "|        andere-granen-die-gluten-bevatten|\n",
      "|       noten-pinda-soja-sesamzaad-koemelk|\n",
      "|                          sachaalvruchten|\n",
      "|sporen-van-andere-glutenbevattende-granen|\n",
      "|                sporen-van-tarwe-en-gerst|\n",
      "|                          noten-soja-melk|\n",
      "|                              havergluten|\n",
      "|kan-sporen-van-soja-en-sesamzaad-bevatten|\n",
      "| tarwegluten-kan-sporen-bevatten-van-melk|\n",
      "|                    autres-fruits-à-coque|\n",
      "|                   andere-schaal-vruchten|\n",
      "|                             andere-noten|\n",
      "|       sporen-van-glutenbevattende-granen|\n",
      "|                           schaalvruchten|\n",
      "|    allergie-informatie-bevat-gerstgluten|\n",
      "+-----------------------------------------+\n",
      "\n"
     ]
    },
    {
     "data": {
      "text/plain": [
       "None"
      ]
     },
     "metadata": {},
     "output_type": "display_data"
    },
    {
     "name": "stdout",
     "output_type": "stream",
     "text": [
      "+----------------------------------------------------------------------------------------------------------------------+\n",
      "|                                                                                                                    fr|\n",
      "+----------------------------------------------------------------------------------------------------------------------+\n",
      "|                                                                                                                pepins|\n",
      "|                                                                                                            acidifiant|\n",
      "|                                                                                                          lait-de-soja|\n",
      "|                                                                                                             soja-lait|\n",
      "|                                        mollusques-oeufs-arachide-soja-fruits-a-coques-moutarde-sesame-sulfites-gluten|\n",
      "|                                                                                                                 sucre|\n",
      "|                                                                                                     crustaces-poisson|\n",
      "|                                                                                      gluten-oeufs-lait-fruits-a-coque|\n",
      "|                                                                                                         oeuf-moutarde|\n",
      "|                                                  celeri-fabrique-dans-un-atelier-qui-utilise-aussi-gluten-et-moutarde|\n",
      "|                                                                     oeufs-lait-graines-de-sesame-lupin-fruits-a-coque|\n",
      "|                                                                                                               inconnu|\n",
      "|                                                                                                         oeufs-et-soja|\n",
      "|                                                                                                                   462|\n",
      "|                                                                                                              noixlait|\n",
      "|                                                                                                 andere-noten-bevatten|\n",
      "|                                                                                                                  αυγά|\n",
      "|                                                                                                lait-et-fruits-a-coque|\n",
      "|                                                                                               fruits-a-coque-sans-ogm|\n",
      "|                                                                                                        lait-en-poudre|\n",
      "|                                                                                                           sans-gluten|\n",
      "|fabrique-en-france-a-partir-de-viande-de-porc-d-origine-union-europeenne-dans-un-atelier-utilisant-des-fruits-a-coques|\n",
      "|                                                         riz-peut-contenir-des-traces-de-gluten-oeufs-lait-soja-sesame|\n",
      "|                                                                                                        schalenfruchte|\n",
      "|                                                                        soja-fabrique-dans-un-atelier-qui-utilise-lait|\n",
      "|                                                                                                        pistaches-lait|\n",
      "|                                                                                                          depot-de-the|\n",
      "|                                                                                          peut-contenir-des-allergenes|\n",
      "|                                                                                                                 susam|\n",
      "|                                                                                                         lait-moutarde|\n",
      "|                                                                                                               pinda-s|\n",
      "|                                                                                                   orge-avoine-amandes|\n",
      "|                                                                                                       ble-de-khorasan|\n",
      "|                                                                                                   soja-fruits-a-coque|\n",
      "|                                                                                                            vitamine-c|\n",
      "|                                                               ne-convient-pas-aux-personnes-allergiques-aux-arachides|\n",
      "|                                                                                                     fragment-de-noyau|\n",
      "|                                                                                                        noix-arachides|\n",
      "|                                                                                                           noix-sesame|\n",
      "|                                                                                          fruit-a-coque-moutarde-lupin|\n",
      "|                                                                                                    sesame-soja-gluten|\n",
      "|                                                                                                                   non|\n",
      "|                                                                                                           celeri-soja|\n",
      "|                                                                       et-au-ble-en-raison-des-methodes-de-fabrication|\n",
      "|                                                                         oeufs-poisson-soja-celeri-moutarde-mollusques|\n",
      "|                                                                                                                  e451|\n",
      "|                                                                                                      matieres-grasses|\n",
      "|                                                                                    gluten-soja-sesame-fruits-a-coques|\n",
      "| traces-eventuelles-de-poisson-de-mollusque-de-crustaces-d-oeufs-de-celeri-de-moutarde-de-ce-genre-les-fruits-de-coque|\n",
      "|                                                                                            noyaux-ou-debris-de-noyaux|\n",
      "|                                                                                                     oeufs-lait-sesame|\n",
      "|                                                                                                       autres-cereales|\n",
      "|                                                                                     ble-oeuf-et-autres-fruits-a-coque|\n",
      "|                                                                                                             ni-gluten|\n",
      "|                                                                                             oeufs-soja-fruits-a-coque|\n",
      "|                                                                                                                  rien|\n",
      "|                                                                             petits-morceaux-de-coquilles-ou-de-noyaux|\n",
      "|                                      de-fruits-a-coque-soja-issu-d-une-filiere-controlee-sans-ogm-soja-origine-france|\n",
      "|                                                                                             du-soja-et-du-lait-ao-van|\n",
      "|                                                                                            sulfites-amandes-noisettes|\n",
      "|                                                                                      ble-seigle-lrge-avoine-peuf-lait|\n",
      "|                                                                                                   sucres-et-proteines|\n",
      "|                                                                                    peut-contenir-des-traces-de-poisso|\n",
      "|                                                                                                                  miel|\n",
      "|                                                                                                         lait-d-amande|\n",
      "|                                                                 crustaces-gluten-soja-mollusques-lait-sesame-et-lupin|\n",
      "|                                                               presence-possible-de-lait-et-de-produits-a-base-de-lait|\n",
      "|                                                                                             ingredient-issu-de-l-orge|\n",
      "|                                                                                                   moutarde-mollusques|\n",
      "|                                                                                                              erdnusse|\n",
      "|                                                                                                ble-de-khorasan-gluten|\n",
      "|                                                                                                                noyaux|\n",
      "|                                                                                                                 noyau|\n",
      "|                                                                                                       gluten-sans-ogm|\n",
      "|                                                                                  arachides-et-autres-produits-a-coque|\n",
      "|                                                                                                                  oeus|\n",
      "|                                                                                           moutarde-sesame-celeri-lait|\n",
      "|                                                                                                        allergenes-ble|\n",
      "|                                                                                        soja-oeuf-fruit-a-coque-sesame|\n",
      "|                                                                                                       huile-de-sesame|\n",
      "|                                                                                                     noix-de-pistaches|\n",
      "|                                                                                                              noisttes|\n",
      "|                                                                                                             petits-os|\n",
      "|                                                                                cereales-gluten-soja-molusque-et-lupin|\n",
      "|                                                                                      peux-contenir-des-traces-de-lait|\n",
      "|                                                                                                                 vegan|\n",
      "|                                                                                                                   ara|\n",
      "|                                                                                                  autres-types-de-noix|\n",
      "|                                                                                             ne-contient-pas-de-gulten|\n",
      "|                                                                                                                granen|\n",
      "|                                                                                                 de-sesame-et-de-lupin|\n",
      "|                                                                                                     sans-conservateur|\n",
      "|                                                   des-fruits-a-coque-et-des-sulfites-peut-contenir-des-traces-de-soja|\n",
      "|                                                                                                       continet-gluten|\n",
      "|                                                                                                                 cacao|\n",
      "|                                                                        soja-oeufs-lait-moutarde-celeri-fruits-a-coque|\n",
      "|                                                                                                  celeri-moutarde-soja|\n",
      "|                                                                                                      allergenes-oeufs|\n",
      "|                                                                                                               graines|\n",
      "|                                                                                                                  pain|\n",
      "+----------------------------------------------------------------------------------------------------------------------+\n",
      "only showing top 100 rows\n",
      "\n"
     ]
    },
    {
     "data": {
      "text/plain": [
       "None"
      ]
     },
     "metadata": {},
     "output_type": "display_data"
    }
   ],
   "source": [
    "# Explore the different categories in different languages to decide if we should include them in the categories to analyze or not.\n",
    "#'ro','pl','pt','tr','de','es','it','ar','nl','xx','ru','fr'\n",
    "\n",
    "for i in keys.collect():\n",
    "    display(traces_df.select(i.key).filter((col('key').isNotNull()) & (col(i.key).isNotNull())).distinct().show(100, truncate=120))"
   ]
  },
  {
   "cell_type": "markdown",
   "metadata": {},
   "source": [
    "after observing that the tracess that had a key-value format did not seem to correspond to descriptions of traces in English, it was decided to discard the values with this format and leave only the values that did not have a \"key\" assigned; that is, the descriptions in English."
   ]
  },
  {
   "cell_type": "code",
   "execution_count": 104,
   "metadata": {},
   "outputs": [],
   "source": [
    "traces_df = traces_df.drop('traces_en','key','sl','pl','pt','sr','de','es','it','sv','nl','fr')"
   ]
  },
  {
   "cell_type": "code",
   "execution_count": 105,
   "metadata": {},
   "outputs": [
    {
     "data": {
      "text/markdown": [
       "there are **64** different traces, the 20 traces with most products are:"
      ],
      "text/plain": [
       "<IPython.core.display.Markdown object>"
      ]
     },
     "metadata": {},
     "output_type": "display_data"
    },
    {
     "name": "stdout",
     "output_type": "stream",
     "text": [
      "+---------------------------------------+------------------+\n",
      "|traces                                 |Number_of_products|\n",
      "+---------------------------------------+------------------+\n",
      "|Nuts                                   |1944              |\n",
      "|Milk                                   |1303              |\n",
      "|Soybeans                               |1238              |\n",
      "|Gluten                                 |981               |\n",
      "|Eggs                                   |844               |\n",
      "|Sesame seeds                           |780               |\n",
      "|Peanuts                                |509               |\n",
      "|Celery                                 |475               |\n",
      "|Mustard                                |454               |\n",
      "|Fish                                   |233               |\n",
      "|Lupin                                  |203               |\n",
      "|Crustaceans                            |189               |\n",
      "|Molluscs                               |155               |\n",
      "|Sulphur dioxide and sulphites          |135               |\n",
      "|Phenylalanine                          |5                 |\n",
      "|None                                   |3                 |\n",
      "|Lait                                   |2                 |\n",
      "|Oeuf-gluten-lait-moutarde              |1                 |\n",
      "|Sulfiet-kan-sporen-bevatten-van-pinda-s|1                 |\n",
      "|Oats                                   |1                 |\n",
      "+---------------------------------------+------------------+\n",
      "only showing top 20 rows\n",
      "\n"
     ]
    },
    {
     "data": {
      "text/markdown": [
       "The number of product without a traces in the original dataframe is **46359**"
      ],
      "text/plain": [
       "<IPython.core.display.Markdown object>"
      ]
     },
     "metadata": {},
     "output_type": "display_data"
    },
    {
     "data": {
      "text/markdown": [
       "The number of product without a traces in english is **373**"
      ],
      "text/plain": [
       "<IPython.core.display.Markdown object>"
      ]
     },
     "metadata": {},
     "output_type": "display_data"
    }
   ],
   "source": [
    "# count the number of products per category\n",
    "\n",
    "display(Markdown(\"there are **%d** different traces, the 20 traces with most products are:\" % traces_df.select('traces').filter(col('traces').isNotNull()).distinct().count()))\n",
    "\n",
    "traces_sum_df = (\n",
    "                 traces_df.select('traces', 'code')\\\n",
    "                 .filter(col('traces').isNotNull())\\\n",
    "                 .groupBy('traces')\\\n",
    "                 .agg(countDistinct('code').alias('Number_of_products'))\n",
    "                )\n",
    "\n",
    "traces_sum_df.sort('Number_of_products', ascending =False).show(20,truncate=False)\n",
    "\n",
    "display(Markdown('The number of product without a traces in the original dataframe is **%d**' % df_sum.select('code').filter(col('traces_en').isNull()).distinct().count()))\n",
    "display(Markdown('The number of product without a traces in english is **%d**' % traces_df.select('code').filter(col('traces').isNull()).distinct().count()))"
   ]
  },
  {
   "cell_type": "markdown",
   "metadata": {},
   "source": [
    " #### 4.6.2. List containing names of products by trace\n",
    "<a id='4.6.2.'></a>"
   ]
  },
  {
   "cell_type": "code",
   "execution_count": 106,
   "metadata": {
    "scrolled": true
   },
   "outputs": [
    {
     "name": "stdout",
     "output_type": "stream",
     "text": [
      "+-----------------------------------------------------+------------------------------------------------+\n",
      "|Product_name                                         |traces                                          |\n",
      "+-----------------------------------------------------+------------------------------------------------+\n",
      "|Royal Thai Cuisine Thai Premium Cooking Set Phad Thai| sauce de soja (soja                            |\n",
      "|Puree à l huile d olive                              |All                                             |\n",
      "|Corn Flakes                                          |Barley-ingredients                              |\n",
      "|Melo Cakes                                           |Beurre-concentre                                |\n",
      "|Infuso erbe al limone gr 50                          |Caffeina                                        |\n",
      "|Krokante muesli noten                                |Cashewnoot                                      |\n",
      "|Carotte râpées                                       |Celeri-lait-crustace-oeuf-poisson-fruits-a-coque|\n",
      "|Saumon au naturel                                    |Celery                                          |\n",
      "|Salami à l'ail                                       |Celery                                          |\n",
      "|Vegetarische nuggets                                 |Celery                                          |\n",
      "|Sandwiches au beurre                                 |Celery                                          |\n",
      "|Wavygrains                                           |Celery                                          |\n",
      "|Salade                                               |Celery                                          |\n",
      "|Dessert de riz au cacao                              |Celery                                          |\n",
      "|Putenbrust                                           |Celery                                          |\n",
      "|Légumes vapeur                                       |Celery                                          |\n",
      "|Filet de dinde à la sauce crémeuse                   |Celery                                          |\n",
      "|Bio haché porc bœuf                                  |Celery                                          |\n",
      "|Quattro fromaggi                                     |Celery                                          |\n",
      "|Delio Salade D'oeuf                                  |Celery                                          |\n",
      "|Soupe douceur tomates a l'italienne                  |Celery                                          |\n",
      "|Salade de pomme de terre                             |Celery                                          |\n",
      "|Petits pains multicereales                           |Celery                                          |\n",
      "|Végé'tranches Fumées biologique                      |Celery                                          |\n",
      "|Salade repas poulet                                  |Celery                                          |\n",
      "|Gebratene Hähnchenbrustfiletstücke                   |Celery                                          |\n",
      "|Boulettes sauce tomate                               |Celery                                          |\n",
      "|Nuggets                                              |Celery                                          |\n",
      "|Kaassaus Sauce Fromage                               |Celery                                          |\n",
      "|Salade De Thon                                       |Celery                                          |\n",
      "|Vol au vent boni                                     |Celery                                          |\n",
      "|Nasi Goreng                                          |Celery                                          |\n",
      "|Pain de viande                                       |Celery                                          |\n",
      "|Ribble chips salt & pepper                           |Celery                                          |\n",
      "|Pâté de volaille                                     |Celery                                          |\n",
      "|Tofu-Scampi-Nouilles-Chili doux                      |Celery                                          |\n",
      "|Chicken'Pic saveur Kebab                             |Celery                                          |\n",
      "|Cassoulet                                            |Celery                                          |\n",
      "|Gratin dauphinois                                    |Celery                                          |\n",
      "|Salade céréales & crevettes                          |Celery                                          |\n",
      "|Pico grissini's                                      |Celery                                          |\n",
      "|Home made sandwich Thon                              |Celery                                          |\n",
      "|Pomodore Mascarpone Pastasauce                       |Celery                                          |\n",
      "|Chips Pickles                                        |Celery                                          |\n",
      "|Sel au céleri                                        |Celery                                          |\n",
      "|Yum yum curry                                        |Celery                                          |\n",
      "|Ajvar                                                |Celery                                          |\n",
      "|Pesto Olive e Pomodori                               |Celery                                          |\n",
      "|Farine blanche                                       |Celery                                          |\n",
      "|Hachis veggie                                        |Celery                                          |\n",
      "+-----------------------------------------------------+------------------------------------------------+\n",
      "only showing top 50 rows\n",
      "\n"
     ]
    }
   ],
   "source": [
    "# In the dataset there are several product with the same name but different code, we decided to keep them, because we don't have enough business knowledge\n",
    "# to decide how to solve thee duplicates, but in order to not show this duplicates we do a distinct\n",
    "\n",
    "traces_df.select('Product_name','traces').filter(col('traces').isNotNull()).distinct().sort('traces', ascending=True).show(50, truncate = False)\n"
   ]
  },
  {
   "cell_type": "markdown",
   "metadata": {},
   "source": [
    "### 4.7. Data quality analysis on fields of interest:\n",
    "<a id='4.7.'></a>"
   ]
  },
  {
   "cell_type": "code",
   "execution_count": 107,
   "metadata": {},
   "outputs": [
    {
     "data": {
      "text/plain": [
       "50229"
      ]
     },
     "execution_count": 107,
     "metadata": {},
     "output_type": "execute_result"
    }
   ],
   "source": [
    "# Number  of rows in the data set\n",
    "df_sum.count()"
   ]
  },
  {
   "cell_type": "code",
   "execution_count": 108,
   "metadata": {},
   "outputs": [
    {
     "data": {
      "text/plain": [
       "39394"
      ]
     },
     "execution_count": 108,
     "metadata": {},
     "output_type": "execute_result"
    }
   ],
   "source": [
    " df_sum.select('Product_name').distinct().count()"
   ]
  },
  {
   "cell_type": "markdown",
   "metadata": {},
   "source": [
    "In order to extract the subsequent analysis, first we create a dataset that is going to flag each cell if its null"
   ]
  },
  {
   "cell_type": "code",
   "execution_count": 111,
   "metadata": {
    "scrolled": false
   },
   "outputs": [],
   "source": [
    "cols_df = df_sum.select([c for c in df_sum.columns if c not in {'code', 'Product_name'}])\n",
    "\n",
    "df_agg = df_sum.groupby('code','Product_name').agg(*[f.count(f.when(f.isnull(c), c)).alias(c) for c in cols_df.columns])\n",
    "\n",
    "expression = '+'.join(cols_df.columns)\n",
    "\n",
    "df_agg = df_agg.withColumn('Null_count', expr(expression))"
   ]
  },
  {
   "cell_type": "markdown",
   "metadata": {},
   "source": [
    "#### 4.7.1. Number of products with complete info.\n",
    "<a id='4.7.1.'></a>"
   ]
  },
  {
   "cell_type": "code",
   "execution_count": 112,
   "metadata": {},
   "outputs": [
    {
     "data": {
      "text/plain": [
       "1333"
      ]
     },
     "execution_count": 112,
     "metadata": {},
     "output_type": "execute_result"
    }
   ],
   "source": [
    "df_agg.select('Product_name').filter(col('Null_count')==0).count()"
   ]
  },
  {
   "cell_type": "code",
   "execution_count": 113,
   "metadata": {},
   "outputs": [
    {
     "data": {
      "text/markdown": [
       "**1333** products out of **50225** have complete info, what accounts for 2.654057 of the data"
      ],
      "text/plain": [
       "<IPython.core.display.Markdown object>"
      ]
     },
     "metadata": {},
     "output_type": "display_data"
    }
   ],
   "source": [
    "display(Markdown(\"**%d** products out of **%d** have complete info, what accounts for %f of the data\" \\\n",
    "                 % (df_agg.select('Product_name').filter(col('Null_count')==0).count(), df_agg.select('Product_name').count(),\\\n",
    "                    ((df_agg.select('Product_name').filter(col('Null_count')==0).count())/(df_agg.select('Product_name').count()))*100)))\n"
   ]
  },
  {
   "cell_type": "markdown",
   "metadata": {},
   "source": [
    "#### 4.7.2. % of products without complete analysis per 100g\n",
    "<a id='4.7.2.'></a>"
   ]
  },
  {
   "cell_type": "code",
   "execution_count": 114,
   "metadata": {},
   "outputs": [],
   "source": [
    "Grams = ['Energy_kcal_100g','Fat_100g','Saturated_fat_100g','Sugars_100g','Salt_100g','sodium_100g']\n",
    "\n",
    "expression = '+'.join(Grams)\n",
    "\n",
    "df_agg = df_agg.withColumn('Grams_count', expr(expression))"
   ]
  },
  {
   "cell_type": "code",
   "execution_count": 115,
   "metadata": {},
   "outputs": [
    {
     "data": {
      "text/plain": [
       "38129"
      ]
     },
     "execution_count": 115,
     "metadata": {},
     "output_type": "execute_result"
    }
   ],
   "source": [
    "df_agg.select('Product_name').filter(col('Grams_count')==0).count()"
   ]
  },
  {
   "cell_type": "code",
   "execution_count": 116,
   "metadata": {},
   "outputs": [
    {
     "data": {
      "text/markdown": [
       "24.083624 of the products have incomplete analysis on the per 100gr fields"
      ],
      "text/plain": [
       "<IPython.core.display.Markdown object>"
      ]
     },
     "metadata": {},
     "output_type": "display_data"
    }
   ],
   "source": [
    "display(Markdown('%f of the products have incomplete analysis on the per 100gr fields' \\\n",
    "                 % ((df_agg.select('Product_name').filter(col('Grams_count')>0).count()/df_agg.select('Product_name').count())*100)))\n",
    "                 "
   ]
  },
  {
   "cell_type": "markdown",
   "metadata": {},
   "source": [
    "#### 4.7.3. % of products without additives info\n",
    "<a id='4.7.2.'></a>"
   ]
  },
  {
   "cell_type": "code",
   "execution_count": 117,
   "metadata": {
    "scrolled": false
   },
   "outputs": [
    {
     "data": {
      "text/markdown": [
       "87.247387 of the products have incomplete additives info"
      ],
      "text/plain": [
       "<IPython.core.display.Markdown object>"
      ]
     },
     "metadata": {},
     "output_type": "display_data"
    }
   ],
   "source": [
    "display(Markdown('%f of the products have incomplete additives info' \\\n",
    "                 % ((df_agg.select('Product_name').filter((col('Additives_tags')>0) | (col('Additives_en')>0)).count()/df_agg.select('Product_name').count())*100)))"
   ]
  },
  {
   "cell_type": "markdown",
   "metadata": {},
   "source": [
    "#### 4.7.4. % of products without traces info\n",
    "<a id='4.7.4.'></a>"
   ]
  },
  {
   "cell_type": "code",
   "execution_count": 118,
   "metadata": {},
   "outputs": [
    {
     "data": {
      "text/plain": [
       "3853"
      ]
     },
     "execution_count": 118,
     "metadata": {},
     "output_type": "execute_result"
    }
   ],
   "source": [
    "df_agg.select('Product_name').filter(col('traces_en')==0).count()"
   ]
  },
  {
   "cell_type": "code",
   "execution_count": 119,
   "metadata": {},
   "outputs": [
    {
     "data": {
      "text/markdown": [
       "92.328522 of the products have incomplete traces info"
      ],
      "text/plain": [
       "<IPython.core.display.Markdown object>"
      ]
     },
     "metadata": {},
     "output_type": "display_data"
    }
   ],
   "source": [
    "display(Markdown('%f of the products have incomplete traces info' \\\n",
    "                 % ((df_agg.select('Product_name').filter(col('traces_en')>0).count()/df_agg.select('Product_name').count())*100)))"
   ]
  },
  {
   "cell_type": "markdown",
   "metadata": {},
   "source": [
    "### 4.8. Data profiling on fields of interest: \n",
    "<a id='4.8.'></a>\n",
    "   * Stats on analysis per 100g fields"
   ]
  },
  {
   "cell_type": "code",
   "execution_count": 120,
   "metadata": {},
   "outputs": [
    {
     "name": "stdout",
     "output_type": "stream",
     "text": [
      "Summary of columns fat_100g, saturated-fat_100g, sugars_100g, salt_100g and Sodium_100g:\n",
      "+-------+------------------+------------------+------------------+------------------+-------------------+\n",
      "|summary|          fat_100g|saturated_fat_100g|       sugars_100g|         salt_100g|        sodium_100g|\n",
      "+-------+------------------+------------------+------------------+------------------+-------------------+\n",
      "|  count|             40724|             40946|             40793|             40507|              40507|\n",
      "|   mean|14.053578913290401| 4.984569887839159|12.472283312359176|1.1148413373261432|0.44593645689956574|\n",
      "| stddev|18.343028299254286|10.525789324483036|18.899951180151753|3.7717796977421627| 1.5087118515406437|\n",
      "|    min|               0.0|               0.0|               0.0|               0.0|                0.0|\n",
      "|    25%|               0.7|  0.10000000149012|  0.80000001192093|              0.03|              0.012|\n",
      "|    50%|               6.8|               1.7|               3.5|              0.46|              0.184|\n",
      "|    75%|              22.0|               6.6|              14.1|               1.3|               0.52|\n",
      "|    max|             225.0|            1400.0|             119.0|             180.0|               72.0|\n",
      "+-------+------------------+------------------+------------------+------------------+-------------------+\n",
      "\n"
     ]
    }
   ],
   "source": [
    "print ('Summary of columns fat_100g, saturated-fat_100g, sugars_100g, salt_100g and Sodium_100g:')\n",
    "df_sum.select('fat_100g','saturated_fat_100g','sugars_100g','salt_100g', 'sodium_100g').summary().show()"
   ]
  },
  {
   "cell_type": "markdown",
   "metadata": {},
   "source": [
    "## 5. Healthy products Analysis\n",
    "<a id='5'></a>"
   ]
  },
  {
   "cell_type": "markdown",
   "metadata": {},
   "source": [
    "<img style=\"float: left;\" src=\"HealthyGuides.png\">"
   ]
  },
  {
   "cell_type": "markdown",
   "metadata": {},
   "source": [
    "We will be creating health values for each of the 4 categories above. The value of 1 will be assigned to low values, 2 to medium values, and 3 to high values. We will then add the health values from each of the categories together. If that total health value is 6 or below, the food product is classified as healthy. If the total health value is 7 or above the food product is classified as unhealthy."
   ]
  },
  {
   "cell_type": "code",
   "execution_count": 170,
   "metadata": {},
   "outputs": [
    {
     "name": "stdout",
     "output_type": "stream",
     "text": [
      "+---------------+-------------------+----------------------+------+--------------------+------------+---------+--------------+----------------+--------------------+--------+--------------+--------------------+--------------------+------------+----------------+--------+------------------+-----------+---------+-----------+---------------------+-------------------------------+------------------------+----------------------+\n",
      "|        Creator|   Created_datetime|Last_modified_datetime|  code|        Product_name|Countries_en|Traces_en|Additives_tags|Main_category_en|           Image_url|Quantity|Packaging_tags|       Categories_en|    Ingredients_text|Additives_en|Energy_kcal_100g|Fat_100g|Saturated_fat_100g|Sugars_100g|Salt_100g|sodium_100g|fat_100g_health_score|saturated_fat_100g_health_score|sugars_100g_health_score|salt_100g_health_score|\n",
      "+---------------+-------------------+----------------------+------+--------------------+------------+---------+--------------+----------------+--------------------+--------+--------------+--------------------+--------------------+------------+----------------+--------+------------------+-----------+---------+-----------+---------------------+-------------------------------+------------------------+----------------------+\n",
      "|        kiliweb|2019-10-12 17:09:18|   2019-10-12 17:09:20|1518.0|Confiture artisan...|     Belgium|     null|          null|            null|https://static.op...|    null|          null|                null|                null|        null|           224.0|     0.1|               0.0|       55.0|      0.0|        0.0|                    1|                              1|                       3|                     1|\n",
      "|        kiliweb|2019-12-03 07:02:07|   2019-12-03 07:02:08| 477.0|     Miel de lavande|     Belgium|     null|          null|            null|https://static.op...|    null|          null|                null|                null|        null|            null|    null|              null|       null|      0.0|        0.0|              unknown|                        unknown|                 unknown|                     1|\n",
      "|        kiliweb|2020-01-16 23:10:08|   2020-01-21 15:14:21|  24.0|      Pommes séchées|     Belgium|     null|          null|    Dried fruits|https://static.op...|    125g|          null|Plant-based foods...|Pommes séchées - ...|        null|           292.0|     0.5|               0.1|       51.0|     0.03|      0.012|                    1|                              1|                       3|                     1|\n",
      "|sarah-erraddahi|2020-01-21 15:38:39|   2020-01-21 16:02:00|  62.0|            Abricots|     Belgium|     null|          null|  Dried apricots|https://static.op...|    250g|          null|Plant-based foods...|Ingrediënten abri...|        null|            null|    null|              null|       null|     null|       null|              unknown|                        unknown|                 unknown|               unknown|\n",
      "|sarah-erraddahi|2020-01-21 15:14:55|   2020-01-21 16:14:46|  86.0|      Fèves de cacao|     Belgium|     null|          null|            Nuts|https://static.op...|    250g|          null|Plant-based foods...|Ingrediënten Fêve...|        null|            null|    null|              null|       null|     null|       null|              unknown|                        unknown|                 unknown|               unknown|\n",
      "|sarah-erraddahi|2020-01-21 16:37:09|   2020-06-19 14:21:54| 178.0|      Dattes Mejdoul|     Belgium|     null|          null|   Medjool dates|https://static.op...|    500g|          null|Plant-based foods...|Medjoul Dates Ori...|        null|            null|    null|              null|       null|     null|       null|              unknown|                        unknown|                 unknown|               unknown|\n",
      "|sarah-erraddahi|2020-01-21 15:09:07|   2020-01-21 16:11:44| 321.0|      Noix du Brésil|     Belgium|     null|          null|     Brazil nuts|https://static.op...|    250g|          null|Plant-based foods...|noix du Brésil - ...|        null|            null|    null|              null|       null|     null|       null|              unknown|                        unknown|                 unknown|               unknown|\n",
      "|        kiliweb|2020-04-05 11:05:00|   2020-04-05 11:05:00| 457.0|Melange de noix -...|     Belgium|     null|          null|            null|https://static.op...|    null|          null|                null|                null|        null|            null|    null|              null|       null|     null|       null|              unknown|                        unknown|                 unknown|               unknown|\n",
      "|        kiliweb|2019-11-05 18:43:48|   2019-11-05 18:43:49| 543.0|             Amandes|     Belgium|     null|          null|            null|https://static.op...|    null|          null|                null|                null|        null|            null|    null|              null|       null|     null|       null|              unknown|                        unknown|                 unknown|               unknown|\n",
      "|sarah-erraddahi|2020-01-21 16:30:21|   2020-01-21 17:14:53| 550.0|      Figues séchées|     Belgium|     null|          null|      Dried figs|https://static.op...|    250g|          null|Plant-based foods...|Figs* Origine: Tu...|        null|            null|    null|              null|       null|     null|       null|              unknown|                        unknown|                 unknown|               unknown|\n",
      "+---------------+-------------------+----------------------+------+--------------------+------------+---------+--------------+----------------+--------------------+--------+--------------+--------------------+--------------------+------------+----------------+--------+------------------+-----------+---------+-----------+---------------------+-------------------------------+------------------------+----------------------+\n",
      "only showing top 10 rows\n",
      "\n"
     ]
    }
   ],
   "source": [
    "df_sum = df_sum.withColumn(\"fat_100g_health_score\", when(col(\"fat_100g\") <= 3, 1).when(col(\"fat_100g\") <= 17.5,2).when(col(\"fat_100g\").isNull(), \"unknown\").otherwise(3))\\\n",
    "               .withColumn(\"saturated_fat_100g_health_score\", when(col(\"saturated_fat_100g\") <= 3, 1).when(col(\"saturated_fat_100g\") <= 17.5,2)\\\n",
    "                           .when(col(\"saturated_fat_100g\").isNull(), \"unknown\").otherwise(3))\\\n",
    "               .withColumn(\"sugars_100g_health_score\", when(col(\"sugars_100g\") <= 3, 1).when(col(\"sugars_100g\") <= 17.5,2)\\\n",
    "                            .when(col(\"sugars_100g\").isNull(), \"unknown\").otherwise(3))\\\n",
    "                .withColumn(\"salt_100g_health_score\", when(col(\"salt_100g\") <= 3, 1).when(col(\"salt_100g\") <= 17.5,2).when(col(\"salt_100g\").isNull(), \"unknown\").otherwise(3))\n",
    "df_sum.show(10)"
   ]
  },
  {
   "cell_type": "code",
   "execution_count": 171,
   "metadata": {},
   "outputs": [
    {
     "name": "stdout",
     "output_type": "stream",
     "text": [
      "+---------------+-------------------+----------------------+------+--------------------+------------+---------+--------------+----------------+--------------------+--------+--------------+--------------------+--------------------+------------+----------------+--------+------------------+-----------+---------+-----------+---------------------+-------------------------------+------------------------+----------------------+------------------+\n",
      "|        Creator|   Created_datetime|Last_modified_datetime|  code|        Product_name|Countries_en|Traces_en|Additives_tags|Main_category_en|           Image_url|Quantity|Packaging_tags|       Categories_en|    Ingredients_text|Additives_en|Energy_kcal_100g|Fat_100g|Saturated_fat_100g|Sugars_100g|Salt_100g|sodium_100g|fat_100g_health_score|saturated_fat_100g_health_score|sugars_100g_health_score|salt_100g_health_score|total_health_score|\n",
      "+---------------+-------------------+----------------------+------+--------------------+------------+---------+--------------+----------------+--------------------+--------+--------------+--------------------+--------------------+------------+----------------+--------+------------------+-----------+---------+-----------+---------------------+-------------------------------+------------------------+----------------------+------------------+\n",
      "|        kiliweb|2019-10-12 17:09:18|   2019-10-12 17:09:20|1518.0|Confiture artisan...|     Belgium|     null|          null|            null|https://static.op...|    null|          null|                null|                null|        null|           224.0|     0.1|               0.0|       55.0|      0.0|        0.0|                    1|                              1|                       3|                     1|               6.0|\n",
      "|        kiliweb|2019-12-03 07:02:07|   2019-12-03 07:02:08| 477.0|     Miel de lavande|     Belgium|     null|          null|            null|https://static.op...|    null|          null|                null|                null|        null|            null|    null|              null|       null|      0.0|        0.0|              unknown|                        unknown|                 unknown|                     1|               1.0|\n",
      "|        kiliweb|2020-01-16 23:10:08|   2020-01-21 15:14:21|  24.0|      Pommes séchées|     Belgium|     null|          null|    Dried fruits|https://static.op...|    125g|          null|Plant-based foods...|Pommes séchées - ...|        null|           292.0|     0.5|               0.1|       51.0|     0.03|      0.012|                    1|                              1|                       3|                     1|               6.0|\n",
      "|sarah-erraddahi|2020-01-21 15:38:39|   2020-01-21 16:02:00|  62.0|            Abricots|     Belgium|     null|          null|  Dried apricots|https://static.op...|    250g|          null|Plant-based foods...|Ingrediënten abri...|        null|            null|    null|              null|       null|     null|       null|              unknown|                        unknown|                 unknown|               unknown|               0.0|\n",
      "|sarah-erraddahi|2020-01-21 15:14:55|   2020-01-21 16:14:46|  86.0|      Fèves de cacao|     Belgium|     null|          null|            Nuts|https://static.op...|    250g|          null|Plant-based foods...|Ingrediënten Fêve...|        null|            null|    null|              null|       null|     null|       null|              unknown|                        unknown|                 unknown|               unknown|               0.0|\n",
      "+---------------+-------------------+----------------------+------+--------------------+------------+---------+--------------+----------------+--------------------+--------+--------------+--------------------+--------------------+------------+----------------+--------+------------------+-----------+---------+-----------+---------------------+-------------------------------+------------------------+----------------------+------------------+\n",
      "only showing top 5 rows\n",
      "\n"
     ]
    }
   ],
   "source": [
    "df_sum = df_sum.withColumn(\"total_health_score\", \\\n",
    "                           when(col(\"fat_100g_health_score\") >= 1, col(\"fat_100g_health_score\")).otherwise(0)+\n",
    "                           when(col(\"saturated_fat_100g_health_score\") == \"unknown\", 0).otherwise(col(\"saturated_fat_100g_health_score\"))+\n",
    "                           when(col(\"sugars_100g_health_score\") == \"unknown\", 0).otherwise(col(\"sugars_100g_health_score\"))+\n",
    "                           when(col(\"salt_100g_health_score\") == \"unknown\", 0).otherwise(col(\"salt_100g_health_score\")))\n",
    "df_sum.show(5)"
   ]
  },
  {
   "cell_type": "code",
   "execution_count": 172,
   "metadata": {},
   "outputs": [
    {
     "name": "stdout",
     "output_type": "stream",
     "text": [
      "+---------------+-------------------+----------------------+------+--------------------+------------+---------+--------------+----------------+--------------------+--------+--------------+--------------------+--------------------+------------+----------------+--------+------------------+-----------+---------+-----------+---------------------+-------------------------------+------------------------+----------------------+------------------+---------------+\n",
      "|        Creator|   Created_datetime|Last_modified_datetime|  code|        Product_name|Countries_en|Traces_en|Additives_tags|Main_category_en|           Image_url|Quantity|Packaging_tags|       Categories_en|    Ingredients_text|Additives_en|Energy_kcal_100g|Fat_100g|Saturated_fat_100g|Sugars_100g|Salt_100g|sodium_100g|fat_100g_health_score|saturated_fat_100g_health_score|sugars_100g_health_score|salt_100g_health_score|total_health_score|  is_it_healthy|\n",
      "+---------------+-------------------+----------------------+------+--------------------+------------+---------+--------------+----------------+--------------------+--------+--------------+--------------------+--------------------+------------+----------------+--------+------------------+-----------+---------+-----------+---------------------+-------------------------------+------------------------+----------------------+------------------+---------------+\n",
      "|        kiliweb|2019-10-12 17:09:18|   2019-10-12 17:09:20|1518.0|Confiture artisan...|     Belgium|     null|          null|            null|https://static.op...|    null|          null|                null|                null|        null|           224.0|     0.1|               0.0|       55.0|      0.0|        0.0|                    1|                              1|                       3|                     1|               6.0|        healthy|\n",
      "|        kiliweb|2019-12-03 07:02:07|   2019-12-03 07:02:08| 477.0|     Miel de lavande|     Belgium|     null|          null|            null|https://static.op...|    null|          null|                null|                null|        null|            null|    null|              null|       null|      0.0|        0.0|              unknown|                        unknown|                 unknown|                     1|               1.0|not enough info|\n",
      "|        kiliweb|2020-01-16 23:10:08|   2020-01-21 15:14:21|  24.0|      Pommes séchées|     Belgium|     null|          null|    Dried fruits|https://static.op...|    125g|          null|Plant-based foods...|Pommes séchées - ...|        null|           292.0|     0.5|               0.1|       51.0|     0.03|      0.012|                    1|                              1|                       3|                     1|               6.0|        healthy|\n",
      "|sarah-erraddahi|2020-01-21 15:38:39|   2020-01-21 16:02:00|  62.0|            Abricots|     Belgium|     null|          null|  Dried apricots|https://static.op...|    250g|          null|Plant-based foods...|Ingrediënten abri...|        null|            null|    null|              null|       null|     null|       null|              unknown|                        unknown|                 unknown|               unknown|               0.0|not enough info|\n",
      "|sarah-erraddahi|2020-01-21 15:14:55|   2020-01-21 16:14:46|  86.0|      Fèves de cacao|     Belgium|     null|          null|            Nuts|https://static.op...|    250g|          null|Plant-based foods...|Ingrediënten Fêve...|        null|            null|    null|              null|       null|     null|       null|              unknown|                        unknown|                 unknown|               unknown|               0.0|not enough info|\n",
      "+---------------+-------------------+----------------------+------+--------------------+------------+---------+--------------+----------------+--------------------+--------+--------------+--------------------+--------------------+------------+----------------+--------+------------------+-----------+---------+-----------+---------------------+-------------------------------+------------------------+----------------------+------------------+---------------+\n",
      "only showing top 5 rows\n",
      "\n"
     ]
    }
   ],
   "source": [
    "#Based on the Total_Health_score we \"assess\" how healthy the products are based on the thresholds defined\n",
    "\n",
    "df_sum  = df_sum.withColumn(\"is_it_healthy\", when(col(\"total_health_score\") >= 9, \"unhealthy\")\n",
    "                            .when((col(\"total_health_score\") == 8) & (col(\"fat_100g_health_score\") == \"unknown\"), \"unhealthy\")\n",
    "                            .when(col(\"fat_100g_health_score\") == \"unknown\", \"not enough info\")\n",
    "                            .when((col(\"total_health_score\") == 8) & (col(\"saturated_fat_100g_health_score\") == \"unknown\"), \"unhealthy\")\n",
    "                            .when(col(\"saturated_fat_100g_health_score\") == \"unknown\", \"not enough info\")\n",
    "                            .when((col(\"total_health_score\") == 8) & (col(\"sugars_100g_health_score\") == \"unknown\"), \"unhealthy\")\n",
    "                            .when(col(\"sugars_100g_health_score\") == \"unknown\", \"not enough info\")\n",
    "                            .when((col(\"total_health_score\") == 8) & (col(\"salt_100g_health_score\") == \"unknown\"), \"unhealthy\")\n",
    "                            .when(col(\"salt_100g_health_score\") == \"unknown\", \"not enough info\")\n",
    "                            .when(col(\"total_health_score\") >= 7, \"medium\")\n",
    "                            .otherwise(\"healthy\"))\n",
    "df_sum.show(5)"
   ]
  },
  {
   "cell_type": "code",
   "execution_count": 173,
   "metadata": {},
   "outputs": [
    {
     "name": "stdout",
     "output_type": "stream",
     "text": [
      "+--------------------+------------------+---------------+\n",
      "|        product_name|total_health_score|  is_it_healthy|\n",
      "+--------------------+------------------+---------------+\n",
      "|Confiture artisan...|               6.0|        healthy|\n",
      "|     Miel de lavande|               1.0|not enough info|\n",
      "|      Pommes séchées|               6.0|        healthy|\n",
      "|            Abricots|               0.0|not enough info|\n",
      "|      Fèves de cacao|               0.0|not enough info|\n",
      "|      Dattes Mejdoul|               0.0|not enough info|\n",
      "|      Noix du Brésil|               0.0|not enough info|\n",
      "|Melange de noix -...|               0.0|not enough info|\n",
      "|             Amandes|               0.0|not enough info|\n",
      "|      Figues séchées|               0.0|not enough info|\n",
      "+--------------------+------------------+---------------+\n",
      "only showing top 10 rows\n",
      "\n"
     ]
    }
   ],
   "source": [
    "df_sum[[\"product_name\", \"total_health_score\", \"is_it_healthy\"]].show(10)"
   ]
  },
  {
   "cell_type": "code",
   "execution_count": 174,
   "metadata": {},
   "outputs": [
    {
     "name": "stdout",
     "output_type": "stream",
     "text": [
      "+------------------+-----+\n",
      "|total_health_score|count|\n",
      "+------------------+-----+\n",
      "|               8.0| 5477|\n",
      "|               0.0| 8365|\n",
      "|               7.0| 5964|\n",
      "|               1.0|  971|\n",
      "|               4.0| 6513|\n",
      "|              11.0|    9|\n",
      "|               3.0|  393|\n",
      "|               2.0|   38|\n",
      "|              10.0| 1139|\n",
      "|               6.0| 8190|\n",
      "|               5.0|10122|\n",
      "|               9.0| 3047|\n",
      "|              12.0|    1|\n",
      "+------------------+-----+\n",
      "\n"
     ]
    }
   ],
   "source": [
    "#check how it the distribution of the scores\n",
    "\n",
    "df_sum.groupBy(\"total_health_score\").count().show()"
   ]
  },
  {
   "cell_type": "code",
   "execution_count": 175,
   "metadata": {},
   "outputs": [
    {
     "name": "stdout",
     "output_type": "stream",
     "text": [
      "+---------------+-----+\n",
      "|  is_it_healthy|count|\n",
      "+---------------+-----+\n",
      "|        healthy|23984|\n",
      "|      unhealthy| 4245|\n",
      "|not enough info|10709|\n",
      "|         medium|11291|\n",
      "+---------------+-----+\n",
      "\n"
     ]
    }
   ],
   "source": [
    "df_sum.groupBy(\"is_it_healthy\").count().show()"
   ]
  },
  {
   "cell_type": "code",
   "execution_count": 180,
   "metadata": {},
   "outputs": [
    {
     "name": "stdout",
     "output_type": "stream",
     "text": [
      "+---------------+-------------------+----------------------+------+--------------------+------------+---------+--------------+----------------+--------------------+--------+--------------+--------------------+--------------------+------------+----------------+--------+------------------+-----------+---------+-----------+---------------------+-------------------------------+------------------------+----------------------+------------------+---------------+--------------+\n",
      "|        Creator|   Created_datetime|Last_modified_datetime|  code|        Product_name|Countries_en|Traces_en|Additives_tags|Main_category_en|           Image_url|Quantity|Packaging_tags|       Categories_en|    Ingredients_text|Additives_en|Energy_kcal_100g|Fat_100g|Saturated_fat_100g|Sugars_100g|Salt_100g|sodium_100g|fat_100g_health_score|saturated_fat_100g_health_score|sugars_100g_health_score|salt_100g_health_score|total_health_score|  is_it_healthy|number_unknown|\n",
      "+---------------+-------------------+----------------------+------+--------------------+------------+---------+--------------+----------------+--------------------+--------+--------------+--------------------+--------------------+------------+----------------+--------+------------------+-----------+---------+-----------+---------------------+-------------------------------+------------------------+----------------------+------------------+---------------+--------------+\n",
      "|        kiliweb|2019-10-12 17:09:18|   2019-10-12 17:09:20|1518.0|Confiture artisan...|     Belgium|     null|          null|            null|https://static.op...|    null|          null|                null|                null|        null|           224.0|     0.1|               0.0|       55.0|      0.0|        0.0|                    1|                              1|                       3|                     1|               6.0|        healthy|             0|\n",
      "|        kiliweb|2019-12-03 07:02:07|   2019-12-03 07:02:08| 477.0|     Miel de lavande|     Belgium|     null|          null|            null|https://static.op...|    null|          null|                null|                null|        null|            null|    null|              null|       null|      0.0|        0.0|              unknown|                        unknown|                 unknown|                     1|               1.0|not enough info|             3|\n",
      "|        kiliweb|2020-01-16 23:10:08|   2020-01-21 15:14:21|  24.0|      Pommes séchées|     Belgium|     null|          null|    Dried fruits|https://static.op...|    125g|          null|Plant-based foods...|Pommes séchées - ...|        null|           292.0|     0.5|               0.1|       51.0|     0.03|      0.012|                    1|                              1|                       3|                     1|               6.0|        healthy|             0|\n",
      "|sarah-erraddahi|2020-01-21 15:38:39|   2020-01-21 16:02:00|  62.0|            Abricots|     Belgium|     null|          null|  Dried apricots|https://static.op...|    250g|          null|Plant-based foods...|Ingrediënten abri...|        null|            null|    null|              null|       null|     null|       null|              unknown|                        unknown|                 unknown|               unknown|               0.0|not enough info|             4|\n",
      "|sarah-erraddahi|2020-01-21 15:14:55|   2020-01-21 16:14:46|  86.0|      Fèves de cacao|     Belgium|     null|          null|            Nuts|https://static.op...|    250g|          null|Plant-based foods...|Ingrediënten Fêve...|        null|            null|    null|              null|       null|     null|       null|              unknown|                        unknown|                 unknown|               unknown|               0.0|not enough info|             4|\n",
      "+---------------+-------------------+----------------------+------+--------------------+------------+---------+--------------+----------------+--------------------+--------+--------------+--------------------+--------------------+------------+----------------+--------+------------------+-----------+---------+-----------+---------------------+-------------------------------+------------------------+----------------------+------------------+---------------+--------------+\n",
      "only showing top 5 rows\n",
      "\n"
     ]
    }
   ],
   "source": [
    "df_sum = df_sum.withColumn(\"number_unknown\", \n",
    "                           when(col(\"fat_100g_health_score\") >= 1, 0).otherwise(1)+\n",
    "                           when(col(\"saturated_fat_100g_health_score\") == \"unknown\", 1).otherwise(0)+\n",
    "                           when(col(\"sugars_100g_health_score\") == \"unknown\", 1).otherwise(0)+\n",
    "                           when(col(\"salt_100g_health_score\") == \"unknown\", 1).otherwise(0))\n",
    "df_sum.show(5)"
   ]
  },
  {
   "cell_type": "code",
   "execution_count": 181,
   "metadata": {},
   "outputs": [
    {
     "name": "stdout",
     "output_type": "stream",
     "text": [
      "+--------------+-----+\n",
      "|number_unknown|count|\n",
      "+--------------+-----+\n",
      "|             1|  101|\n",
      "|             0| 5863|\n",
      "+--------------+-----+\n",
      "\n"
     ]
    }
   ],
   "source": [
    "df_sum[df_sum[\"total_health_score\"] == 7].groupBy(\"number_unknown\").count().show()"
   ]
  },
  {
   "cell_type": "markdown",
   "metadata": {},
   "source": [
    "##### Yearly analysis"
   ]
  },
  {
   "cell_type": "markdown",
   "metadata": {},
   "source": [
    "Year 2012"
   ]
  },
  {
   "cell_type": "code",
   "execution_count": 187,
   "metadata": {},
   "outputs": [
    {
     "name": "stdout",
     "output_type": "stream",
     "text": [
      "Summary of columns fat_100g, saturated_fat_100g, sugars_100g, salt_100g and total_health_score in 2012:\n",
      "+-------+------------------+------------------+------------------+------------------+------------------+\n",
      "|summary|          fat_100g|saturated_fat_100g|       sugars_100g|         salt_100g|total_health_score|\n",
      "+-------+------------------+------------------+------------------+------------------+------------------+\n",
      "|  count|               399|               387|               393|               393|               470|\n",
      "|   mean|11.805746862865638| 5.197700258704429|12.582040713147657|1.2373205848699595| 5.102127659574468|\n",
      "| stddev|16.332322329379412| 8.416144560438676|18.817776439685865| 6.148365766414517|2.7134262530197133|\n",
      "|    min|               0.0|               0.0|               0.0|               0.0|               0.0|\n",
      "|    25%|               0.0|               0.0|               0.6|           0.01016|               4.0|\n",
      "|    50%|               3.2|               0.7|               4.5|  0.14000000059605|               5.0|\n",
      "|    75%|              20.0|               7.5|              13.3|               1.0|               7.0|\n",
      "|    max|             100.0|              59.0|             100.0|              97.5|              10.0|\n",
      "+-------+------------------+------------------+------------------+------------------+------------------+\n",
      "\n"
     ]
    }
   ],
   "source": [
    "food_2012 = df_sum.filter(df_sum[\"created_datetime\"] >= lit('2012-01-01')) \\\n",
    "       .filter(df_sum[\"created_datetime\"] <= lit('2012-12-31'))\n",
    "\n",
    "print (\"Summary of columns fat_100g, saturated_fat_100g, sugars_100g, salt_100g and total_health_score in 2012:\")\n",
    "food_2012.select(\"fat_100g\",\"saturated_fat_100g\",\"sugars_100g\",\"salt_100g\", \"total_health_score\").summary().show()"
   ]
  },
  {
   "cell_type": "code",
   "execution_count": 188,
   "metadata": {},
   "outputs": [
    {
     "name": "stdout",
     "output_type": "stream",
     "text": [
      "+---------------+-----+\n",
      "|  is_it_healthy|count|\n",
      "+---------------+-----+\n",
      "|        healthy|  240|\n",
      "|      unhealthy|   58|\n",
      "|not enough info|   95|\n",
      "|         medium|   77|\n",
      "+---------------+-----+\n",
      "\n"
     ]
    }
   ],
   "source": [
    "food_2012c = food_2012.groupBy(\"is_it_healthy\").count()\n",
    "food_2012c.show()"
   ]
  },
  {
   "cell_type": "code",
   "execution_count": 189,
   "metadata": {
    "scrolled": true
   },
   "outputs": [
    {
     "name": "stdout",
     "output_type": "stream",
     "text": [
      "+---------------+-----+-----------------------+\n",
      "|  is_it_healthy|count|(count / sum_the_count)|\n",
      "+---------------+-----+-----------------------+\n",
      "|        healthy|  240|     0.5106382978723404|\n",
      "|      unhealthy|   58|    0.12340425531914893|\n",
      "|not enough info|   95|    0.20212765957446807|\n",
      "|         medium|   77|    0.16382978723404254|\n",
      "+---------------+-----+-----------------------+\n",
      "\n"
     ]
    }
   ],
   "source": [
    "food_2012c = food_2012c.crossJoin(food_2012c.groupby().agg(sum('count').alias('sum_the_count')))\n",
    "food_2012c_div = food_2012c.select('is_it_healthy', \n",
    "                                     'count', \n",
    "                                     col('count') / col('sum_the_count'))\n",
    "food_2012c_div.show()"
   ]
  },
  {
   "cell_type": "markdown",
   "metadata": {},
   "source": [
    "Year 2013"
   ]
  },
  {
   "cell_type": "code",
   "execution_count": 458,
   "metadata": {},
   "outputs": [],
   "source": [
    "foodDF2013 = df_sum.filter(df_sum[\"created_datetime\"] >= lit('2012-01-01')) \\\n",
    "       .filter(df_sum[\"created_datetime\"] <= lit('2013-12-31'))"
   ]
  },
  {
   "cell_type": "code",
   "execution_count": 460,
   "metadata": {},
   "outputs": [
    {
     "name": "stdout",
     "output_type": "stream",
     "text": [
      "Summary of columns fat_100g, saturated_fat_100g, sugars_100g, salt_100g and total_health_score in 2013:\n",
      "+-------+------------------+------------------+------------------+------------------+------------------+\n",
      "|summary|          fat_100g|saturated_fat_100g|       sugars_100g|         salt_100g|total_health_score|\n",
      "+-------+------------------+------------------+------------------+------------------+------------------+\n",
      "|  count|               849|               829|               837|               839|               829|\n",
      "|   mean|12.999175827654623| 5.739329983726116|14.469679483976252|1.1232722679794342| 6.638118214716526|\n",
      "| stddev|16.561319330339735| 8.660871261893549|18.996832158302315|5.5679976966344435| 2.112601786821147|\n",
      "|    min|               0.0|               0.0|               0.0|               0.0|               2.0|\n",
      "|    25%|               0.2|               0.1|               0.9|              0.02|               5.0|\n",
      "|    50%|   5.3000001907349|               1.3|               5.6|               0.2|               6.0|\n",
      "|    75%|              23.0|               9.2|              22.0|               1.0|               8.0|\n",
      "|    max|             100.0|              59.0|             100.0|             100.0|              11.0|\n",
      "+-------+------------------+------------------+------------------+------------------+------------------+\n",
      "\n"
     ]
    }
   ],
   "source": [
    "print (\"Summary of columns fat_100g, saturated_fat_100g, sugars_100g, salt_100g and total_health_score in 2013:\")\n",
    "foodDF2013.select(\"fat_100g\",\"saturated_fat_100g\",\"sugars_100g\",\"salt_100g\", \"total_health_score\").summary().show()"
   ]
  },
  {
   "cell_type": "code",
   "execution_count": 461,
   "metadata": {},
   "outputs": [
    {
     "name": "stdout",
     "output_type": "stream",
     "text": [
      "+---------------+-----+\n",
      "|  is_it_healthy|count|\n",
      "+---------------+-----+\n",
      "|        healthy|  432|\n",
      "|      unhealthy|  190|\n",
      "|not enough info|  165|\n",
      "|         medium|  192|\n",
      "+---------------+-----+\n",
      "\n"
     ]
    }
   ],
   "source": [
    "foodDF2013c = foodDF2013.groupBy(\"is_it_healthy\").count()\n",
    "foodDF2013c.show()"
   ]
  },
  {
   "cell_type": "code",
   "execution_count": 462,
   "metadata": {},
   "outputs": [
    {
     "name": "stdout",
     "output_type": "stream",
     "text": [
      "+---------------+-----+-----------------------+\n",
      "|  is_it_healthy|count|(count / sum_the_count)|\n",
      "+---------------+-----+-----------------------+\n",
      "|        healthy|  432|    0.44126659856996936|\n",
      "|      unhealthy|  190|     0.1940755873340143|\n",
      "|not enough info|  165|    0.16853932584269662|\n",
      "|         medium|  192|     0.1961184882533197|\n",
      "+---------------+-----+-----------------------+\n",
      "\n"
     ]
    }
   ],
   "source": [
    "foodDF2013c = foodDF2013c.crossJoin(foodDF2013c.groupby().agg(sum('count').alias('sum_the_count')))\n",
    "foodDF2013c_div = foodDF2013c.select('is_it_healthy', \n",
    "                                     'count', \n",
    "                                     col('count') / col('sum_the_count'))\n",
    "foodDF2013c_div.show()"
   ]
  },
  {
   "cell_type": "markdown",
   "metadata": {},
   "source": [
    "Year 2014"
   ]
  },
  {
   "cell_type": "code",
   "execution_count": 190,
   "metadata": {},
   "outputs": [],
   "source": [
    "foodDF2014 = df_sum.filter(df_sum[\"created_datetime\"] >= lit('2012-01-01')) \\\n",
    "       .filter(df_sum[\"created_datetime\"] <= lit('2014-12-31'))"
   ]
  },
  {
   "cell_type": "code",
   "execution_count": 191,
   "metadata": {},
   "outputs": [
    {
     "name": "stdout",
     "output_type": "stream",
     "text": [
      "Summary of columns fat_100g, saturated_fat_100g, sugars_100g, salt_100g and total_health_score in 2014:\n",
      "+-------+------------------+------------------+------------------+------------------+------------------+\n",
      "|summary|          fat_100g|saturated_fat_100g|       sugars_100g|         salt_100g|total_health_score|\n",
      "+-------+------------------+------------------+------------------+------------------+------------------+\n",
      "|  count|              1414|              1384|              1394|              1399|              1674|\n",
      "|   mean|14.012263914644947| 6.125170923248021|14.743717856013635|1.0132629663138508| 5.376344086021505|\n",
      "| stddev|16.761409881424722|  8.58480179005677|18.916391672098047| 4.431669425016326| 2.859209094178981|\n",
      "|    min|               0.0|               0.0|               0.0|               0.0|               0.0|\n",
      "|    25%|               0.5|               0.1|               1.1|              0.02|               4.0|\n",
      "|    50%|               7.0|               2.0|               5.3|             0.254|               6.0|\n",
      "|    75%|              24.9|              10.4|              23.1|               1.0|               8.0|\n",
      "|    max|             100.0|              59.0|             100.0|             100.0|              10.0|\n",
      "+-------+------------------+------------------+------------------+------------------+------------------+\n",
      "\n"
     ]
    }
   ],
   "source": [
    "print (\"Summary of columns fat_100g, saturated_fat_100g, sugars_100g, salt_100g and total_health_score in 2014:\")\n",
    "foodDF2014.select(\"fat_100g\",\"saturated_fat_100g\",\"sugars_100g\",\"salt_100g\", \"total_health_score\").summary().show()"
   ]
  },
  {
   "cell_type": "code",
   "execution_count": 192,
   "metadata": {},
   "outputs": [
    {
     "name": "stdout",
     "output_type": "stream",
     "text": [
      "+---------------+-----+\n",
      "|  is_it_healthy|count|\n",
      "+---------------+-----+\n",
      "|        healthy|  747|\n",
      "|      unhealthy|  247|\n",
      "|not enough info|  316|\n",
      "|         medium|  364|\n",
      "+---------------+-----+\n",
      "\n"
     ]
    }
   ],
   "source": [
    "foodDF2014c = foodDF2014.groupBy(\"is_it_healthy\").count()\n",
    "foodDF2014c.show()"
   ]
  },
  {
   "cell_type": "code",
   "execution_count": 193,
   "metadata": {},
   "outputs": [
    {
     "name": "stdout",
     "output_type": "stream",
     "text": [
      "+---------------+-----+-----------------------+\n",
      "|  is_it_healthy|count|(count / sum_the_count)|\n",
      "+---------------+-----+-----------------------+\n",
      "|        healthy|  747|    0.44623655913978494|\n",
      "|      unhealthy|  247|    0.14755077658303464|\n",
      "|not enough info|  316|    0.18876941457586618|\n",
      "|         medium|  364|     0.2174432497013142|\n",
      "+---------------+-----+-----------------------+\n",
      "\n"
     ]
    }
   ],
   "source": [
    "foodDF2014c = foodDF2014c.crossJoin(foodDF2014c.groupby().agg(sum('count').alias('sum_the_count')))\n",
    "foodDF2014c_div = foodDF2014c.select('is_it_healthy', \n",
    "                                     'count', \n",
    "                                     col('count') / col('sum_the_count'))\n",
    "foodDF2014c_div.show()"
   ]
  },
  {
   "cell_type": "markdown",
   "metadata": {},
   "source": [
    "Year 2015"
   ]
  },
  {
   "cell_type": "code",
   "execution_count": 469,
   "metadata": {},
   "outputs": [],
   "source": [
    "foodDF2015 = df_sum.filter(df_sum[\"created_datetime\"] >= lit('2012-01-01')) \\\n",
    "       .filter(df_sum[\"created_datetime\"] <= lit('2015-12-31'))"
   ]
  },
  {
   "cell_type": "code",
   "execution_count": 470,
   "metadata": {},
   "outputs": [
    {
     "name": "stdout",
     "output_type": "stream",
     "text": [
      "Summary of columns fat_100g, saturated_fat_100g, sugars_100g, salt_100g and total_health_score in 2015:\n",
      "+-------+------------------+------------------+------------------+------------------+------------------+\n",
      "|summary|          fat_100g|saturated_fat_100g|       sugars_100g|         salt_100g|total_health_score|\n",
      "+-------+------------------+------------------+------------------+------------------+------------------+\n",
      "|  count|              2403|              2370|              2380|              2383|              2370|\n",
      "|   mean|13.527786588285826| 5.583104454907649|15.095854072164274|1.0289161922052257| 6.679746835443038|\n",
      "| stddev|16.854258504096723| 8.011672396727867|19.819357812355012| 4.358148913412572|2.0551624347533473|\n",
      "|    min|               0.0|               0.0|               0.0|               0.0|               1.0|\n",
      "|    25%|               0.5|               0.1|               1.2|             0.025|               5.0|\n",
      "|    50%|               6.0|               1.7|               5.3|              0.29|               6.0|\n",
      "|    75%|              23.2|               9.0|              23.1|              1.04|               8.0|\n",
      "|    max|             100.0|              59.0|             100.0|             100.0|              11.0|\n",
      "+-------+------------------+------------------+------------------+------------------+------------------+\n",
      "\n"
     ]
    }
   ],
   "source": [
    "print (\"Summary of columns fat_100g, saturated_fat_100g, sugars_100g, salt_100g and total_health_score in 2015:\")\n",
    "foodDF2015.select(\"fat_100g\",\"saturated_fat_100g\",\"sugars_100g\",\"salt_100g\", \"total_health_score\").summary().show()"
   ]
  },
  {
   "cell_type": "code",
   "execution_count": 471,
   "metadata": {},
   "outputs": [
    {
     "name": "stdout",
     "output_type": "stream",
     "text": [
      "+---------------+-----+\n",
      "|  is_it_healthy|count|\n",
      "+---------------+-----+\n",
      "|        healthy| 1207|\n",
      "|      unhealthy|  526|\n",
      "|not enough info|  623|\n",
      "|         medium|  591|\n",
      "+---------------+-----+\n",
      "\n"
     ]
    }
   ],
   "source": [
    "foodDF2015c = foodDF2015.groupBy(\"is_it_healthy\").count()\n",
    "foodDF2015c.show()"
   ]
  },
  {
   "cell_type": "code",
   "execution_count": 472,
   "metadata": {},
   "outputs": [
    {
     "name": "stdout",
     "output_type": "stream",
     "text": [
      "+---------------+-----+-----------------------+\n",
      "|  is_it_healthy|count|(count / sum_the_count)|\n",
      "+---------------+-----+-----------------------+\n",
      "|        healthy| 1207|     0.4095690532745165|\n",
      "|      unhealthy|  526|    0.17848659653885307|\n",
      "|not enough info|  623|    0.21140142517814728|\n",
      "|         medium|  591|     0.2005429250084832|\n",
      "+---------------+-----+-----------------------+\n",
      "\n"
     ]
    }
   ],
   "source": [
    "foodDF2015c = foodDF2015c.crossJoin(foodDF2015c.groupby().agg(sum('count').alias('sum_the_count')))\n",
    "foodDF2015c_div = foodDF2015c.select('is_it_healthy', \n",
    "                                     'count', \n",
    "                                     col('count') / col('sum_the_count'))\n",
    "foodDF2015c_div.show()"
   ]
  },
  {
   "cell_type": "markdown",
   "metadata": {},
   "source": [
    "Year 2016"
   ]
  },
  {
   "cell_type": "code",
   "execution_count": 194,
   "metadata": {},
   "outputs": [],
   "source": [
    "foodDF2016 = df_sum.filter(df_sum[\"created_datetime\"] >= lit('2012-01-01')) \\\n",
    "       .filter(df_sum[\"created_datetime\"] <= lit('2016-12-31'))"
   ]
  },
  {
   "cell_type": "code",
   "execution_count": 195,
   "metadata": {},
   "outputs": [
    {
     "name": "stdout",
     "output_type": "stream",
     "text": [
      "Summary of columns fat_100g, saturated_fat_100g, sugars_100g, salt_100g and total_health_score in 2016:\n",
      "+-------+------------------+------------------+-----------------+------------------+------------------+\n",
      "|summary|          fat_100g|saturated_fat_100g|      sugars_100g|         salt_100g|total_health_score|\n",
      "+-------+------------------+------------------+-----------------+------------------+------------------+\n",
      "|  count|              4117|              4111|             4120|              4098|              4985|\n",
      "|   mean| 13.64509785484149| 5.492495562482999|15.30099715608439|0.9960964004183079| 5.258375125376128|\n",
      "| stddev|17.356602416248034| 8.300824977393674|19.80568271011388| 4.040024966576722|2.8597224002977577|\n",
      "|    min|               0.0|               0.0|              0.0|               0.0|               0.0|\n",
      "|    25%|               0.5|               0.1|              1.4|              0.03|               4.0|\n",
      "|    50%|               6.0|               1.7|              5.6|              0.28|               5.0|\n",
      "|    75%|              23.0|               8.5|             23.9|              1.03|               7.0|\n",
      "|    max|             100.0|              93.0|            100.0|             100.0|              11.0|\n",
      "+-------+------------------+------------------+-----------------+------------------+------------------+\n",
      "\n"
     ]
    }
   ],
   "source": [
    "print (\"Summary of columns fat_100g, saturated_fat_100g, sugars_100g, salt_100g and total_health_score in 2016:\")\n",
    "foodDF2016.select(\"fat_100g\",\"saturated_fat_100g\",\"sugars_100g\",\"salt_100g\", \"total_health_score\").summary().show()"
   ]
  },
  {
   "cell_type": "code",
   "execution_count": 196,
   "metadata": {},
   "outputs": [
    {
     "name": "stdout",
     "output_type": "stream",
     "text": [
      "+---------------+-----+\n",
      "|  is_it_healthy|count|\n",
      "+---------------+-----+\n",
      "|        healthy| 2264|\n",
      "|      unhealthy|  643|\n",
      "|not enough info|  981|\n",
      "|         medium| 1097|\n",
      "+---------------+-----+\n",
      "\n"
     ]
    }
   ],
   "source": [
    "foodDF2016c = foodDF2016.groupBy(\"is_it_healthy\").count()\n",
    "foodDF2016c.show()"
   ]
  },
  {
   "cell_type": "code",
   "execution_count": 197,
   "metadata": {},
   "outputs": [
    {
     "name": "stdout",
     "output_type": "stream",
     "text": [
      "+---------------+-----+-----------------------+\n",
      "|  is_it_healthy|count|(count / sum_the_count)|\n",
      "+---------------+-----+-----------------------+\n",
      "|        healthy| 2264|     0.4541624874623872|\n",
      "|      unhealthy|  643|    0.12898696088264794|\n",
      "|not enough info|  981|    0.19679037111334002|\n",
      "|         medium| 1097|    0.22006018054162488|\n",
      "+---------------+-----+-----------------------+\n",
      "\n"
     ]
    }
   ],
   "source": [
    "foodDF2016c = foodDF2016c.crossJoin(foodDF2016c.groupby().agg(sum('count').alias('sum_the_count')))\n",
    "foodDF2016c_div = foodDF2016c.select('is_it_healthy', \n",
    "                                     'count', \n",
    "                                     col('count') / col('sum_the_count'))\n",
    "foodDF2016c_div.show()"
   ]
  },
  {
   "cell_type": "markdown",
   "metadata": {},
   "source": [
    "Year 2017"
   ]
  },
  {
   "cell_type": "code",
   "execution_count": 498,
   "metadata": {},
   "outputs": [],
   "source": [
    "foodDF2017 = df_sum.filter(df_sum[\"created_datetime\"] >= lit('2012-01-01')) \\\n",
    "       .filter(df_sum[\"created_datetime\"] <= lit('2017-12-31'))"
   ]
  },
  {
   "cell_type": "code",
   "execution_count": 499,
   "metadata": {},
   "outputs": [
    {
     "name": "stdout",
     "output_type": "stream",
     "text": [
      "Summary of columns fat_100g, saturated_fat_100g, sugars_100g, salt_100g and total_health_score in 2017:\n",
      "+-------+------------------+------------------+-----------------+------------------+------------------+\n",
      "|summary|          fat_100g|saturated_fat_100g|      sugars_100g|         salt_100g|total_health_score|\n",
      "+-------+------------------+------------------+-----------------+------------------+------------------+\n",
      "|  count|              7240|              7345|             7356|              7331|              7345|\n",
      "|   mean|13.820223601368458| 5.269501600520516|14.61192339145809|1.0247314728244896| 6.629135466303608|\n",
      "| stddev|17.695364185004735| 8.117824582217617|19.49114802360134| 4.241447299572141|1.9920787104269657|\n",
      "|    min|               0.0|               0.0|              0.0|               0.0|               1.0|\n",
      "|    25%|               0.5|               0.1|              1.2|              0.03|               5.0|\n",
      "|    50%|               6.1|               1.7|              5.0|             0.305|               6.0|\n",
      "|    75%|             100.0|              96.0|            100.0|             100.0|              12.0|\n",
      "|    max|             100.0|              96.0|            100.0|             100.0|              12.0|\n",
      "+-------+------------------+------------------+-----------------+------------------+------------------+\n",
      "\n"
     ]
    }
   ],
   "source": [
    "print (\"Summary of columns fat_100g, saturated_fat_100g, sugars_100g, salt_100g and total_health_score in 2017:\")\n",
    "foodDF2017.select(\"fat_100g\",\"saturated_fat_100g\",\"sugars_100g\",\"salt_100g\", \"total_health_score\").summary().show()"
   ]
  },
  {
   "cell_type": "code",
   "execution_count": 500,
   "metadata": {},
   "outputs": [
    {
     "name": "stdout",
     "output_type": "stream",
     "text": [
      "+---------------+-----+\n",
      "|  is_it_healthy|count|\n",
      "+---------------+-----+\n",
      "|        healthy| 3664|\n",
      "|      unhealthy| 1502|\n",
      "|not enough info| 1455|\n",
      "|         medium| 1944|\n",
      "+---------------+-----+\n",
      "\n"
     ]
    }
   ],
   "source": [
    "foodDF2017c = foodDF2017.groupBy(\"is_it_healthy\").count()\n",
    "foodDF2017c.show()"
   ]
  },
  {
   "cell_type": "code",
   "execution_count": 501,
   "metadata": {},
   "outputs": [
    {
     "name": "stdout",
     "output_type": "stream",
     "text": [
      "+---------------+-----+-----------------------+\n",
      "|  is_it_healthy|count|(count / sum_the_count)|\n",
      "+---------------+-----+-----------------------+\n",
      "|        healthy| 3664|    0.42778750729713955|\n",
      "|      unhealthy| 1502|    0.17536485697606538|\n",
      "|not enough info| 1455|    0.16987740805604204|\n",
      "|         medium| 1944|    0.22697022767075306|\n",
      "+---------------+-----+-----------------------+\n",
      "\n"
     ]
    }
   ],
   "source": [
    "foodDF2017c = foodDF2017c.crossJoin(foodDF2017c.groupby().agg(sum('count').alias('sum_the_count')))\n",
    "foodDF2017c_div = foodDF2017c.select('is_it_healthy', \n",
    "                                     'count', \n",
    "                                     col('count') / col('sum_the_count'))\n",
    "foodDF2017c_div.show()"
   ]
  },
  {
   "cell_type": "markdown",
   "metadata": {},
   "source": [
    "Year 2018"
   ]
  },
  {
   "cell_type": "code",
   "execution_count": 198,
   "metadata": {},
   "outputs": [],
   "source": [
    "foodDF2018 = df_sum.filter(df_sum[\"created_datetime\"] >= lit('2012-01-01')) \\\n",
    "       .filter(df_sum[\"created_datetime\"] <= lit('2018-12-31'))"
   ]
  },
  {
   "cell_type": "code",
   "execution_count": 199,
   "metadata": {},
   "outputs": [
    {
     "name": "stdout",
     "output_type": "stream",
     "text": [
      "Summary of columns fat_100g, saturated_fat_100g, sugars_100g, salt_100g and total_health_score in 2018:\n",
      "+-------+------------------+------------------+------------------+-----------------+------------------+\n",
      "|summary|          fat_100g|saturated_fat_100g|       sugars_100g|        salt_100g|total_health_score|\n",
      "+-------+------------------+------------------+------------------+-----------------+------------------+\n",
      "|  count|             13488|             13590|             13603|            13516|             15885|\n",
      "|   mean|13.736815162505561| 5.167856849621645|13.597044731764345|1.063997237921038| 5.338432483474977|\n",
      "| stddev| 18.00916663575333|14.381308842898015|19.074524202584616|4.381513820652067|2.6756428958517313|\n",
      "|    min|               0.0|               0.0|               0.0|              0.0|               0.0|\n",
      "|    25%|               0.5|  0.10000000149012|               1.0|0.035000000149012|               4.0|\n",
      "|    50%|               6.0|               1.7|               4.6|              0.4|               5.0|\n",
      "|    75%|              22.0|               7.0|              18.0|             1.13|               7.0|\n",
      "|    max|             213.0|            1400.0|             100.0|            180.0|              12.0|\n",
      "+-------+------------------+------------------+------------------+-----------------+------------------+\n",
      "\n"
     ]
    }
   ],
   "source": [
    "print (\"Summary of columns fat_100g, saturated_fat_100g, sugars_100g, salt_100g and total_health_score in 2018:\")\n",
    "foodDF2018.select(\"fat_100g\",\"saturated_fat_100g\",\"sugars_100g\",\"salt_100g\", \"total_health_score\").summary().show()"
   ]
  },
  {
   "cell_type": "code",
   "execution_count": 200,
   "metadata": {},
   "outputs": [
    {
     "name": "stdout",
     "output_type": "stream",
     "text": [
      "+---------------+-----+\n",
      "|  is_it_healthy|count|\n",
      "+---------------+-----+\n",
      "|        healthy| 7925|\n",
      "|      unhealthy| 1731|\n",
      "|not enough info| 2637|\n",
      "|         medium| 3592|\n",
      "+---------------+-----+\n",
      "\n"
     ]
    }
   ],
   "source": [
    "foodDF2018c = foodDF2018.groupBy(\"is_it_healthy\").count()\n",
    "foodDF2018c.show()"
   ]
  },
  {
   "cell_type": "code",
   "execution_count": 201,
   "metadata": {},
   "outputs": [
    {
     "name": "stdout",
     "output_type": "stream",
     "text": [
      "+---------------+-----+-----------------------+\n",
      "|  is_it_healthy|count|(count / sum_the_count)|\n",
      "+---------------+-----+-----------------------+\n",
      "|        healthy| 7925|     0.4988983317595216|\n",
      "|      unhealthy| 1731|    0.10897072710103872|\n",
      "|not enough info| 2637|     0.1660056657223796|\n",
      "|         medium| 3592|    0.22612527541706012|\n",
      "+---------------+-----+-----------------------+\n",
      "\n"
     ]
    }
   ],
   "source": [
    "foodDF2018c = foodDF2018c.crossJoin(foodDF2018c.groupby().agg(sum('count').alias('sum_the_count')))\n",
    "foodDF2018c_div = foodDF2018c.select('is_it_healthy', \n",
    "                                     'count', \n",
    "                                     col('count') / col('sum_the_count'))\n",
    "foodDF2018c_div.show()"
   ]
  },
  {
   "cell_type": "markdown",
   "metadata": {},
   "source": [
    "Year 2019"
   ]
  },
  {
   "cell_type": "code",
   "execution_count": 489,
   "metadata": {},
   "outputs": [],
   "source": [
    "foodDF2019 = df_sum.filter(df_sum[\"created_datetime\"] >= lit('2012-01-01')) \\\n",
    "       .filter(df_sum[\"created_datetime\"] <= lit('2019-12-31'))"
   ]
  },
  {
   "cell_type": "code",
   "execution_count": 490,
   "metadata": {},
   "outputs": [
    {
     "name": "stdout",
     "output_type": "stream",
     "text": [
      "Summary of columns fat_100g, saturated_fat_100g, sugars_100g, salt_100g and total_health_score in 2019:\n",
      "+-------+------------------+------------------+------------------+------------------+------------------+\n",
      "|summary|          fat_100g|saturated_fat_100g|       sugars_100g|         salt_100g|total_health_score|\n",
      "+-------+------------------+------------------+------------------+------------------+------------------+\n",
      "|  count|             31878|             31970|             31975|             32203|             31970|\n",
      "|   mean|13.987081914657818| 4.997697509557275|12.648735254086128|1.1056083344576924| 6.536158898967782|\n",
      "| stddev| 18.36534478578826|11.130474884592761|18.920514256211185|3.9449737201861232|1.8922349340231648|\n",
      "|    min|               0.0|               0.0|               0.0|               0.0|               1.0|\n",
      "|    25%|               0.6|  0.10000000149012|               0.9|              0.03|               5.0|\n",
      "|    50%|               6.6|               1.7|               3.7|               0.4|               6.0|\n",
      "|    75%|              22.0|               6.7|              15.0|   1.2000000476837|               8.0|\n",
      "|    max|             225.0|            1400.0|             119.0|             180.0|              12.0|\n",
      "+-------+------------------+------------------+------------------+------------------+------------------+\n",
      "\n"
     ]
    }
   ],
   "source": [
    "print (\"Summary of columns fat_100g, saturated_fat_100g, sugars_100g, salt_100g and total_health_score in 2019:\")\n",
    "foodDF2019.select(\"fat_100g\",\"saturated_fat_100g\",\"sugars_100g\",\"salt_100g\", \"total_health_score\").summary().show()"
   ]
  },
  {
   "cell_type": "code",
   "execution_count": 491,
   "metadata": {},
   "outputs": [
    {
     "name": "stdout",
     "output_type": "stream",
     "text": [
      "+---------------+-----+\n",
      "|  is_it_healthy|count|\n",
      "+---------------+-----+\n",
      "|        healthy|17181|\n",
      "|      unhealthy| 5677|\n",
      "|not enough info| 7340|\n",
      "|         medium| 8717|\n",
      "+---------------+-----+\n",
      "\n"
     ]
    }
   ],
   "source": [
    "foodDF2019c = foodDF2019.groupBy(\"is_it_healthy\").count()\n",
    "foodDF2019c.show()"
   ]
  },
  {
   "cell_type": "code",
   "execution_count": 492,
   "metadata": {},
   "outputs": [
    {
     "name": "stdout",
     "output_type": "stream",
     "text": [
      "+---------------+-----+-----------------------+\n",
      "|  is_it_healthy|count|(count / sum_the_count)|\n",
      "+---------------+-----+-----------------------+\n",
      "|        healthy|17181|     0.4415007066683798|\n",
      "|      unhealthy| 5677|    0.14588205062315301|\n",
      "|not enough info| 7340|    0.18861621482718746|\n",
      "|         medium| 8717|     0.2240010278812797|\n",
      "+---------------+-----+-----------------------+\n",
      "\n"
     ]
    }
   ],
   "source": [
    "foodDF2019c = foodDF2019c.crossJoin(foodDF2019c.groupby().agg(sum('count').alias('sum_the_count')))\n",
    "foodDF2019c_div = foodDF2019c.select('is_it_healthy', \n",
    "                                     'count', \n",
    "                                     col('count') / col('sum_the_count'))\n",
    "foodDF2019c_div.show()"
   ]
  },
  {
   "cell_type": "markdown",
   "metadata": {},
   "source": [
    "Year 2020"
   ]
  },
  {
   "cell_type": "code",
   "execution_count": 202,
   "metadata": {},
   "outputs": [],
   "source": [
    "foodDF2020 = df_sum.filter(df_sum[\"created_datetime\"] >= lit('2012-01-01')) \\\n",
    "       .filter(df_sum[\"created_datetime\"] <= lit('2020-12-31'))"
   ]
  },
  {
   "cell_type": "code",
   "execution_count": 203,
   "metadata": {},
   "outputs": [
    {
     "name": "stdout",
     "output_type": "stream",
     "text": [
      "Summary of columns fat_100g, saturated_fat_100g, sugars_100g, salt_100g and total_health_score in 2020:\n",
      "+-------+------------------+------------------+------------------+------------------+------------------+\n",
      "|summary|          fat_100g|saturated_fat_100g|       sugars_100g|         salt_100g|total_health_score|\n",
      "+-------+------------------+------------------+------------------+------------------+------------------+\n",
      "|  count|             40724|             40946|             40793|             40507|             50229|\n",
      "|   mean|14.053578913290401| 4.984569887839159|12.472283312359176|1.1148413373261432| 5.027294988950606|\n",
      "| stddev|18.343028299254286|10.525789324483036|18.899951180151753|3.7717796977421627|2.7936006155751656|\n",
      "|    min|               0.0|               0.0|               0.0|               0.0|               0.0|\n",
      "|    25%|               0.7|  0.10000000149012|  0.80000001192093|              0.03|               4.0|\n",
      "|    50%|               6.8|               1.7|               3.5|              0.46|               5.0|\n",
      "|    75%|              22.0|               6.6|              14.1|               1.3|               7.0|\n",
      "|    max|             225.0|            1400.0|             119.0|             180.0|              12.0|\n",
      "+-------+------------------+------------------+------------------+------------------+------------------+\n",
      "\n"
     ]
    }
   ],
   "source": [
    "print (\"Summary of columns fat_100g, saturated_fat_100g, sugars_100g, salt_100g and total_health_score in 2020:\")\n",
    "foodDF2020.select(\"fat_100g\",\"saturated_fat_100g\",\"sugars_100g\",\"salt_100g\", \"total_health_score\").summary().show()"
   ]
  },
  {
   "cell_type": "code",
   "execution_count": 204,
   "metadata": {},
   "outputs": [
    {
     "name": "stdout",
     "output_type": "stream",
     "text": [
      "+---------------+-----+\n",
      "|  is_it_healthy|count|\n",
      "+---------------+-----+\n",
      "|        healthy|23984|\n",
      "|      unhealthy| 4245|\n",
      "|not enough info|10709|\n",
      "|         medium|11291|\n",
      "+---------------+-----+\n",
      "\n"
     ]
    }
   ],
   "source": [
    "foodDF2020c = foodDF2020.groupBy(\"is_it_healthy\").count()\n",
    "foodDF2020c.show()"
   ]
  },
  {
   "cell_type": "code",
   "execution_count": 205,
   "metadata": {},
   "outputs": [
    {
     "name": "stdout",
     "output_type": "stream",
     "text": [
      "+---------------+-----+-----------------------+\n",
      "|  is_it_healthy|count|(count / sum_the_count)|\n",
      "+---------------+-----+-----------------------+\n",
      "|        healthy|23984|     0.4774930816858787|\n",
      "|      unhealthy| 4245|    0.08451293077704115|\n",
      "|not enough info|10709|    0.21320352784248142|\n",
      "|         medium|11291|    0.22479045969459874|\n",
      "+---------------+-----+-----------------------+\n",
      "\n"
     ]
    }
   ],
   "source": [
    "foodDF2020c = foodDF2020c.crossJoin(foodDF2020c.groupby().agg(sum('count').alias('sum_the_count')))\n",
    "foodDF2020c_div = foodDF2020c.select('is_it_healthy', \n",
    "                                     'count', \n",
    "                                     col('count') / col('sum_the_count'))\n",
    "foodDF2020c_div.show()"
   ]
  },
  {
   "cell_type": "markdown",
   "metadata": {},
   "source": [
    "##### Characterization of products by it's \"level\" of healthiness"
   ]
  },
  {
   "cell_type": "markdown",
   "metadata": {},
   "source": [
    "First we assign the column category again"
   ]
  },
  {
   "cell_type": "code",
   "execution_count": 206,
   "metadata": {},
   "outputs": [],
   "source": [
    "df_cat = df_sum.select('code','Product_name','fat_100g','saturated_fat_100g','sugars_100g','salt_100g', 'total_health_score', 'is_it_healthy', \n",
    "                 explode(split(\"categories_en\", \",\")).alias('categories'))\n",
    "\n",
    "\n",
    "df_cat= df_cat.withColumn('categories',when(col('categories').contains(':'),None).otherwise(col('categories')))"
   ]
  },
  {
   "cell_type": "markdown",
   "metadata": {},
   "source": [
    "Characterization of unhealthy products"
   ]
  },
  {
   "cell_type": "code",
   "execution_count": 207,
   "metadata": {},
   "outputs": [
    {
     "name": "stdout",
     "output_type": "stream",
     "text": [
      "Summary of columns fat_100g, saturated_fat_100g, sugars_100g, salt_100g and total_health_score for unhealthy products is:\n",
      "+-------+------------------+------------------+-----------------+-----------------+------------------+\n",
      "|summary|          fat_100g|saturated_fat_100g|      sugars_100g|        salt_100g|total_health_score|\n",
      "+-------+------------------+------------------+-----------------+-----------------+------------------+\n",
      "|  count|              4245|              4245|             4245|             4163|              4245|\n",
      "|   mean|29.882794084334183|15.371141379728499|34.35212223467521|1.163438912314153| 9.261719670200236|\n",
      "| stddev| 9.808676584871757| 8.123913831269643|15.15908344119495|5.378296886360835|0.4711841236909034|\n",
      "|    min|               3.4|               0.2|              0.0|              0.0|               8.0|\n",
      "|    25%|              22.8|              10.0|             25.0| 0.10000000149012|               9.0|\n",
      "|    50%|              29.0|              14.8|             34.0|              0.3|               9.0|\n",
      "|    75%|              35.0|              19.0|            46.42|             0.66|              10.0|\n",
      "|    max|             213.0|              93.9|             93.3|            180.0|              12.0|\n",
      "+-------+------------------+------------------+-----------------+-----------------+------------------+\n",
      "\n"
     ]
    }
   ],
   "source": [
    "print (\"Summary of columns fat_100g, saturated_fat_100g, sugars_100g, salt_100g and total_health_score for unhealthy products is:\")\n",
    "df_sum.select(\"fat_100g\",\"saturated_fat_100g\",\"sugars_100g\",\"salt_100g\", \"total_health_score\").filter(col('is_it_healthy')=='unhealthy').summary().show()"
   ]
  },
  {
   "cell_type": "code",
   "execution_count": 208,
   "metadata": {},
   "outputs": [
    {
     "name": "stdout",
     "output_type": "stream",
     "text": [
      "+------------------+------------------+\n",
      "|categories        |Number_of_products|\n",
      "+------------------+------------------+\n",
      "|Snacks            |1115              |\n",
      "|Sweet snacks      |1097              |\n",
      "|Biscuits and cakes|511               |\n",
      "|Chocolates        |436               |\n",
      "|null              |334               |\n",
      "|Biscuits          |332               |\n",
      "|Confectioneries   |237               |\n",
      "|Dark chocolates   |212               |\n",
      "|Chocolate candies |202               |\n",
      "|Breakfasts        |180               |\n",
      "+------------------+------------------+\n",
      "only showing top 10 rows\n",
      "\n"
     ]
    }
   ],
   "source": [
    "df_cat.select('categories', 'code')\\\n",
    "                 .filter(col('is_it_healthy')=='unhealthy')\\\n",
    "                 .groupBy('categories')\\\n",
    "                 .agg(countDistinct('code').alias('Number_of_products')).sort(col('Number_of_products'),ascending=False).show(10, truncate=False)\n",
    "                "
   ]
  },
  {
   "cell_type": "code",
   "execution_count": 211,
   "metadata": {},
   "outputs": [
    {
     "name": "stdout",
     "output_type": "stream",
     "text": [
      "+-----------------------------------+------------------+\n",
      "|                       Product_name|total_health_score|\n",
      "+-----------------------------------+------------------+\n",
      "|                 kerrie ananas saus|              12.0|\n",
      "|              No9. Ginger chocolate|              11.0|\n",
      "|               Biscuits assortiment|              11.0|\n",
      "|                         NAN A.R. 2|              11.0|\n",
      "|                        Paquito Bio|              11.0|\n",
      "|                          Miniature|              11.0|\n",
      "|Nestlé Nan Pro 3 Lait De Croissance|              11.0|\n",
      "|         Teriyaki sauce et marinade|              11.0|\n",
      "|                    Merde de cheval|              11.0|\n",
      "|                    Bite de toureau|              11.0|\n",
      "+-----------------------------------+------------------+\n",
      "only showing top 10 rows\n",
      "\n"
     ]
    }
   ],
   "source": [
    "df_sum.select('Product_name','total_health_score').filter(col('is_it_healthy')=='unhealthy').sort(col(\"total_health_score\"), ascending=False).show(10, truncate=50)"
   ]
  },
  {
   "cell_type": "markdown",
   "metadata": {},
   "source": [
    "Characterization of medium products"
   ]
  },
  {
   "cell_type": "code",
   "execution_count": 212,
   "metadata": {},
   "outputs": [
    {
     "name": "stdout",
     "output_type": "stream",
     "text": [
      "Summary of columns fat_100g, saturated_fat_100g, sugars_100g, salt_100g and total_health_score for unhealthy products is:\n",
      "+-------+------------------+------------------+------------------+------------------+------------------+\n",
      "|summary|          fat_100g|saturated_fat_100g|       sugars_100g|         salt_100g|total_health_score|\n",
      "+-------+------------------+------------------+------------------+------------------+------------------+\n",
      "|  count|             11291|             11291|             11291|             11291|             11291|\n",
      "|   mean|29.627886091181356|   9.8292785997776|  9.70152372104871|1.7194558218972111|7.4807368700735095|\n",
      "| stddev|22.480830057413282|16.364770387348134|14.832115140561282| 4.227644467200491|0.4996509205918375|\n",
      "|    min|               0.0|               0.0|               0.0|               0.0|               7.0|\n",
      "|    25%|              14.0|               4.0|               0.5|              0.21|               7.0|\n",
      "|    50%|              24.0|               7.0|               3.1|              1.08|               7.0|\n",
      "|    75%|              35.0|              13.0|              13.0|   1.8999999761581|               8.0|\n",
      "|    max|             225.0|            1400.0|             119.0|             100.0|               8.0|\n",
      "+-------+------------------+------------------+------------------+------------------+------------------+\n",
      "\n"
     ]
    }
   ],
   "source": [
    "print (\"Summary of columns fat_100g, saturated_fat_100g, sugars_100g, salt_100g and total_health_score for unhealthy products is:\")\n",
    "df_sum.select(\"fat_100g\",\"saturated_fat_100g\",\"sugars_100g\",\"salt_100g\", \"total_health_score\").filter(col('is_it_healthy')=='medium').summary().show()"
   ]
  },
  {
   "cell_type": "code",
   "execution_count": 213,
   "metadata": {},
   "outputs": [
    {
     "name": "stdout",
     "output_type": "stream",
     "text": [
      "+-------------------------------+------------------+\n",
      "|categories                     |Number_of_products|\n",
      "+-------------------------------+------------------+\n",
      "|Dairies                        |966               |\n",
      "|Plant-based foods and beverages|956               |\n",
      "|Plant-based foods              |940               |\n",
      "|null                           |828               |\n",
      "|Fermented foods                |801               |\n",
      "|Fermented milk products        |801               |\n",
      "|Cheeses                        |699               |\n",
      "|Snacks                         |681               |\n",
      "|Groceries                      |472               |\n",
      "|Sweet snacks                   |443               |\n",
      "+-------------------------------+------------------+\n",
      "only showing top 10 rows\n",
      "\n"
     ]
    }
   ],
   "source": [
    "df_cat.select('categories', 'code')\\\n",
    "                 .filter(col('is_it_healthy')=='medium')\\\n",
    "                 .groupBy('categories')\\\n",
    "                 .agg(countDistinct('code').alias('Number_of_products')).sort(col('Number_of_products'),ascending=False).show(10, truncate=False)\n",
    "                "
   ]
  },
  {
   "cell_type": "code",
   "execution_count": 449,
   "metadata": {},
   "outputs": [
    {
     "name": "stdout",
     "output_type": "stream",
     "text": [
      "+--------------------------------------------------+------------------+\n",
      "|                                      Product_name|total_health_score|\n",
      "+--------------------------------------------------+------------------+\n",
      "|                        Doritos spicy sweet chilly|               8.0|\n",
      "|                      The Original Caesar Dressing|               8.0|\n",
      "|                    Hershey's milk chocolate drops|               8.0|\n",
      "|      Frosted vanilla milkshake, vanilla milkshake|               8.0|\n",
      "|                                     Caffé Monster|               8.0|\n",
      "|Frosted sparkle-licious cherry toaster pastries...|               8.0|\n",
      "|                                         Zakouskis|               8.0|\n",
      "|         Toaster pastries, frosted chocolate fudge|               8.0|\n",
      "|                                    Nosh-kes rings|               8.0|\n",
      "|      Weight Watchers Cookies Aux Raisins Cannelle|               8.0|\n",
      "+--------------------------------------------------+------------------+\n",
      "only showing top 10 rows\n",
      "\n"
     ]
    }
   ],
   "source": [
    "df_sum.select('Product_name','total_health_score').filter(col('is_it_healthy')=='medium').sort(col(\"total_health_score\"), ascending=False).show(10, truncate=50)"
   ]
  },
  {
   "cell_type": "markdown",
   "metadata": {},
   "source": [
    "Characterization of Healthy products"
   ]
  },
  {
   "cell_type": "code",
   "execution_count": 442,
   "metadata": {},
   "outputs": [
    {
     "name": "stdout",
     "output_type": "stream",
     "text": [
      "Summary of columns fat_100g, saturated_fat_100g, sugars_100g, salt_100g and total_health_score for unhealthy products is:\n",
      "+-------+------------------+------------------+------------------+------------------+------------------+\n",
      "|summary|          fat_100g|saturated_fat_100g|       sugars_100g|         salt_100g|total_health_score|\n",
      "+-------+------------------+------------------+------------------+------------------+------------------+\n",
      "|  count|             21280|             21280|             21280|             21280|             21280|\n",
      "|   mean|3.0127977407390385|0.6965711231589684| 10.39675497817577|0.7818411880450713| 5.067434210526316|\n",
      "| stddev| 4.767949564690556|0.9980874633473102|19.299029017829515|2.9806641703753076|0.7916641200320553|\n",
      "|    min|               0.0|               0.0|               0.0|               0.0|               4.0|\n",
      "|    25%|               0.1|               0.0|               0.7|              0.01|               4.0|\n",
      "|    50%|               1.1|  0.20000000298023|               2.7|              0.16|               5.0|\n",
      "|    75%|               4.0|               1.0|               9.2|               1.0|               6.0|\n",
      "|    max|             100.0|               5.0|             100.0|             100.0|               6.0|\n",
      "+-------+------------------+------------------+------------------+------------------+------------------+\n",
      "\n"
     ]
    }
   ],
   "source": [
    "print (\"Summary of columns fat_100g, saturated_fat_100g, sugars_100g, salt_100g and total_health_score for unhealthy products is:\")\n",
    "df_sum.select(\"fat_100g\",\"saturated_fat_100g\",\"sugars_100g\",\"salt_100g\", \"total_health_score\").filter(col('is_it_healthy')=='healthy').summary().show()"
   ]
  },
  {
   "cell_type": "code",
   "execution_count": 457,
   "metadata": {},
   "outputs": [
    {
     "name": "stdout",
     "output_type": "stream",
     "text": [
      "+---------------------------+------------------+\n",
      "|                 categories|Number_of_products|\n",
      "+---------------------------+------------------+\n",
      "|              Garlic powder|                 1|\n",
      "|                  Tortillas|                 1|\n",
      "|       Farine-usage-special|                 1|\n",
      "|                  Meal kits|                 1|\n",
      "|    Fried plant-based foods|                 1|\n",
      "|      Passion fruit sorbets|                 1|\n",
      "|Gemusebasierte-lebensmittel|                 1|\n",
      "|       Snails from Burgundy|                 1|\n",
      "|           Chinese raviolis|                 1|\n",
      "|              Panini breads|                 1|\n",
      "+---------------------------+------------------+\n",
      "only showing top 10 rows\n",
      "\n"
     ]
    }
   ],
   "source": [
    "df_cat.select('categories', 'code')\\\n",
    "                 .filter(col('is_it_healthy')=='healthy')\\\n",
    "                 .groupBy('categories')\\\n",
    "                 .agg(countDistinct('code').alias('Number_of_products')).sort(col('Number_of_products')).show(10, truncate=50)\n",
    "                "
   ]
  },
  {
   "cell_type": "code",
   "execution_count": 456,
   "metadata": {},
   "outputs": [
    {
     "name": "stdout",
     "output_type": "stream",
     "text": [
      "+-----------------------------------------+------------------+\n",
      "|                             Product_name|total_health_score|\n",
      "+-----------------------------------------+------------------+\n",
      "|                Peches demi-fruits Au jus|               4.0|\n",
      "|Fruit de Jacques vert dans de l'eau salée|               4.0|\n",
      "|                        Roasted vegetable|               4.0|\n",
      "|                            Tabasco sauce|               4.0|\n",
      "|                  Cramberry Classic light|               4.0|\n",
      "+-----------------------------------------+------------------+\n",
      "only showing top 5 rows\n",
      "\n"
     ]
    }
   ],
   "source": [
    "df_sum.select('Product_name','total_health_score').filter(col('is_it_healthy')=='healthy').sort(col(\"total_health_score\")).show(5, truncate=50)"
   ]
  },
  {
   "cell_type": "markdown",
   "metadata": {},
   "source": [
    "# THANK YOU\n",
    "\n",
    "#### TEAM B:\n",
    "* Nicolas Boer\n",
    "* Alberto de Ronni\n",
    "* Laura Frazer\n",
    "* Stefano Magnan\n",
    "* Rebecca Rosser\n",
    "* Eleonora Jiménez"
   ]
  },
  {
   "cell_type": "code",
   "execution_count": null,
   "metadata": {},
   "outputs": [],
   "source": []
  }
 ],
 "metadata": {
  "kernelspec": {
   "display_name": "Python 3",
   "language": "python",
   "name": "python3"
  },
  "language_info": {
   "codemirror_mode": {
    "name": "ipython",
    "version": 3
   },
   "file_extension": ".py",
   "mimetype": "text/x-python",
   "name": "python",
   "nbconvert_exporter": "python",
   "pygments_lexer": "ipython3",
   "version": "3.7.3"
  }
 },
 "nbformat": 4,
 "nbformat_minor": 4
}
